{
 "cells": [
  {
   "cell_type": "markdown",
   "metadata": {
    "colab_type": "text",
    "id": "KUevc8JVanQw"
   },
   "source": [
    "**Twitter-Sentiment-Analysis**\n",
    "\n",
    "https://datahack.analyticsvidhya.com/contest/practice-problem-twitter-sentiment-analysis/\n",
    "\n"
   ]
  },
  {
   "cell_type": "code",
   "execution_count": 73,
   "metadata": {
    "colab": {
     "base_uri": "https://localhost:8080/",
     "height": 54
    },
    "colab_type": "code",
    "id": "GMA3MVC1wTSR",
    "outputId": "897023fd-5d09-4540-8991-98a1463f79a5"
   },
   "outputs": [
    {
     "name": "stdout",
     "output_type": "stream",
     "text": [
      "Drive already mounted at /content/drive; to attempt to forcibly remount, call drive.mount(\"/content/drive\", force_remount=True).\n"
     ]
    }
   ],
   "source": [
    "#from google.colab import drive\n",
    "#drive.mount('/content/drive')"
   ]
  },
  {
   "cell_type": "code",
   "execution_count": 1,
   "metadata": {
    "colab": {},
    "colab_type": "code",
    "id": "SL0g_dpOM4tM"
   },
   "outputs": [],
   "source": [
    "import re # for regular expressions\n",
    "import pandas as pd \n",
    "pd.set_option(\"display.max_colwidth\", 200)\n",
    "import numpy as np \n",
    "import matplotlib.pyplot as plt \n",
    "import seaborn as sns\n",
    "import string\n",
    "import nltk # for text manipulation\n",
    "import warnings \n",
    "warnings.filterwarnings(\"ignore\", category=DeprecationWarning)\n",
    "\n",
    "%matplotlib inline"
   ]
  },
  {
   "cell_type": "code",
   "execution_count": 21,
   "metadata": {
    "colab": {},
    "colab_type": "code",
    "id": "VVVXZiQeNSFR"
   },
   "outputs": [],
   "source": [
    "#train  = pd.read_csv(\"drive/My Drive/datasets/Twitter-Sentiment-Analysis/train_E6oV3lV.csv\")\n",
    "#test = pd.read_csv(\"drive/My Drive/datasets/Twitter-Sentiment-Analysis/test_tweets_anuFYb8.csv\")\n",
    "train  = pd.read_csv(\"train.csv\",encoding='utf-8')\n",
    "test  = pd.read_csv(\"test.csv\",encoding='utf-8')\n"
   ]
  },
  {
   "cell_type": "code",
   "execution_count": 22,
   "metadata": {
    "colab": {
     "base_uri": "https://localhost:8080/",
     "height": 34
    },
    "colab_type": "code",
    "id": "cuD41l9bdSM4",
    "outputId": "7201498c-78f8-4146-f211-1b7efbd02887"
   },
   "outputs": [
    {
     "data": {
      "text/plain": [
       "((7274, 3), (1819, 2))"
      ]
     },
     "execution_count": 22,
     "metadata": {},
     "output_type": "execute_result"
    }
   ],
   "source": [
    "train.shape, test.shape"
   ]
  },
  {
   "cell_type": "code",
   "execution_count": 24,
   "metadata": {
    "colab": {
     "base_uri": "https://localhost:8080/",
     "height": 142
    },
    "colab_type": "code",
    "id": "XWw_QzTkD6dU",
    "outputId": "5396ef83-c563-4e74-d9e6-9fcae21ccc4f"
   },
   "outputs": [
    {
     "data": {
      "text/html": [
       "<div>\n",
       "<style scoped>\n",
       "    .dataframe tbody tr th:only-of-type {\n",
       "        vertical-align: middle;\n",
       "    }\n",
       "\n",
       "    .dataframe tbody tr th {\n",
       "        vertical-align: top;\n",
       "    }\n",
       "\n",
       "    .dataframe thead th {\n",
       "        text-align: right;\n",
       "    }\n",
       "</style>\n",
       "<table border=\"1\" class=\"dataframe\">\n",
       "  <thead>\n",
       "    <tr style=\"text-align: right;\">\n",
       "      <th></th>\n",
       "      <th>tweet_id</th>\n",
       "      <th>tweet</th>\n",
       "      <th>sentiment</th>\n",
       "    </tr>\n",
       "  </thead>\n",
       "  <tbody>\n",
       "    <tr>\n",
       "      <td>0</td>\n",
       "      <td>1701</td>\n",
       "      <td>#sxswnui #sxsw #apple defining language of touch with different dialects becoming smaller</td>\n",
       "      <td>1</td>\n",
       "    </tr>\n",
       "    <tr>\n",
       "      <td>1</td>\n",
       "      <td>1851</td>\n",
       "      <td>Learning ab Google doodles! All doodles should be light, funny &amp;amp; innovative, with exceptions for significant occasions. #GoogleDoodle #sxsw</td>\n",
       "      <td>1</td>\n",
       "    </tr>\n",
       "    <tr>\n",
       "      <td>2</td>\n",
       "      <td>2689</td>\n",
       "      <td>one of the most in-your-face ex. of stealing the show in yrs RT @mention &amp;quot;At #SXSW, Apple schools the mkt experts&amp;quot;  {link}</td>\n",
       "      <td>2</td>\n",
       "    </tr>\n",
       "  </tbody>\n",
       "</table>\n",
       "</div>"
      ],
      "text/plain": [
       "   tweet_id  \\\n",
       "0      1701   \n",
       "1      1851   \n",
       "2      2689   \n",
       "\n",
       "                                                                                                                                             tweet  \\\n",
       "0                                                        #sxswnui #sxsw #apple defining language of touch with different dialects becoming smaller   \n",
       "1  Learning ab Google doodles! All doodles should be light, funny &amp; innovative, with exceptions for significant occasions. #GoogleDoodle #sxsw   \n",
       "2             one of the most in-your-face ex. of stealing the show in yrs RT @mention &quot;At #SXSW, Apple schools the mkt experts&quot;  {link}   \n",
       "\n",
       "   sentiment  \n",
       "0          1  \n",
       "1          1  \n",
       "2          2  "
      ]
     },
     "execution_count": 24,
     "metadata": {},
     "output_type": "execute_result"
    }
   ],
   "source": [
    "train.head(3)"
   ]
  },
  {
   "cell_type": "code",
   "execution_count": 25,
   "metadata": {
    "colab": {
     "base_uri": "https://localhost:8080/",
     "height": 142
    },
    "colab_type": "code",
    "id": "_DHnDiYWD-KQ",
    "outputId": "02050f08-1248-432d-eb60-772453335757"
   },
   "outputs": [
    {
     "data": {
      "text/html": [
       "<div>\n",
       "<style scoped>\n",
       "    .dataframe tbody tr th:only-of-type {\n",
       "        vertical-align: middle;\n",
       "    }\n",
       "\n",
       "    .dataframe tbody tr th {\n",
       "        vertical-align: top;\n",
       "    }\n",
       "\n",
       "    .dataframe thead th {\n",
       "        text-align: right;\n",
       "    }\n",
       "</style>\n",
       "<table border=\"1\" class=\"dataframe\">\n",
       "  <thead>\n",
       "    <tr style=\"text-align: right;\">\n",
       "      <th></th>\n",
       "      <th>tweet_id</th>\n",
       "      <th>tweet</th>\n",
       "    </tr>\n",
       "  </thead>\n",
       "  <tbody>\n",
       "    <tr>\n",
       "      <td>0</td>\n",
       "      <td>7506</td>\n",
       "      <td>Audience Q: What prototyping tools do you use? Sketchbooks/sharpie pens, photoshop, Balsamic, Google docs, Axsure, etc. #myprototype #sxsw</td>\n",
       "    </tr>\n",
       "    <tr>\n",
       "      <td>1</td>\n",
       "      <td>7992</td>\n",
       "      <td>At SXSW? Send Your Best Photos &amp;amp; Videos to... {link} #citizen_journalism #cnn #ireport #photography #sxsw #Cyber #iPhone</td>\n",
       "    </tr>\n",
       "    <tr>\n",
       "      <td>2</td>\n",
       "      <td>247</td>\n",
       "      <td>@mention  and here's a pic of you winning your ipad! #unsix #sxsw cc @mention @mention  {link} (cont) {link}</td>\n",
       "    </tr>\n",
       "  </tbody>\n",
       "</table>\n",
       "</div>"
      ],
      "text/plain": [
       "   tweet_id  \\\n",
       "0      7506   \n",
       "1      7992   \n",
       "2       247   \n",
       "\n",
       "                                                                                                                                        tweet  \n",
       "0  Audience Q: What prototyping tools do you use? Sketchbooks/sharpie pens, photoshop, Balsamic, Google docs, Axsure, etc. #myprototype #sxsw  \n",
       "1                At SXSW? Send Your Best Photos &amp; Videos to... {link} #citizen_journalism #cnn #ireport #photography #sxsw #Cyber #iPhone  \n",
       "2                                @mention  and here's a pic of you winning your ipad! #unsix #sxsw cc @mention @mention  {link} (cont) {link}  "
      ]
     },
     "execution_count": 25,
     "metadata": {},
     "output_type": "execute_result"
    }
   ],
   "source": [
    "test.head(3)"
   ]
  },
  {
   "cell_type": "code",
   "execution_count": 26,
   "metadata": {
    "colab": {
     "base_uri": "https://localhost:8080/",
     "height": 68
    },
    "colab_type": "code",
    "id": "9XF3R-oXhVwl",
    "outputId": "c5f56f77-ec04-4121-8033-2765d0873742"
   },
   "outputs": [
    {
     "data": {
      "text/plain": [
       "1    4311\n",
       "2    2382\n",
       "0     456\n",
       "3     125\n",
       "Name: sentiment, dtype: int64"
      ]
     },
     "execution_count": 26,
     "metadata": {},
     "output_type": "execute_result"
    }
   ],
   "source": [
    "train[\"sentiment\"].value_counts()"
   ]
  },
  {
   "cell_type": "code",
   "execution_count": 27,
   "metadata": {
    "colab": {
     "base_uri": "https://localhost:8080/",
     "height": 190
    },
    "colab_type": "code",
    "id": "BvfheWVUheIz",
    "outputId": "fb0f9395-62d0-4ba5-b256-c95315225bc3"
   },
   "outputs": [
    {
     "data": {
      "text/plain": [
       "(9093, 3)"
      ]
     },
     "execution_count": 27,
     "metadata": {},
     "output_type": "execute_result"
    }
   ],
   "source": [
    "combi = train.append(test, ignore_index=True)\n",
    "combi.shape"
   ]
  },
  {
   "cell_type": "code",
   "execution_count": 28,
   "metadata": {
    "colab": {
     "base_uri": "https://localhost:8080/",
     "height": 159
    },
    "colab_type": "code",
    "id": "blfj5bJsEVkG",
    "outputId": "685c6106-4d36-43c5-f19b-e8cb222f99fc"
   },
   "outputs": [
    {
     "data": {
      "text/html": [
       "<div>\n",
       "<style scoped>\n",
       "    .dataframe tbody tr th:only-of-type {\n",
       "        vertical-align: middle;\n",
       "    }\n",
       "\n",
       "    .dataframe tbody tr th {\n",
       "        vertical-align: top;\n",
       "    }\n",
       "\n",
       "    .dataframe thead th {\n",
       "        text-align: right;\n",
       "    }\n",
       "</style>\n",
       "<table border=\"1\" class=\"dataframe\">\n",
       "  <thead>\n",
       "    <tr style=\"text-align: right;\">\n",
       "      <th></th>\n",
       "      <th>sentiment</th>\n",
       "      <th>tweet</th>\n",
       "      <th>tweet_id</th>\n",
       "    </tr>\n",
       "  </thead>\n",
       "  <tbody>\n",
       "    <tr>\n",
       "      <td>9083</td>\n",
       "      <td>NaN</td>\n",
       "      <td>#Apple to Hawk iPad 2 at #SXSW Festival Popup Store!  {link}  by @mention</td>\n",
       "      <td>615</td>\n",
       "    </tr>\n",
       "    <tr>\n",
       "      <td>9084</td>\n",
       "      <td>NaN</td>\n",
       "      <td>Hey @mention ask Dennis why no iPad app?  #SXSW #checkins</td>\n",
       "      <td>3765</td>\n",
       "    </tr>\n",
       "    <tr>\n",
       "      <td>9085</td>\n",
       "      <td>NaN</td>\n",
       "      <td>RT @mention Find where @mention is playing at #SXSW on the #eventseekr app for Android. We got u! {link}</td>\n",
       "      <td>5719</td>\n",
       "    </tr>\n",
       "    <tr>\n",
       "      <td>9086</td>\n",
       "      <td>NaN</td>\n",
       "      <td>It's not a rumor: Apple is opening up a temporary store in downtown Austin for #SXSW and the iPad 2 launch {link}</td>\n",
       "      <td>1836</td>\n",
       "    </tr>\n",
       "    <tr>\n",
       "      <td>9087</td>\n",
       "      <td>NaN</td>\n",
       "      <td>Apple store coming 2 Austin for SXSW.   RT: &amp;quot;@mention Before It Even Begins, Apple Wins #SXSW {link} on @mention</td>\n",
       "      <td>7614</td>\n",
       "    </tr>\n",
       "    <tr>\n",
       "      <td>9088</td>\n",
       "      <td>NaN</td>\n",
       "      <td>@mention @mention @mention Hmmm....how fast can #apple build a new store in time for #sxsw  {link}</td>\n",
       "      <td>1550</td>\n",
       "    </tr>\n",
       "    <tr>\n",
       "      <td>9089</td>\n",
       "      <td>NaN</td>\n",
       "      <td>Samsung Galaxy S II Appears At FCC And Team Android #SXSW Party {link} via @mention</td>\n",
       "      <td>1933</td>\n",
       "    </tr>\n",
       "    <tr>\n",
       "      <td>9090</td>\n",
       "      <td>NaN</td>\n",
       "      <td>@mention You could buy a new iPad 2 tmrw at the Apple pop-up store at #sxsw: {link}</td>\n",
       "      <td>9052</td>\n",
       "    </tr>\n",
       "    <tr>\n",
       "      <td>9091</td>\n",
       "      <td>NaN</td>\n",
       "      <td>Wow very long queue of people at apple pop up store now, some have bought 3 iPads! #sxsw@mention Room#NokiaConnects</td>\n",
       "      <td>4219</td>\n",
       "    </tr>\n",
       "    <tr>\n",
       "      <td>9092</td>\n",
       "      <td>NaN</td>\n",
       "      <td>Privacy Could Headline Google Circles Social Network Reveal Later Today [Social Networks] {link} #ACLU #GoogleCircles #SXSW</td>\n",
       "      <td>7210</td>\n",
       "    </tr>\n",
       "  </tbody>\n",
       "</table>\n",
       "</div>"
      ],
      "text/plain": [
       "      sentiment  \\\n",
       "9083        NaN   \n",
       "9084        NaN   \n",
       "9085        NaN   \n",
       "9086        NaN   \n",
       "9087        NaN   \n",
       "9088        NaN   \n",
       "9089        NaN   \n",
       "9090        NaN   \n",
       "9091        NaN   \n",
       "9092        NaN   \n",
       "\n",
       "                                                                                                                            tweet  \\\n",
       "9083                                                    #Apple to Hawk iPad 2 at #SXSW Festival Popup Store!  {link}  by @mention   \n",
       "9084                                                                    Hey @mention ask Dennis why no iPad app?  #SXSW #checkins   \n",
       "9085                     RT @mention Find where @mention is playing at #SXSW on the #eventseekr app for Android. We got u! {link}   \n",
       "9086            It's not a rumor: Apple is opening up a temporary store in downtown Austin for #SXSW and the iPad 2 launch {link}   \n",
       "9087        Apple store coming 2 Austin for SXSW.   RT: &quot;@mention Before It Even Begins, Apple Wins #SXSW {link} on @mention   \n",
       "9088                           @mention @mention @mention Hmmm....how fast can #apple build a new store in time for #sxsw  {link}   \n",
       "9089                                          Samsung Galaxy S II Appears At FCC And Team Android #SXSW Party {link} via @mention   \n",
       "9090                                          @mention You could buy a new iPad 2 tmrw at the Apple pop-up store at #sxsw: {link}   \n",
       "9091          Wow very long queue of people at apple pop up store now, some have bought 3 iPads! #sxsw@mention Room#NokiaConnects   \n",
       "9092  Privacy Could Headline Google Circles Social Network Reveal Later Today [Social Networks] {link} #ACLU #GoogleCircles #SXSW   \n",
       "\n",
       "      tweet_id  \n",
       "9083       615  \n",
       "9084      3765  \n",
       "9085      5719  \n",
       "9086      1836  \n",
       "9087      7614  \n",
       "9088      1550  \n",
       "9089      1933  \n",
       "9090      9052  \n",
       "9091      4219  \n",
       "9092      7210  "
      ]
     },
     "execution_count": 28,
     "metadata": {},
     "output_type": "execute_result"
    }
   ],
   "source": [
    "combi.tail(10)\n"
   ]
  },
  {
   "cell_type": "code",
   "execution_count": 20,
   "metadata": {},
   "outputs": [
    {
     "data": {
      "text/html": [
       "<div>\n",
       "<style scoped>\n",
       "    .dataframe tbody tr th:only-of-type {\n",
       "        vertical-align: middle;\n",
       "    }\n",
       "\n",
       "    .dataframe tbody tr th {\n",
       "        vertical-align: top;\n",
       "    }\n",
       "\n",
       "    .dataframe thead th {\n",
       "        text-align: right;\n",
       "    }\n",
       "</style>\n",
       "<table border=\"1\" class=\"dataframe\">\n",
       "  <thead>\n",
       "    <tr style=\"text-align: right;\">\n",
       "      <th></th>\n",
       "      <th>index</th>\n",
       "      <th>sentiment</th>\n",
       "      <th>tweet</th>\n",
       "      <th>tweet_id</th>\n",
       "    </tr>\n",
       "  </thead>\n",
       "  <tbody>\n",
       "    <tr>\n",
       "      <td>7268</td>\n",
       "      <td>7269</td>\n",
       "      <td>1.0</td>\n",
       "      <td>@mention Google plze Tammi.  I'm in middle of #SXSW craziness and everything is soooooo busy!</td>\n",
       "      <td>3343</td>\n",
       "    </tr>\n",
       "    <tr>\n",
       "      <td>7269</td>\n",
       "      <td>7270</td>\n",
       "      <td>1.0</td>\n",
       "      <td>RT @mention ÷¼ Are you all set? ÷_ {link} ÷_ #edchat #musedchat #sxsw #sxswi #newTwitter</td>\n",
       "      <td>5334</td>\n",
       "    </tr>\n",
       "    <tr>\n",
       "      <td>7270</td>\n",
       "      <td>7271</td>\n",
       "      <td>1.0</td>\n",
       "      <td>RT @mention Aha! Found proof of lactation room, excuse me, &amp;quot;Mother's Room,&amp;quot; brought to you by Google, at last year's #SXSW. {link}</td>\n",
       "      <td>5378</td>\n",
       "    </tr>\n",
       "    <tr>\n",
       "      <td>7271</td>\n",
       "      <td>7272</td>\n",
       "      <td>1.0</td>\n",
       "      <td>We just launched our iPad app at #SXSW! Get all the details + the first edition FREE: {link}</td>\n",
       "      <td>2173</td>\n",
       "    </tr>\n",
       "    <tr>\n",
       "      <td>7272</td>\n",
       "      <td>7273</td>\n",
       "      <td>1.0</td>\n",
       "      <td>The next fin serv battle is vs Apple, GOOG, Mobile operators. They have consumer loyalty and tons of cash (vs. Banks) #bankinnovate #SXSW</td>\n",
       "      <td>3162</td>\n",
       "    </tr>\n",
       "  </tbody>\n",
       "</table>\n",
       "</div>"
      ],
      "text/plain": [
       "      index  sentiment  \\\n",
       "7268   7269        1.0   \n",
       "7269   7270        1.0   \n",
       "7270   7271        1.0   \n",
       "7271   7272        1.0   \n",
       "7272   7273        1.0   \n",
       "\n",
       "                                                                                                                                             tweet  \\\n",
       "7268                                                 @mention Google plze Tammi.  I'm in middle of #SXSW craziness and everything is soooooo busy!   \n",
       "7269                                                   RT @mention ÷¼ Are you all set? ÷_ {link} ÷_ #edchat #musedchat #sxsw #sxswi #newTwitter   \n",
       "7270  RT @mention Aha! Found proof of lactation room, excuse me, &quot;Mother's Room,&quot; brought to you by Google, at last year's #SXSW. {link}   \n",
       "7271                                                  We just launched our iPad app at #SXSW! Get all the details + the first edition FREE: {link}   \n",
       "7272     The next fin serv battle is vs Apple, GOOG, Mobile operators. They have consumer loyalty and tons of cash (vs. Banks) #bankinnovate #SXSW   \n",
       "\n",
       "      tweet_id  \n",
       "7268      3343  \n",
       "7269      5334  \n",
       "7270      5378  \n",
       "7271      2173  \n",
       "7272      3162  "
      ]
     },
     "execution_count": 20,
     "metadata": {},
     "output_type": "execute_result"
    }
   ],
   "source": [
    "combi.tail()"
   ]
  },
  {
   "cell_type": "code",
   "execution_count": 11,
   "metadata": {},
   "outputs": [],
   "source": [
    "import re"
   ]
  },
  {
   "cell_type": "code",
   "execution_count": 12,
   "metadata": {},
   "outputs": [
    {
     "data": {
      "text/plain": [
       "sentiment    1819\n",
       "tweet           1\n",
       "tweet_id        0\n",
       "dtype: int64"
      ]
     },
     "execution_count": 12,
     "metadata": {},
     "output_type": "execute_result"
    }
   ],
   "source": [
    "combi.isnull().sum()"
   ]
  },
  {
   "cell_type": "code",
   "execution_count": 31,
   "metadata": {},
   "outputs": [],
   "source": [
    "#combi.dropna(inplace=True)\n",
    "combi[\"tweet\"].fillna(\" \", inplace = True) \n",
    "combi[\"sentiment\"].fillna(\" \", inplace = True)"
   ]
  },
  {
   "cell_type": "code",
   "execution_count": 32,
   "metadata": {},
   "outputs": [
    {
     "data": {
      "text/plain": [
       "sentiment    0\n",
       "tweet        0\n",
       "tweet_id     0\n",
       "dtype: int64"
      ]
     },
     "execution_count": 32,
     "metadata": {},
     "output_type": "execute_result"
    }
   ],
   "source": [
    "combi.isnull().sum()"
   ]
  },
  {
   "cell_type": "code",
   "execution_count": 33,
   "metadata": {},
   "outputs": [
    {
     "data": {
      "text/plain": [
       "(9093, 3)"
      ]
     },
     "execution_count": 33,
     "metadata": {},
     "output_type": "execute_result"
    }
   ],
   "source": [
    "combi.shape"
   ]
  },
  {
   "cell_type": "code",
   "execution_count": 15,
   "metadata": {},
   "outputs": [],
   "source": [
    "#combi.reset_index(inplace=True)"
   ]
  },
  {
   "cell_type": "code",
   "execution_count": 16,
   "metadata": {},
   "outputs": [
    {
     "data": {
      "text/plain": [
       "(7273, 4)"
      ]
     },
     "execution_count": 16,
     "metadata": {},
     "output_type": "execute_result"
    }
   ],
   "source": [
    "combi.shape"
   ]
  },
  {
   "cell_type": "code",
   "execution_count": 34,
   "metadata": {
    "colab": {},
    "colab_type": "code",
    "id": "sCSZBxGQhpia"
   },
   "outputs": [],
   "source": [
    "def remove_pattern(input_txt, pattern):\n",
    "    r = re.findall(pattern, input_txt)\n",
    "    for i in r:\n",
    "        input_txt = re.sub(i, '', input_txt)\n",
    "        \n",
    "    return input_txt"
   ]
  },
  {
   "cell_type": "code",
   "execution_count": 35,
   "metadata": {
    "colab": {
     "base_uri": "https://localhost:8080/",
     "height": 255
    },
    "colab_type": "code",
    "id": "g-JmgxbqhvI2",
    "outputId": "349a3293-ff36-43c5-d1f0-88e928309506"
   },
   "outputs": [
    {
     "data": {
      "text/html": [
       "<div>\n",
       "<style scoped>\n",
       "    .dataframe tbody tr th:only-of-type {\n",
       "        vertical-align: middle;\n",
       "    }\n",
       "\n",
       "    .dataframe tbody tr th {\n",
       "        vertical-align: top;\n",
       "    }\n",
       "\n",
       "    .dataframe thead th {\n",
       "        text-align: right;\n",
       "    }\n",
       "</style>\n",
       "<table border=\"1\" class=\"dataframe\">\n",
       "  <thead>\n",
       "    <tr style=\"text-align: right;\">\n",
       "      <th></th>\n",
       "      <th>sentiment</th>\n",
       "      <th>tweet</th>\n",
       "      <th>tweet_id</th>\n",
       "      <th>tidy_tweet</th>\n",
       "    </tr>\n",
       "  </thead>\n",
       "  <tbody>\n",
       "    <tr>\n",
       "      <td>0</td>\n",
       "      <td>1</td>\n",
       "      <td>#sxswnui #sxsw #apple defining language of touch with different dialects becoming smaller</td>\n",
       "      <td>1701</td>\n",
       "      <td>#sxswnui #sxsw #apple defining language of touch with different dialects becoming smaller</td>\n",
       "    </tr>\n",
       "    <tr>\n",
       "      <td>1</td>\n",
       "      <td>1</td>\n",
       "      <td>Learning ab Google doodles! All doodles should be light, funny &amp;amp; innovative, with exceptions for significant occasions. #GoogleDoodle #sxsw</td>\n",
       "      <td>1851</td>\n",
       "      <td>Learning ab Google doodles! All doodles should be light, funny &amp;amp; innovative, with exceptions for significant occasions. #GoogleDoodle #sxsw</td>\n",
       "    </tr>\n",
       "    <tr>\n",
       "      <td>2</td>\n",
       "      <td>2</td>\n",
       "      <td>one of the most in-your-face ex. of stealing the show in yrs RT @mention &amp;quot;At #SXSW, Apple schools the mkt experts&amp;quot;  {link}</td>\n",
       "      <td>2689</td>\n",
       "      <td>one of the most in-your-face ex. of stealing the show in yrs RT  &amp;quot;At #SXSW, Apple schools the mkt experts&amp;quot;  {link}</td>\n",
       "    </tr>\n",
       "    <tr>\n",
       "      <td>3</td>\n",
       "      <td>0</td>\n",
       "      <td>This iPhone #SXSW app would b pretty awesome if it didn't crash every 10mins during extended browsing. #Fuckit #Illmakeitwork</td>\n",
       "      <td>4525</td>\n",
       "      <td>This iPhone #SXSW app would b pretty awesome if it didn't crash every 10mins during extended browsing. #Fuckit #Illmakeitwork</td>\n",
       "    </tr>\n",
       "    <tr>\n",
       "      <td>4</td>\n",
       "      <td>1</td>\n",
       "      <td>Line outside the Apple store in Austin waiting for the new iPad #SXSW  {link}</td>\n",
       "      <td>3604</td>\n",
       "      <td>Line outside the Apple store in Austin waiting for the new iPad #SXSW  {link}</td>\n",
       "    </tr>\n",
       "  </tbody>\n",
       "</table>\n",
       "</div>"
      ],
      "text/plain": [
       "  sentiment  \\\n",
       "0         1   \n",
       "1         1   \n",
       "2         2   \n",
       "3         0   \n",
       "4         1   \n",
       "\n",
       "                                                                                                                                             tweet  \\\n",
       "0                                                        #sxswnui #sxsw #apple defining language of touch with different dialects becoming smaller   \n",
       "1  Learning ab Google doodles! All doodles should be light, funny &amp; innovative, with exceptions for significant occasions. #GoogleDoodle #sxsw   \n",
       "2             one of the most in-your-face ex. of stealing the show in yrs RT @mention &quot;At #SXSW, Apple schools the mkt experts&quot;  {link}   \n",
       "3                    This iPhone #SXSW app would b pretty awesome if it didn't crash every 10mins during extended browsing. #Fuckit #Illmakeitwork   \n",
       "4                                                                    Line outside the Apple store in Austin waiting for the new iPad #SXSW  {link}   \n",
       "\n",
       "   tweet_id  \\\n",
       "0      1701   \n",
       "1      1851   \n",
       "2      2689   \n",
       "3      4525   \n",
       "4      3604   \n",
       "\n",
       "                                                                                                                                        tidy_tweet  \n",
       "0                                                        #sxswnui #sxsw #apple defining language of touch with different dialects becoming smaller  \n",
       "1  Learning ab Google doodles! All doodles should be light, funny &amp; innovative, with exceptions for significant occasions. #GoogleDoodle #sxsw  \n",
       "2                     one of the most in-your-face ex. of stealing the show in yrs RT  &quot;At #SXSW, Apple schools the mkt experts&quot;  {link}  \n",
       "3                    This iPhone #SXSW app would b pretty awesome if it didn't crash every 10mins during extended browsing. #Fuckit #Illmakeitwork  \n",
       "4                                                                    Line outside the Apple store in Austin waiting for the new iPad #SXSW  {link}  "
      ]
     },
     "execution_count": 35,
     "metadata": {},
     "output_type": "execute_result"
    }
   ],
   "source": [
    "combi['tidy_tweet'] = np.vectorize(remove_pattern)(combi['tweet'], \"@[\\w]*\") \n",
    "combi.head()"
   ]
  },
  {
   "cell_type": "code",
   "execution_count": 132,
   "metadata": {
    "colab": {
     "base_uri": "https://localhost:8080/",
     "height": 495
    },
    "colab_type": "code",
    "id": "Fx99n1Jvh65S",
    "outputId": "7368758f-8538-4ab0-c614-f5230ff1cf55"
   },
   "outputs": [
    {
     "data": {
      "text/html": [
       "<div>\n",
       "<style scoped>\n",
       "    .dataframe tbody tr th:only-of-type {\n",
       "        vertical-align: middle;\n",
       "    }\n",
       "\n",
       "    .dataframe tbody tr th {\n",
       "        vertical-align: top;\n",
       "    }\n",
       "\n",
       "    .dataframe thead th {\n",
       "        text-align: right;\n",
       "    }\n",
       "</style>\n",
       "<table border=\"1\" class=\"dataframe\">\n",
       "  <thead>\n",
       "    <tr style=\"text-align: right;\">\n",
       "      <th></th>\n",
       "      <th>index</th>\n",
       "      <th>sentiment</th>\n",
       "      <th>tweet</th>\n",
       "      <th>tweet_id</th>\n",
       "      <th>tidy_tweet</th>\n",
       "    </tr>\n",
       "  </thead>\n",
       "  <tbody>\n",
       "    <tr>\n",
       "      <td>0</td>\n",
       "      <td>0</td>\n",
       "      <td>1.0</td>\n",
       "      <td>#sxswnui #sxsw #apple defining language of touch with different dialects becoming smaller</td>\n",
       "      <td>1701</td>\n",
       "      <td>#sxswnui #sxsw #apple defining language of touch with different dialects becoming smaller</td>\n",
       "    </tr>\n",
       "    <tr>\n",
       "      <td>1</td>\n",
       "      <td>1</td>\n",
       "      <td>1.0</td>\n",
       "      <td>Learning ab Google doodles! All doodles should be light, funny &amp;amp; innovative, with exceptions for significant occasions. #GoogleDoodle #sxsw</td>\n",
       "      <td>1851</td>\n",
       "      <td>Learning ab Google doodles  All doodles should be light  funny  amp  innovative  with exceptions for significant occasions  #GoogleDoodle #sxsw</td>\n",
       "    </tr>\n",
       "    <tr>\n",
       "      <td>2</td>\n",
       "      <td>2</td>\n",
       "      <td>2.0</td>\n",
       "      <td>one of the most in-your-face ex. of stealing the show in yrs RT @mention &amp;quot;At #SXSW, Apple schools the mkt experts&amp;quot;  {link}</td>\n",
       "      <td>2689</td>\n",
       "      <td>one of the most in your face ex  of stealing the show in yrs RT   quot At #SXSW  Apple schools the mkt experts quot    link</td>\n",
       "    </tr>\n",
       "    <tr>\n",
       "      <td>3</td>\n",
       "      <td>3</td>\n",
       "      <td>0.0</td>\n",
       "      <td>This iPhone #SXSW app would b pretty awesome if it didn't crash every 10mins during extended browsing. #Fuckit #Illmakeitwork</td>\n",
       "      <td>4525</td>\n",
       "      <td>This iPhone #SXSW app would b pretty awesome if it didn t crash every   mins during extended browsing  #Fuckit #Illmakeitwork</td>\n",
       "    </tr>\n",
       "    <tr>\n",
       "      <td>4</td>\n",
       "      <td>4</td>\n",
       "      <td>1.0</td>\n",
       "      <td>Line outside the Apple store in Austin waiting for the new iPad #SXSW  {link}</td>\n",
       "      <td>3604</td>\n",
       "      <td>Line outside the Apple store in Austin waiting for the new iPad #SXSW   link</td>\n",
       "    </tr>\n",
       "    <tr>\n",
       "      <td>5</td>\n",
       "      <td>5</td>\n",
       "      <td>1.0</td>\n",
       "      <td>#technews One lone dude awaits iPad 2 at AppleÛªs SXSW store {link} #Tech_News #Apple #iPad_2 #SXSW #tablets #tech</td>\n",
       "      <td>966</td>\n",
       "      <td>#technews One lone dude awaits iPad   at Apple   s SXSW store  link  #Tech News #Apple #iPad   #SXSW #tablets #tech</td>\n",
       "    </tr>\n",
       "    <tr>\n",
       "      <td>6</td>\n",
       "      <td>6</td>\n",
       "      <td>1.0</td>\n",
       "      <td>SXSW Tips, Prince, NPR Videos, Toy Shopping With Zuckerberg.\\r\\n{link}  #sxsw  #ipad</td>\n",
       "      <td>1395</td>\n",
       "      <td>SXSW Tips  Prince  NPR Videos  Toy Shopping With Zuckerberg    link   #sxsw  #ipad</td>\n",
       "    </tr>\n",
       "    <tr>\n",
       "      <td>7</td>\n",
       "      <td>7</td>\n",
       "      <td>1.0</td>\n",
       "      <td>NU user RT @mention New #UberSocial for #iPhone now in the App Store includes UberGuide to #SXSW sponsored by #Mashable</td>\n",
       "      <td>8182</td>\n",
       "      <td>NU user RT  New #UberSocial for #iPhone now in the App Store includes UberGuide to #SXSW sponsored by #Mashable</td>\n",
       "    </tr>\n",
       "    <tr>\n",
       "      <td>8</td>\n",
       "      <td>8</td>\n",
       "      <td>2.0</td>\n",
       "      <td>Free #SXSW sampler on iTunes {link} #FreeMusic</td>\n",
       "      <td>8835</td>\n",
       "      <td>Free #SXSW sampler on iTunes  link  #FreeMusic</td>\n",
       "    </tr>\n",
       "    <tr>\n",
       "      <td>9</td>\n",
       "      <td>9</td>\n",
       "      <td>2.0</td>\n",
       "      <td>I think I might go all weekend without seeing the same iPad case twice... #sxsw</td>\n",
       "      <td>883</td>\n",
       "      <td>I think I might go all weekend without seeing the same iPad case twice    #sxsw</td>\n",
       "    </tr>\n",
       "  </tbody>\n",
       "</table>\n",
       "</div>"
      ],
      "text/plain": [
       "   index  sentiment  \\\n",
       "0      0        1.0   \n",
       "1      1        1.0   \n",
       "2      2        2.0   \n",
       "3      3        0.0   \n",
       "4      4        1.0   \n",
       "5      5        1.0   \n",
       "6      6        1.0   \n",
       "7      7        1.0   \n",
       "8      8        2.0   \n",
       "9      9        2.0   \n",
       "\n",
       "                                                                                                                                             tweet  \\\n",
       "0                                                        #sxswnui #sxsw #apple defining language of touch with different dialects becoming smaller   \n",
       "1  Learning ab Google doodles! All doodles should be light, funny &amp; innovative, with exceptions for significant occasions. #GoogleDoodle #sxsw   \n",
       "2             one of the most in-your-face ex. of stealing the show in yrs RT @mention &quot;At #SXSW, Apple schools the mkt experts&quot;  {link}   \n",
       "3                    This iPhone #SXSW app would b pretty awesome if it didn't crash every 10mins during extended browsing. #Fuckit #Illmakeitwork   \n",
       "4                                                                    Line outside the Apple store in Austin waiting for the new iPad #SXSW  {link}   \n",
       "5                              #technews One lone dude awaits iPad 2 at AppleÛªs SXSW store {link} #Tech_News #Apple #iPad_2 #SXSW #tablets #tech   \n",
       "6                                                             SXSW Tips, Prince, NPR Videos, Toy Shopping With Zuckerberg.\\r\\n{link}  #sxsw  #ipad   \n",
       "7                          NU user RT @mention New #UberSocial for #iPhone now in the App Store includes UberGuide to #SXSW sponsored by #Mashable   \n",
       "8                                                                                                   Free #SXSW sampler on iTunes {link} #FreeMusic   \n",
       "9                                                                  I think I might go all weekend without seeing the same iPad case twice... #sxsw   \n",
       "\n",
       "   tweet_id  \\\n",
       "0      1701   \n",
       "1      1851   \n",
       "2      2689   \n",
       "3      4525   \n",
       "4      3604   \n",
       "5       966   \n",
       "6      1395   \n",
       "7      8182   \n",
       "8      8835   \n",
       "9       883   \n",
       "\n",
       "                                                                                                                                        tidy_tweet  \n",
       "0                                                        #sxswnui #sxsw #apple defining language of touch with different dialects becoming smaller  \n",
       "1  Learning ab Google doodles  All doodles should be light  funny  amp  innovative  with exceptions for significant occasions  #GoogleDoodle #sxsw  \n",
       "2                     one of the most in your face ex  of stealing the show in yrs RT   quot At #SXSW  Apple schools the mkt experts quot    link   \n",
       "3                    This iPhone #SXSW app would b pretty awesome if it didn t crash every   mins during extended browsing  #Fuckit #Illmakeitwork  \n",
       "4                                                                    Line outside the Apple store in Austin waiting for the new iPad #SXSW   link   \n",
       "5                              #technews One lone dude awaits iPad   at Apple   s SXSW store  link  #Tech News #Apple #iPad   #SXSW #tablets #tech  \n",
       "6                                                               SXSW Tips  Prince  NPR Videos  Toy Shopping With Zuckerberg    link   #sxsw  #ipad  \n",
       "7                                  NU user RT  New #UberSocial for #iPhone now in the App Store includes UberGuide to #SXSW sponsored by #Mashable  \n",
       "8                                                                                                   Free #SXSW sampler on iTunes  link  #FreeMusic  \n",
       "9                                                                  I think I might go all weekend without seeing the same iPad case twice    #sxsw  "
      ]
     },
     "execution_count": 132,
     "metadata": {},
     "output_type": "execute_result"
    }
   ],
   "source": [
    "combi['tidy_tweet'] = combi['tidy_tweet'].str.replace(\"[^a-zA-Z#]\", \" \")\n",
    "combi.head(10)"
   ]
  },
  {
   "cell_type": "code",
   "execution_count": 36,
   "metadata": {
    "colab": {},
    "colab_type": "code",
    "id": "Pr_8rLt2iMKI"
   },
   "outputs": [],
   "source": [
    "combi['tidy_tweet'] = combi['tidy_tweet'].apply(lambda x: ' '.join([w for w in x.split() if len(w)>3]))"
   ]
  },
  {
   "cell_type": "code",
   "execution_count": 134,
   "metadata": {
    "colab": {
     "base_uri": "https://localhost:8080/",
     "height": 255
    },
    "colab_type": "code",
    "id": "xn__6mw7ibFb",
    "outputId": "85041dd8-a8cf-4104-b848-f4124f6229fe"
   },
   "outputs": [
    {
     "data": {
      "text/html": [
       "<div>\n",
       "<style scoped>\n",
       "    .dataframe tbody tr th:only-of-type {\n",
       "        vertical-align: middle;\n",
       "    }\n",
       "\n",
       "    .dataframe tbody tr th {\n",
       "        vertical-align: top;\n",
       "    }\n",
       "\n",
       "    .dataframe thead th {\n",
       "        text-align: right;\n",
       "    }\n",
       "</style>\n",
       "<table border=\"1\" class=\"dataframe\">\n",
       "  <thead>\n",
       "    <tr style=\"text-align: right;\">\n",
       "      <th></th>\n",
       "      <th>index</th>\n",
       "      <th>sentiment</th>\n",
       "      <th>tweet</th>\n",
       "      <th>tweet_id</th>\n",
       "      <th>tidy_tweet</th>\n",
       "    </tr>\n",
       "  </thead>\n",
       "  <tbody>\n",
       "    <tr>\n",
       "      <td>0</td>\n",
       "      <td>0</td>\n",
       "      <td>1.0</td>\n",
       "      <td>#sxswnui #sxsw #apple defining language of touch with different dialects becoming smaller</td>\n",
       "      <td>1701</td>\n",
       "      <td>#sxswnui #sxsw #apple defining language touch with different dialects becoming smaller</td>\n",
       "    </tr>\n",
       "    <tr>\n",
       "      <td>1</td>\n",
       "      <td>1</td>\n",
       "      <td>1.0</td>\n",
       "      <td>Learning ab Google doodles! All doodles should be light, funny &amp;amp; innovative, with exceptions for significant occasions. #GoogleDoodle #sxsw</td>\n",
       "      <td>1851</td>\n",
       "      <td>Learning Google doodles doodles should light funny innovative with exceptions significant occasions #GoogleDoodle #sxsw</td>\n",
       "    </tr>\n",
       "    <tr>\n",
       "      <td>2</td>\n",
       "      <td>2</td>\n",
       "      <td>2.0</td>\n",
       "      <td>one of the most in-your-face ex. of stealing the show in yrs RT @mention &amp;quot;At #SXSW, Apple schools the mkt experts&amp;quot;  {link}</td>\n",
       "      <td>2689</td>\n",
       "      <td>most your face stealing show quot #SXSW Apple schools experts quot link</td>\n",
       "    </tr>\n",
       "    <tr>\n",
       "      <td>3</td>\n",
       "      <td>3</td>\n",
       "      <td>0.0</td>\n",
       "      <td>This iPhone #SXSW app would b pretty awesome if it didn't crash every 10mins during extended browsing. #Fuckit #Illmakeitwork</td>\n",
       "      <td>4525</td>\n",
       "      <td>This iPhone #SXSW would pretty awesome didn crash every mins during extended browsing #Fuckit #Illmakeitwork</td>\n",
       "    </tr>\n",
       "    <tr>\n",
       "      <td>4</td>\n",
       "      <td>4</td>\n",
       "      <td>1.0</td>\n",
       "      <td>Line outside the Apple store in Austin waiting for the new iPad #SXSW  {link}</td>\n",
       "      <td>3604</td>\n",
       "      <td>Line outside Apple store Austin waiting iPad #SXSW link</td>\n",
       "    </tr>\n",
       "  </tbody>\n",
       "</table>\n",
       "</div>"
      ],
      "text/plain": [
       "   index  sentiment  \\\n",
       "0      0        1.0   \n",
       "1      1        1.0   \n",
       "2      2        2.0   \n",
       "3      3        0.0   \n",
       "4      4        1.0   \n",
       "\n",
       "                                                                                                                                             tweet  \\\n",
       "0                                                        #sxswnui #sxsw #apple defining language of touch with different dialects becoming smaller   \n",
       "1  Learning ab Google doodles! All doodles should be light, funny &amp; innovative, with exceptions for significant occasions. #GoogleDoodle #sxsw   \n",
       "2             one of the most in-your-face ex. of stealing the show in yrs RT @mention &quot;At #SXSW, Apple schools the mkt experts&quot;  {link}   \n",
       "3                    This iPhone #SXSW app would b pretty awesome if it didn't crash every 10mins during extended browsing. #Fuckit #Illmakeitwork   \n",
       "4                                                                    Line outside the Apple store in Austin waiting for the new iPad #SXSW  {link}   \n",
       "\n",
       "   tweet_id  \\\n",
       "0      1701   \n",
       "1      1851   \n",
       "2      2689   \n",
       "3      4525   \n",
       "4      3604   \n",
       "\n",
       "                                                                                                                tidy_tweet  \n",
       "0                                   #sxswnui #sxsw #apple defining language touch with different dialects becoming smaller  \n",
       "1  Learning Google doodles doodles should light funny innovative with exceptions significant occasions #GoogleDoodle #sxsw  \n",
       "2                                                  most your face stealing show quot #SXSW Apple schools experts quot link  \n",
       "3             This iPhone #SXSW would pretty awesome didn crash every mins during extended browsing #Fuckit #Illmakeitwork  \n",
       "4                                                                  Line outside Apple store Austin waiting iPad #SXSW link  "
      ]
     },
     "execution_count": 134,
     "metadata": {},
     "output_type": "execute_result"
    }
   ],
   "source": [
    "combi.head()"
   ]
  },
  {
   "cell_type": "code",
   "execution_count": 37,
   "metadata": {
    "colab": {},
    "colab_type": "code",
    "id": "PCHBU4xNiiT6"
   },
   "outputs": [],
   "source": [
    "tokenized_tweet = combi['tidy_tweet'].apply(lambda x: x.split()) # tokenizing"
   ]
  },
  {
   "cell_type": "code",
   "execution_count": 38,
   "metadata": {
    "colab": {
     "base_uri": "https://localhost:8080/",
     "height": 224
    },
    "colab_type": "code",
    "id": "fU-aBZu3it_7",
    "outputId": "44d34675-a686-4881-fdac-48846a8755f0"
   },
   "outputs": [
    {
     "data": {
      "text/plain": [
       "0                                                   [#sxswnui, #sxsw, #apple, defining, language, touch, with, different, dialects, becoming, smaller]\n",
       "1    [Learning, Google, doodles!, doodles, should, light,, funny, &amp;, innovative,, with, exceptions, significant, occasions., #GoogleDoodle, #sxsw]\n",
       "2                                                        [most, in-your-face, stealing, show, &quot;At, #SXSW,, Apple, schools, experts&quot;, {link}]\n",
       "3                    [This, iPhone, #SXSW, would, pretty, awesome, didn't, crash, every, 10mins, during, extended, browsing., #Fuckit, #Illmakeitwork]\n",
       "4                                                                                  [Line, outside, Apple, store, Austin, waiting, iPad, #SXSW, {link}]\n",
       "5                           [#technews, lone, dude, awaits, iPad, AppleÛªs, SXSW, store, {link}, #Tech_News, #Apple, #iPad_2, #SXSW, #tablets, #tech]\n",
       "6                                                                   [SXSW, Tips,, Prince,, Videos,, Shopping, With, Zuckerberg., {link}, #sxsw, #ipad]\n",
       "7                                                                [user, #UberSocial, #iPhone, Store, includes, UberGuide, #SXSW, sponsored, #Mashable]\n",
       "8                                                                                                   [Free, #SXSW, sampler, iTunes, {link}, #FreeMusic]\n",
       "9                                                                          [think, might, weekend, without, seeing, same, iPad, case, twice..., #sxsw]\n",
       "Name: tidy_tweet, dtype: object"
      ]
     },
     "execution_count": 38,
     "metadata": {},
     "output_type": "execute_result"
    }
   ],
   "source": [
    "tokenized_tweet.head(10)"
   ]
  },
  {
   "cell_type": "code",
   "execution_count": 39,
   "metadata": {
    "colab": {},
    "colab_type": "code",
    "id": "0c6lil0iiyvJ"
   },
   "outputs": [],
   "source": [
    "from nltk.stem.porter import *\n",
    "stemmer = PorterStemmer()\n",
    "\n",
    "tokenized_tweet = tokenized_tweet.apply(lambda x: [stemmer.stem(i) for i in x]) # stemming"
   ]
  },
  {
   "cell_type": "code",
   "execution_count": 40,
   "metadata": {},
   "outputs": [
    {
     "data": {
      "text/plain": [
       "0                                                       [#sxswnui, #sxsw, #appl, defin, languag, touch, with, differ, dialect, becom, smaller]\n",
       "1          [learn, googl, doodles!, doodl, should, light,, funni, &amp;, innovative,, with, except, signific, occasions., #googledoodl, #sxsw]\n",
       "2                                                      [most, in-your-fac, steal, show, &quot;at, #sxsw,, appl, school, experts&quot;, {link}]\n",
       "3                    [thi, iphon, #sxsw, would, pretti, awesom, didn't, crash, everi, 10min, dure, extend, browsing., #fuckit, #illmakeitwork]\n",
       "4                                                                               [line, outsid, appl, store, austin, wait, ipad, #sxsw, {link}]\n",
       "                                                                         ...                                                                  \n",
       "9088                                                                             [hmmm....how, fast, #appl, build, store, time, #sxsw, {link}]\n",
       "9089                                                                            [samsung, galaxi, appear, team, android, #sxsw, parti, {link}]\n",
       "9090                                                                                  [could, ipad, tmrw, appl, pop-up, store, #sxsw:, {link}]\n",
       "9091                                       [veri, long, queue, peopl, appl, store, now,, some, have, bought, ipads!, #sxsw, room#nokiaconnect]\n",
       "9092    [privaci, could, headlin, googl, circl, social, network, reveal, later, today, [social, networks], {link}, #aclu, #googlecircl, #sxsw]\n",
       "Name: tidy_tweet, Length: 9093, dtype: object"
      ]
     },
     "execution_count": 40,
     "metadata": {},
     "output_type": "execute_result"
    }
   ],
   "source": [
    "tokenized_tweet"
   ]
  },
  {
   "cell_type": "code",
   "execution_count": 94,
   "metadata": {},
   "outputs": [
    {
     "ename": "TypeError",
     "evalue": "Cannot reset_index inplace on a Series to create a DataFrame",
     "output_type": "error",
     "traceback": [
      "\u001b[1;31m---------------------------------------------------------------------------\u001b[0m",
      "\u001b[1;31mTypeError\u001b[0m                                 Traceback (most recent call last)",
      "\u001b[1;32m<ipython-input-94-b948c62940c3>\u001b[0m in \u001b[0;36m<module>\u001b[1;34m\u001b[0m\n\u001b[1;32m----> 1\u001b[1;33m \u001b[0mtokenized_tweet\u001b[0m\u001b[1;33m.\u001b[0m\u001b[0mreset_index\u001b[0m\u001b[1;33m(\u001b[0m\u001b[0minplace\u001b[0m\u001b[1;33m=\u001b[0m\u001b[1;32mTrue\u001b[0m\u001b[1;33m)\u001b[0m\u001b[1;33m\u001b[0m\u001b[1;33m\u001b[0m\u001b[0m\n\u001b[0m",
      "\u001b[1;32m~\\Anaconda3\\lib\\site-packages\\pandas\\core\\series.py\u001b[0m in \u001b[0;36mreset_index\u001b[1;34m(self, level, drop, name, inplace)\u001b[0m\n\u001b[0;32m   1580\u001b[0m         \u001b[1;32melif\u001b[0m \u001b[0minplace\u001b[0m\u001b[1;33m:\u001b[0m\u001b[1;33m\u001b[0m\u001b[1;33m\u001b[0m\u001b[0m\n\u001b[0;32m   1581\u001b[0m             raise TypeError(\n\u001b[1;32m-> 1582\u001b[1;33m                 \u001b[1;34m\"Cannot reset_index inplace on a Series \"\u001b[0m \u001b[1;34m\"to create a DataFrame\"\u001b[0m\u001b[1;33m\u001b[0m\u001b[1;33m\u001b[0m\u001b[0m\n\u001b[0m\u001b[0;32m   1583\u001b[0m             )\n\u001b[0;32m   1584\u001b[0m         \u001b[1;32melse\u001b[0m\u001b[1;33m:\u001b[0m\u001b[1;33m\u001b[0m\u001b[1;33m\u001b[0m\u001b[0m\n",
      "\u001b[1;31mTypeError\u001b[0m: Cannot reset_index inplace on a Series to create a DataFrame"
     ]
    }
   ],
   "source": [
    "#tokenized_tweet.reset_index(inplace=True)"
   ]
  },
  {
   "cell_type": "code",
   "execution_count": 32,
   "metadata": {
    "colab": {
     "base_uri": "https://localhost:8080/",
     "height": 34
    },
    "colab_type": "code",
    "id": "Sga1U5PnFVmA",
    "outputId": "ebc69fa3-17a1-4c32-a902-f39b34f17dc2"
   },
   "outputs": [
    {
     "data": {
      "text/plain": [
       "'run'"
      ]
     },
     "execution_count": 32,
     "metadata": {},
     "output_type": "execute_result"
    }
   ],
   "source": [
    "stemmer.stem(\"running\")"
   ]
  },
  {
   "cell_type": "code",
   "execution_count": 78,
   "metadata": {},
   "outputs": [
    {
     "data": {
      "text/plain": [
       "7273"
      ]
     },
     "execution_count": 78,
     "metadata": {},
     "output_type": "execute_result"
    }
   ],
   "source": []
  },
  {
   "cell_type": "code",
   "execution_count": 41,
   "metadata": {
    "colab": {},
    "colab_type": "code",
    "id": "pGXOtd_li6_b"
   },
   "outputs": [],
   "source": [
    "for i in range(len(tokenized_tweet)):\n",
    "    tokenized_tweet[i] = ' '.join(tokenized_tweet[i])\n",
    "    \n",
    "combi['tidy_tweet'] = tokenized_tweet"
   ]
  },
  {
   "cell_type": "code",
   "execution_count": 42,
   "metadata": {
    "colab": {
     "base_uri": "https://localhost:8080/",
     "height": 204
    },
    "colab_type": "code",
    "id": "USiQJZqIjFVs",
    "outputId": "77bb9c92-4047-4152-a0a3-8cb598f56cbb"
   },
   "outputs": [
    {
     "data": {
      "text/plain": [
       "0                                             #sxswnui #sxsw #appl defin languag touch with differ dialect becom smaller\n",
       "1    learn googl doodles! doodl should light, funni &amp; innovative, with except signific occasions. #googledoodl #sxsw\n",
       "2                                           most in-your-fac steal show &quot;at #sxsw, appl school experts&quot; {link}\n",
       "3              thi iphon #sxsw would pretti awesom didn't crash everi 10min dure extend browsing. #fuckit #illmakeitwork\n",
       "4                                                                   line outsid appl store austin wait ipad #sxsw {link}\n",
       "5                   #technew lone dude await ipad appleûª sxsw store {link} #tech_new #appl #ipad_2 #sxsw #tablet #tech\n",
       "6                                                    sxsw tips, prince, videos, shop with zuckerberg. {link} #sxsw #ipad\n",
       "7                                                     user #ubersoci #iphon store includ uberguid #sxsw sponsor #mashabl\n",
       "8                                                                                free #sxsw sampler itun {link} #freemus\n",
       "9                                                          think might weekend without see same ipad case twice... #sxsw\n",
       "Name: tidy_tweet, dtype: object"
      ]
     },
     "execution_count": 42,
     "metadata": {},
     "output_type": "execute_result"
    }
   ],
   "source": [
    "combi['tidy_tweet'].head(10)"
   ]
  },
  {
   "cell_type": "code",
   "execution_count": 43,
   "metadata": {
    "colab": {},
    "colab_type": "code",
    "id": "AiC84jbym0Ry"
   },
   "outputs": [],
   "source": [
    "from gensim.models import Word2Vec"
   ]
  },
  {
   "cell_type": "code",
   "execution_count": 44,
   "metadata": {
    "colab": {
     "base_uri": "https://localhost:8080/",
     "height": 34
    },
    "colab_type": "code",
    "id": "vZNLpxTmnRV8",
    "outputId": "4c938347-974e-48aa-a9f6-4f0a1db82058"
   },
   "outputs": [
    {
     "data": {
      "text/plain": [
       "(1230304, 2015680)"
      ]
     },
     "execution_count": 44,
     "metadata": {},
     "output_type": "execute_result"
    }
   ],
   "source": [
    "tokenized_tweet = combi['tidy_tweet'].apply(lambda x: x.split()) # tokenizing\n",
    "\n",
    "model_w2v = Word2Vec(tokenized_tweet, size=200,  window=5)\n",
    "\n",
    "model_w2v.train(tokenized_tweet, total_examples= len(combi['tidy_tweet']), epochs=20)"
   ]
  },
  {
   "cell_type": "code",
   "execution_count": 45,
   "metadata": {
    "colab": {
     "base_uri": "https://localhost:8080/",
     "height": 241
    },
    "colab_type": "code",
    "id": "TTC4k1e0nw_m",
    "outputId": "08cfa698-c96c-4cbd-8e4c-7c967beac044"
   },
   "outputs": [
    {
     "ename": "KeyError",
     "evalue": "\"word 'google' not in vocabulary\"",
     "output_type": "error",
     "traceback": [
      "\u001b[1;31m---------------------------------------------------------------------------\u001b[0m",
      "\u001b[1;31mKeyError\u001b[0m                                  Traceback (most recent call last)",
      "\u001b[1;32m<ipython-input-45-8904f78b5083>\u001b[0m in \u001b[0;36m<module>\u001b[1;34m\u001b[0m\n\u001b[1;32m----> 1\u001b[1;33m \u001b[0mmodel_w2v\u001b[0m\u001b[1;33m.\u001b[0m\u001b[0mwv\u001b[0m\u001b[1;33m.\u001b[0m\u001b[0mmost_similar\u001b[0m\u001b[1;33m(\u001b[0m\u001b[0mpositive\u001b[0m\u001b[1;33m=\u001b[0m\u001b[1;34m\"google\"\u001b[0m\u001b[1;33m)\u001b[0m\u001b[1;33m\u001b[0m\u001b[1;33m\u001b[0m\u001b[0m\n\u001b[0m",
      "\u001b[1;32m~\\Anaconda3\\lib\\site-packages\\gensim\\models\\keyedvectors.py\u001b[0m in \u001b[0;36mmost_similar\u001b[1;34m(self, positive, negative, topn, restrict_vocab, indexer)\u001b[0m\n\u001b[0;32m    551\u001b[0m                 \u001b[0mmean\u001b[0m\u001b[1;33m.\u001b[0m\u001b[0mappend\u001b[0m\u001b[1;33m(\u001b[0m\u001b[0mweight\u001b[0m \u001b[1;33m*\u001b[0m \u001b[0mword\u001b[0m\u001b[1;33m)\u001b[0m\u001b[1;33m\u001b[0m\u001b[1;33m\u001b[0m\u001b[0m\n\u001b[0;32m    552\u001b[0m             \u001b[1;32melse\u001b[0m\u001b[1;33m:\u001b[0m\u001b[1;33m\u001b[0m\u001b[1;33m\u001b[0m\u001b[0m\n\u001b[1;32m--> 553\u001b[1;33m                 \u001b[0mmean\u001b[0m\u001b[1;33m.\u001b[0m\u001b[0mappend\u001b[0m\u001b[1;33m(\u001b[0m\u001b[0mweight\u001b[0m \u001b[1;33m*\u001b[0m \u001b[0mself\u001b[0m\u001b[1;33m.\u001b[0m\u001b[0mword_vec\u001b[0m\u001b[1;33m(\u001b[0m\u001b[0mword\u001b[0m\u001b[1;33m,\u001b[0m \u001b[0muse_norm\u001b[0m\u001b[1;33m=\u001b[0m\u001b[1;32mTrue\u001b[0m\u001b[1;33m)\u001b[0m\u001b[1;33m)\u001b[0m\u001b[1;33m\u001b[0m\u001b[1;33m\u001b[0m\u001b[0m\n\u001b[0m\u001b[0;32m    554\u001b[0m                 \u001b[1;32mif\u001b[0m \u001b[0mword\u001b[0m \u001b[1;32min\u001b[0m \u001b[0mself\u001b[0m\u001b[1;33m.\u001b[0m\u001b[0mvocab\u001b[0m\u001b[1;33m:\u001b[0m\u001b[1;33m\u001b[0m\u001b[1;33m\u001b[0m\u001b[0m\n\u001b[0;32m    555\u001b[0m                     \u001b[0mall_words\u001b[0m\u001b[1;33m.\u001b[0m\u001b[0madd\u001b[0m\u001b[1;33m(\u001b[0m\u001b[0mself\u001b[0m\u001b[1;33m.\u001b[0m\u001b[0mvocab\u001b[0m\u001b[1;33m[\u001b[0m\u001b[0mword\u001b[0m\u001b[1;33m]\u001b[0m\u001b[1;33m.\u001b[0m\u001b[0mindex\u001b[0m\u001b[1;33m)\u001b[0m\u001b[1;33m\u001b[0m\u001b[1;33m\u001b[0m\u001b[0m\n",
      "\u001b[1;32m~\\Anaconda3\\lib\\site-packages\\gensim\\models\\keyedvectors.py\u001b[0m in \u001b[0;36mword_vec\u001b[1;34m(self, word, use_norm)\u001b[0m\n\u001b[0;32m    466\u001b[0m             \u001b[1;32mreturn\u001b[0m \u001b[0mresult\u001b[0m\u001b[1;33m\u001b[0m\u001b[1;33m\u001b[0m\u001b[0m\n\u001b[0;32m    467\u001b[0m         \u001b[1;32melse\u001b[0m\u001b[1;33m:\u001b[0m\u001b[1;33m\u001b[0m\u001b[1;33m\u001b[0m\u001b[0m\n\u001b[1;32m--> 468\u001b[1;33m             \u001b[1;32mraise\u001b[0m \u001b[0mKeyError\u001b[0m\u001b[1;33m(\u001b[0m\u001b[1;34m\"word '%s' not in vocabulary\"\u001b[0m \u001b[1;33m%\u001b[0m \u001b[0mword\u001b[0m\u001b[1;33m)\u001b[0m\u001b[1;33m\u001b[0m\u001b[1;33m\u001b[0m\u001b[0m\n\u001b[0m\u001b[0;32m    469\u001b[0m \u001b[1;33m\u001b[0m\u001b[0m\n\u001b[0;32m    470\u001b[0m     \u001b[1;32mdef\u001b[0m \u001b[0mget_vector\u001b[0m\u001b[1;33m(\u001b[0m\u001b[0mself\u001b[0m\u001b[1;33m,\u001b[0m \u001b[0mword\u001b[0m\u001b[1;33m)\u001b[0m\u001b[1;33m:\u001b[0m\u001b[1;33m\u001b[0m\u001b[1;33m\u001b[0m\u001b[0m\n",
      "\u001b[1;31mKeyError\u001b[0m: \"word 'google' not in vocabulary\""
     ]
    }
   ],
   "source": [
    "model_w2v.wv.most_similar(positive=\"google\")"
   ]
  },
  {
   "cell_type": "code",
   "execution_count": 46,
   "metadata": {
    "colab": {
     "base_uri": "https://localhost:8080/",
     "height": 241
    },
    "colab_type": "code",
    "id": "d-6XF_scoKVT",
    "outputId": "bdf68ce1-060d-40b5-b2d0-cb2b60437837"
   },
   "outputs": [
    {
     "data": {
      "text/plain": [
       "[('&quot;your', 0.9312108159065247),\n",
       " ('design,', 0.9140851497650146),\n",
       " ('schema', 0.9106568694114685),\n",
       " ('#yourmom', 0.9076370596885681),\n",
       " ('print', 0.9074306488037109),\n",
       " ('boomers&quot;', 0.8939597606658936),\n",
       " ('problem', 0.8890515565872192),\n",
       " ('boomers.', 0.8857423067092896),\n",
       " ('stories:', 0.8854148983955383),\n",
       " ('tip:', 0.8839950561523438)]"
      ]
     },
     "execution_count": 46,
     "metadata": {},
     "output_type": "execute_result"
    }
   ],
   "source": [
    "model_w2v.wv.most_similar(positive=\"trump\")"
   ]
  },
  {
   "cell_type": "code",
   "execution_count": 47,
   "metadata": {},
   "outputs": [
    {
     "data": {
      "text/plain": [
       "(9093,)"
      ]
     },
     "execution_count": 47,
     "metadata": {},
     "output_type": "execute_result"
    }
   ],
   "source": [
    "tokenized_tweet.shape"
   ]
  },
  {
   "cell_type": "code",
   "execution_count": 92,
   "metadata": {},
   "outputs": [
    {
     "ename": "TypeError",
     "evalue": "Cannot reset_index inplace on a Series to create a DataFrame",
     "output_type": "error",
     "traceback": [
      "\u001b[1;31m---------------------------------------------------------------------------\u001b[0m",
      "\u001b[1;31mTypeError\u001b[0m                                 Traceback (most recent call last)",
      "\u001b[1;32m<ipython-input-92-b948c62940c3>\u001b[0m in \u001b[0;36m<module>\u001b[1;34m\u001b[0m\n\u001b[1;32m----> 1\u001b[1;33m \u001b[0mtokenized_tweet\u001b[0m\u001b[1;33m.\u001b[0m\u001b[0mreset_index\u001b[0m\u001b[1;33m(\u001b[0m\u001b[0minplace\u001b[0m\u001b[1;33m=\u001b[0m\u001b[1;32mTrue\u001b[0m\u001b[1;33m)\u001b[0m\u001b[1;33m\u001b[0m\u001b[1;33m\u001b[0m\u001b[0m\n\u001b[0m",
      "\u001b[1;32m~\\Anaconda3\\lib\\site-packages\\pandas\\core\\series.py\u001b[0m in \u001b[0;36mreset_index\u001b[1;34m(self, level, drop, name, inplace)\u001b[0m\n\u001b[0;32m   1580\u001b[0m         \u001b[1;32melif\u001b[0m \u001b[0minplace\u001b[0m\u001b[1;33m:\u001b[0m\u001b[1;33m\u001b[0m\u001b[1;33m\u001b[0m\u001b[0m\n\u001b[0;32m   1581\u001b[0m             raise TypeError(\n\u001b[1;32m-> 1582\u001b[1;33m                 \u001b[1;34m\"Cannot reset_index inplace on a Series \"\u001b[0m \u001b[1;34m\"to create a DataFrame\"\u001b[0m\u001b[1;33m\u001b[0m\u001b[1;33m\u001b[0m\u001b[0m\n\u001b[0m\u001b[0;32m   1583\u001b[0m             )\n\u001b[0;32m   1584\u001b[0m         \u001b[1;32melse\u001b[0m\u001b[1;33m:\u001b[0m\u001b[1;33m\u001b[0m\u001b[1;33m\u001b[0m\u001b[0m\n",
      "\u001b[1;31mTypeError\u001b[0m: Cannot reset_index inplace on a Series to create a DataFrame"
     ]
    }
   ],
   "source": [
    "#tokenized_tweet.reset_index(inplace=True)"
   ]
  },
  {
   "cell_type": "code",
   "execution_count": null,
   "metadata": {},
   "outputs": [],
   "source": []
  },
  {
   "cell_type": "code",
   "execution_count": 48,
   "metadata": {
    "colab": {},
    "colab_type": "code",
    "id": "9XZzavCOoRgN"
   },
   "outputs": [],
   "source": [
    "def word_vector(tokens, size):\n",
    "    vec = np.zeros(size).reshape((1, size))\n",
    "    count = 0.\n",
    "    for word in tokens:\n",
    "        try:\n",
    "            vec += model_w2v[word].reshape((1, size))\n",
    "            count += 1.\n",
    "        except KeyError: # handling the case where the token is not in vocabulary\n",
    "                         \n",
    "            continue\n",
    "    if count != 0:\n",
    "        vec /= count\n",
    "    return vec\n"
   ]
  },
  {
   "cell_type": "code",
   "execution_count": 49,
   "metadata": {
    "colab": {
     "base_uri": "https://localhost:8080/",
     "height": 34
    },
    "colab_type": "code",
    "id": "4LvQqkWyodTv",
    "outputId": "56b5d4ec-afbb-44b5-d8c1-9b3bfd8fcfc4"
   },
   "outputs": [
    {
     "data": {
      "text/plain": [
       "(9093, 200)"
      ]
     },
     "execution_count": 49,
     "metadata": {},
     "output_type": "execute_result"
    }
   ],
   "source": [
    "wordvec_arrays = np.zeros((len(tokenized_tweet), 200))\n",
    "\n",
    "for i in range(len(tokenized_tweet)):\n",
    "    \n",
    "    wordvec_arrays[i,:] = word_vector(tokenized_tweet[i], 200)\n",
    "    \n",
    "wordvec_df = pd.DataFrame(wordvec_arrays)\n",
    "wordvec_df.shape"
   ]
  },
  {
   "cell_type": "code",
   "execution_count": 0,
   "metadata": {
    "colab": {},
    "colab_type": "code",
    "id": "iFWOGiyIHt8U"
   },
   "outputs": [],
   "source": [
    "# from gensim.models import FastText"
   ]
  },
  {
   "cell_type": "code",
   "execution_count": 0,
   "metadata": {
    "colab": {},
    "colab_type": "code",
    "id": "nTpsFSf0HtNq"
   },
   "outputs": [],
   "source": [
    "# print(\"Training a Gensim FastText model\")\n",
    "# model = FastText(sentences=tokenized_tweet, size = 200, window = 2) # workers = workers, \n",
    "# print(\"Training complete\")"
   ]
  },
  {
   "cell_type": "code",
   "execution_count": 0,
   "metadata": {
    "colab": {},
    "colab_type": "code",
    "id": "-R_0-SKdHsbD"
   },
   "outputs": [],
   "source": [
    "# model.most_similar(positive=\"dinner\")"
   ]
  },
  {
   "cell_type": "code",
   "execution_count": 0,
   "metadata": {
    "colab": {},
    "colab_type": "code",
    "id": "35o2o5gXHsA-"
   },
   "outputs": [],
   "source": [
    "# def word_vector(tokens, size):\n",
    "#     vec = np.zeros(size).reshape((1, size))\n",
    "#     count = 0.\n",
    "#     for word in tokens:\n",
    "#         try:\n",
    "#             vec += model[word].reshape((1, size))\n",
    "#             count += 1.\n",
    "#         except KeyError: # handling the case where the token is not in vocabulary\n",
    "                         \n",
    "#             continue\n",
    "#     if count != 0:\n",
    "#         vec /= count\n",
    "#     return vec"
   ]
  },
  {
   "cell_type": "code",
   "execution_count": 0,
   "metadata": {
    "colab": {},
    "colab_type": "code",
    "id": "b1C5GX_fHrAx"
   },
   "outputs": [],
   "source": [
    "# fasttext_arrays = np.zeros((len(tokenized_tweet), 200))\n",
    "\n",
    "# for i in range(len(tokenized_tweet)):\n",
    "#     fasttext_arrays[i,:] = word_vector(tokenized_tweet[i], 200)\n",
    "    \n",
    "# fasttext_df = pd.DataFrame(fasttext_arrays)\n",
    "# fasttext_df.shape"
   ]
  },
  {
   "cell_type": "code",
   "execution_count": 50,
   "metadata": {
    "colab": {
     "base_uri": "https://localhost:8080/",
     "height": 34
    },
    "colab_type": "code",
    "id": "0rselOnZvZcY",
    "outputId": "aae8ffbd-bdbe-49fc-8c77-025aebf370d4"
   },
   "outputs": [
    {
     "name": "stdout",
     "output_type": "stream",
     "text": [
      "(7274, 200) (7274,)\n"
     ]
    }
   ],
   "source": [
    "from sklearn.model_selection import train_test_split\n",
    "\n",
    "\n",
    "train_w2v = wordvec_df.iloc[:7274,:]\n",
    "test_w2v = wordvec_df.iloc[7274:,:]\n",
    "\n",
    "_, _, ytrain, yvalid = train_test_split(train_w2v, train['sentiment'],  \n",
    "                                                          random_state=42, \n",
    "                                                          test_size=0.3)\n",
    "\n",
    "\n",
    "\n",
    "print(train_w2v.shape, train['sentiment'].shape)\n",
    "\n",
    "xtrain_w2v = train_w2v.iloc[ytrain.index,:]\n",
    "xvalid_w2v = train_w2v.iloc[yvalid.index,:]"
   ]
  },
  {
   "cell_type": "code",
   "execution_count": 61,
   "metadata": {
    "colab": {
     "base_uri": "https://localhost:8080/",
     "height": 377
    },
    "colab_type": "code",
    "id": "0idPvNxJsehD",
    "outputId": "a8564f86-381b-47f8-f335-09a5f31263dd"
   },
   "outputs": [
    {
     "name": "stdout",
     "output_type": "stream",
     "text": [
      "Train on 5091 samples, validate on 2183 samples\n",
      "Epoch 1/25\n",
      "5091/5091 [==============================] - 0s 77us/step - loss: -0.0585 - acc: 0.5078 - val_loss: -1.1864 - val_acc: 0.5973\n",
      "Epoch 2/25\n",
      "5091/5091 [==============================] - 0s 24us/step - loss: -2.0243 - acc: 0.5907 - val_loss: -3.8207 - val_acc: 0.5973\n",
      "Epoch 3/25\n",
      "5091/5091 [==============================] - 0s 25us/step - loss: -4.3587 - acc: 0.5907 - val_loss: -4.9368 - val_acc: 0.5973\n",
      "Epoch 4/25\n",
      "5091/5091 [==============================] - 0s 25us/step - loss: -4.6972 - acc: 0.5907 - val_loss: -4.9368 - val_acc: 0.5973\n",
      "Epoch 5/25\n",
      "5091/5091 [==============================] - 0s 25us/step - loss: -4.6972 - acc: 0.5907 - val_loss: -4.9368 - val_acc: 0.5973\n"
     ]
    },
    {
     "data": {
      "text/plain": [
       "0.44676536276814305"
      ]
     },
     "execution_count": 61,
     "metadata": {},
     "output_type": "execute_result"
    }
   ],
   "source": [
    "import tensorflow as tf\n",
    "import keras.layers as layers\n",
    "from keras.models import Model\n",
    "from keras.datasets import imdb\n",
    "\n",
    "from keras.callbacks import EarlyStopping, ModelCheckpoint\n",
    "from keras.layers import Input,Embedding,Dense,Flatten\n",
    "from sklearn.metrics import accuracy_score,classification_report\n",
    "from sklearn.metrics import f1_score\n",
    "\n",
    "epochs = 25\n",
    "batch_size = 1024\n",
    "loss = \"binary_crossentropy\"\n",
    "optimizer = \"adam\"\n",
    "metrics = [\"accuracy\"]\n",
    "\n",
    "from keras import models\n",
    "\n",
    "callbacks = [EarlyStopping(monitor='val_loss', patience=2),\n",
    "            ModelCheckpoint(filepath='best_model.h5', monitor='val_loss', save_best_only=True)]\n",
    "\n",
    "# Build neural network\n",
    "model = models.Sequential()\n",
    "model.add(Dense(512, activation='relu', input_shape=(200,)))\n",
    "model.add(Dense(512, activation='relu'))\n",
    "model.add(Dense(1, activation='sigmoid'))\n",
    "model.compile(loss=loss,optimizer=optimizer,metrics= metrics)\n",
    "model.fit(xtrain_w2v,ytrain,epochs=epochs,batch_size=batch_size,callbacks=callbacks,validation_data=(xvalid_w2v,yvalid))\n",
    "\n",
    "\n",
    "predictions = model.predict(xvalid_w2v)\n",
    "#predictions = [0 if i<0.5 else 1 for i in predictions]\n",
    "\n",
    "f1_score(yvalid, predictions,average='weighted')\n",
    "# print(\"Accuracy: \",accuracy_score(ytrain,predictions))\n",
    "#print(\"Classification Report: \",classification_report(ytrain,predictions))\n"
   ]
  },
  {
   "cell_type": "code",
   "execution_count": 66,
   "metadata": {
    "colab": {},
    "colab_type": "code",
    "id": "3QaKePh9KmM6"
   },
   "outputs": [
    {
     "name": "stdout",
     "output_type": "stream",
     "text": [
      "[[1.]\n",
      " [1.]\n",
      " [1.]\n",
      " ...\n",
      " [1.]\n",
      " [1.]\n",
      " [1.]]\n"
     ]
    }
   ],
   "source": [
    "test_pred = model.predict(test_w2v)\n",
    "print( test_pred)\n",
    "\n",
    "#test_pred = [0 if i<0.5 else 1 for i in test_pred]\n",
    "\n",
    "test['sentiment'] = test_pred\n",
    "submission = test[['tweet_id','sentiment']]\n",
    "submission.to_csv('model_result.csv', index=False)\n",
    "\n"
   ]
  },
  {
   "cell_type": "code",
   "execution_count": 102,
   "metadata": {
    "colab": {
     "base_uri": "https://localhost:8080/",
     "height": 142
    },
    "colab_type": "code",
    "id": "1Ci977CnKVe3",
    "outputId": "4614de4a-fb24-41e9-b78f-2091322c9dd2"
   },
   "outputs": [
    {
     "data": {
      "text/html": [
       "<div>\n",
       "<style scoped>\n",
       "    .dataframe tbody tr th:only-of-type {\n",
       "        vertical-align: middle;\n",
       "    }\n",
       "\n",
       "    .dataframe tbody tr th {\n",
       "        vertical-align: top;\n",
       "    }\n",
       "\n",
       "    .dataframe thead th {\n",
       "        text-align: right;\n",
       "    }\n",
       "</style>\n",
       "<table border=\"1\" class=\"dataframe\">\n",
       "  <thead>\n",
       "    <tr style=\"text-align: right;\">\n",
       "      <th></th>\n",
       "      <th>id</th>\n",
       "      <th>tweet</th>\n",
       "    </tr>\n",
       "  </thead>\n",
       "  <tbody>\n",
       "    <tr>\n",
       "      <th>0</th>\n",
       "      <td>31963</td>\n",
       "      <td>#studiolife #aislife #requires #passion #dedication #willpower   to find #newmaterialsâ¦</td>\n",
       "    </tr>\n",
       "    <tr>\n",
       "      <th>1</th>\n",
       "      <td>31964</td>\n",
       "      <td>@user #white #supremacists want everyone to see the new â  #birdsâ #movie â and hereâs why</td>\n",
       "    </tr>\n",
       "    <tr>\n",
       "      <th>2</th>\n",
       "      <td>31965</td>\n",
       "      <td>safe ways to heal your #acne!!    #altwaystoheal #healthy   #healing!!</td>\n",
       "    </tr>\n",
       "  </tbody>\n",
       "</table>\n",
       "</div>"
      ],
      "text/plain": [
       "      id                                                                                                  tweet\n",
       "0  31963             #studiolife #aislife #requires #passion #dedication #willpower   to find #newmaterialsâ¦ \n",
       "1  31964   @user #white #supremacists want everyone to see the new â  #birdsâ #movie â and hereâs why  \n",
       "2  31965                                safe ways to heal your #acne!!    #altwaystoheal #healthy   #healing!! "
      ]
     },
     "execution_count": 102,
     "metadata": {
      "tags": []
     },
     "output_type": "execute_result"
    }
   ],
   "source": [
    "test.head(3)"
   ]
  },
  {
   "cell_type": "code",
   "execution_count": 67,
   "metadata": {
    "colab": {
     "base_uri": "https://localhost:8080/",
     "height": 419
    },
    "colab_type": "code",
    "id": "6NDo-KA_UoX2",
    "outputId": "74e5bc1a-2a66-48ce-8b34-89fce52a0396"
   },
   "outputs": [
    {
     "data": {
      "text/html": [
       "<div>\n",
       "<style scoped>\n",
       "    .dataframe tbody tr th:only-of-type {\n",
       "        vertical-align: middle;\n",
       "    }\n",
       "\n",
       "    .dataframe tbody tr th {\n",
       "        vertical-align: top;\n",
       "    }\n",
       "\n",
       "    .dataframe thead th {\n",
       "        text-align: right;\n",
       "    }\n",
       "</style>\n",
       "<table border=\"1\" class=\"dataframe\">\n",
       "  <thead>\n",
       "    <tr style=\"text-align: right;\">\n",
       "      <th></th>\n",
       "      <th>tweet_id</th>\n",
       "      <th>sentiment</th>\n",
       "    </tr>\n",
       "  </thead>\n",
       "  <tbody>\n",
       "    <tr>\n",
       "      <td>0</td>\n",
       "      <td>7506</td>\n",
       "      <td>1.0</td>\n",
       "    </tr>\n",
       "    <tr>\n",
       "      <td>1</td>\n",
       "      <td>7992</td>\n",
       "      <td>1.0</td>\n",
       "    </tr>\n",
       "    <tr>\n",
       "      <td>2</td>\n",
       "      <td>247</td>\n",
       "      <td>1.0</td>\n",
       "    </tr>\n",
       "    <tr>\n",
       "      <td>3</td>\n",
       "      <td>7688</td>\n",
       "      <td>1.0</td>\n",
       "    </tr>\n",
       "    <tr>\n",
       "      <td>4</td>\n",
       "      <td>3294</td>\n",
       "      <td>1.0</td>\n",
       "    </tr>\n",
       "    <tr>\n",
       "      <td>...</td>\n",
       "      <td>...</td>\n",
       "      <td>...</td>\n",
       "    </tr>\n",
       "    <tr>\n",
       "      <td>1814</td>\n",
       "      <td>1550</td>\n",
       "      <td>1.0</td>\n",
       "    </tr>\n",
       "    <tr>\n",
       "      <td>1815</td>\n",
       "      <td>1933</td>\n",
       "      <td>1.0</td>\n",
       "    </tr>\n",
       "    <tr>\n",
       "      <td>1816</td>\n",
       "      <td>9052</td>\n",
       "      <td>1.0</td>\n",
       "    </tr>\n",
       "    <tr>\n",
       "      <td>1817</td>\n",
       "      <td>4219</td>\n",
       "      <td>1.0</td>\n",
       "    </tr>\n",
       "    <tr>\n",
       "      <td>1818</td>\n",
       "      <td>7210</td>\n",
       "      <td>1.0</td>\n",
       "    </tr>\n",
       "  </tbody>\n",
       "</table>\n",
       "<p>1819 rows × 2 columns</p>\n",
       "</div>"
      ],
      "text/plain": [
       "      tweet_id  sentiment\n",
       "0         7506        1.0\n",
       "1         7992        1.0\n",
       "2          247        1.0\n",
       "3         7688        1.0\n",
       "4         3294        1.0\n",
       "...        ...        ...\n",
       "1814      1550        1.0\n",
       "1815      1933        1.0\n",
       "1816      9052        1.0\n",
       "1817      4219        1.0\n",
       "1818      7210        1.0\n",
       "\n",
       "[1819 rows x 2 columns]"
      ]
     },
     "execution_count": 67,
     "metadata": {},
     "output_type": "execute_result"
    }
   ],
   "source": [
    "submission"
   ]
  },
  {
   "cell_type": "code",
   "execution_count": 0,
   "metadata": {
    "colab": {},
    "colab_type": "code",
    "id": "2iub49nCUtGh"
   },
   "outputs": [],
   "source": []
  }
 ],
 "metadata": {
  "colab": {
   "name": "Twitter-Sentiment-Analysis.ipynb",
   "provenance": [],
   "toc_visible": true
  },
  "kernelspec": {
   "display_name": "Python 3",
   "language": "python",
   "name": "python3"
  },
  "language_info": {
   "codemirror_mode": {
    "name": "ipython",
    "version": 3
   },
   "file_extension": ".py",
   "mimetype": "text/x-python",
   "name": "python",
   "nbconvert_exporter": "python",
   "pygments_lexer": "ipython3",
   "version": "3.7.3"
  }
 },
 "nbformat": 4,
 "nbformat_minor": 1
}
