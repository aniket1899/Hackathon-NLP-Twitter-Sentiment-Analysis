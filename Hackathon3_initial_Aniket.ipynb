{
 "cells": [
  {
   "cell_type": "markdown",
   "metadata": {},
   "source": [
    "### Hackaton #3 - Twitter Sentiment Analysis\n",
    "---"
   ]
  },
  {
   "cell_type": "markdown",
   "metadata": {},
   "source": [
    "#### Overview\n",
    "\n",
    "* WittyWicky Inc. is a consulting firm that designs brand strategy for a lot of product startups. Their modus operandi is to gain the pulse of competing products and the associated sentiment from social media. Social media has profound impact in capturing the potential customers and thus there are a lot of consulting firms that operate in the digital strategy space. Whether it is to design a marketing campaign or look at the effect of marketing campaigns on user engagement or sentiment, it is a very valuable tool.\n",
    "\n",
    "* Manual assessment of sentiment is very time consuming and automatic sentiment analysis would deliver a lot of value. As a team of data scientists consulting for WittyWicky Inc., you are now responsible for meeting their business outcomes.\n",
    "\n",
    "#### Problem Statement\n",
    "\n",
    "* Twitter has now become a useful way to build one's business as it helps in giving the brand a voice and a personality. The platform is also a quick, easy and inexpensive way to gain valuable insight from the desired audience. Identifying the sentiments about the product/brand can help the business take better actions.\n",
    "\n",
    "* You have with you evaluated tweets about multiple brands. The evaluators(random audience) were asked if the tweet expressed positive, negative, or no emotion towards a product/brand and labelled accordingly.\n",
    "\n",
    "#### Dataset Description\n",
    "\n",
    "* This dataset contains around 7k tweet text with the sentiment label.\n",
    "\n",
    "* The file train.csv has 3 columns\n",
    "\n",
    "* tweet_id - Unique id for tweets. tweet - Tweet about the brand/product sentiment - 0: Negative, 1: Neutral, 2: Positive, 3: Can't Tell\n",
    "\n",
    "#### Evaluation Metric\n",
    "\n",
    "* We will be using ‘weighted’ F1-measure as the evaluation metric for this competition.\n",
    "---"
   ]
  },
  {
   "cell_type": "markdown",
   "metadata": {},
   "source": [
    "* Imports"
   ]
  },
  {
   "cell_type": "code",
   "execution_count": 1,
   "metadata": {},
   "outputs": [],
   "source": [
    "import numpy as np\n",
    "import pandas as pd"
   ]
  },
  {
   "cell_type": "code",
   "execution_count": 2,
   "metadata": {},
   "outputs": [],
   "source": [
    "import nltk\n",
    "from nltk.tokenize import TreebankWordTokenizer\n",
    "from nltk.tokenize import sent_tokenize\n",
    "from nltk.stem import LancasterStemmer, PorterStemmer\n",
    "from nltk.corpus import stopwords\n",
    "from wordcloud import WordCloud, STOPWORDS"
   ]
  },
  {
   "cell_type": "code",
   "execution_count": 3,
   "metadata": {},
   "outputs": [],
   "source": [
    "from sklearn.model_selection import train_test_split\n",
    "from sklearn.ensemble import RandomForestClassifier, GradientBoostingClassifier\n",
    "from sklearn.linear_model import LogisticRegression\n",
    "from sklearn.metrics import classification_report\n",
    "from sklearn.feature_extraction.text import CountVectorizer, TfidfVectorizer"
   ]
  },
  {
   "cell_type": "code",
   "execution_count": 4,
   "metadata": {},
   "outputs": [],
   "source": [
    "import re"
   ]
  },
  {
   "cell_type": "code",
   "execution_count": 5,
   "metadata": {},
   "outputs": [],
   "source": [
    "import matplotlib.pyplot as plt\n",
    "import seaborn as sns"
   ]
  },
  {
   "cell_type": "code",
   "execution_count": 6,
   "metadata": {},
   "outputs": [],
   "source": [
    "import plotly\n",
    "import plotly.tools as tls   \n",
    "import plotly.graph_objs as go"
   ]
  },
  {
   "cell_type": "markdown",
   "metadata": {},
   "source": [
    "* Functions"
   ]
  },
  {
   "cell_type": "code",
   "execution_count": 7,
   "metadata": {},
   "outputs": [],
   "source": [
    "def remove_hash(text):\n",
    "    hash_pat = r'#'\n",
    "    return re.sub(hash_pat, ' ', text)"
   ]
  },
  {
   "cell_type": "code",
   "execution_count": 8,
   "metadata": {},
   "outputs": [],
   "source": [
    "def remove_mention(text):\n",
    "    mention_pat = r'@mention|@[a-z]+'\n",
    "    return re.sub(mention_pat, ' ', text, flags=re.I)"
   ]
  },
  {
   "cell_type": "code",
   "execution_count": 9,
   "metadata": {},
   "outputs": [],
   "source": [
    "def remove_short_link(text):\n",
    "    short_link_pat = r\"bit\\.ly/[a-z0-9/\\-:\\.=%;,\\+\\*())&\\$!@\\[\\]#\\?~_\\.']*\"\n",
    "    return re.sub(short_link_pat, ' ', text, flags=re.I) "
   ]
  },
  {
   "cell_type": "code",
   "execution_count": 10,
   "metadata": {},
   "outputs": [],
   "source": [
    "def remove_http_link(text):\n",
    "    link_permit = r\"[a-z0-9/\\-:\\.=%;,\\+\\*())&\\$!@\\[\\]#\\?~_\\.']\"\n",
    "    http_link_pat = r\"http[s]?://\"+link_permit+\"+|//\"+link_permit+\"+|[\\w\\.]+\\.[a-z]+/\"+link_permit+\"+\" \n",
    "    return re.sub(http_link_pat, ' ', text, flags=re.I)"
   ]
  },
  {
   "cell_type": "code",
   "execution_count": 11,
   "metadata": {},
   "outputs": [],
   "source": [
    "def remove_sub_link(text):\n",
    "    link_pat = r'{link}'\n",
    "    return re.sub(link_pat, ' ', text, flags=re.I)"
   ]
  },
  {
   "cell_type": "code",
   "execution_count": 12,
   "metadata": {},
   "outputs": [],
   "source": [
    "def remove_html_char(text):\n",
    "    html_char_pat = r'&[a-z]+;'\n",
    "    return re.sub(html_char_pat, ' ', text, flags=re.I)    "
   ]
  },
  {
   "cell_type": "code",
   "execution_count": 13,
   "metadata": {},
   "outputs": [],
   "source": [
    "def remove_date(text):\n",
    "    pipe = r'|'\n",
    "    date_pat_mon = str()\n",
    "    months =   [r'January',\n",
    "                r'February',\n",
    "                r'March',\n",
    "                r'April',\n",
    "                r'May',\n",
    "                r'June',\n",
    "                r'July',\n",
    "                r'August',\n",
    "                r'September',\n",
    "                r'October',\n",
    "                r'November',\n",
    "                r'December']\n",
    "    for month in months:\n",
    "        date_pat_mon = date_pat_mon + month+r' \\d\\d, \\d\\d\\d\\d|'\n",
    "        date_pat_mon = date_pat_mon + month[:3]+r' \\d\\d, \\d\\d\\d\\d|'\n",
    "    \n",
    "    date_pat_mon = date_pat_mon[:-1]\n",
    "#     date_pat_mon\n",
    "    date_pat =  r'\\d\\d/\\d\\d/\\d\\d\\d\\d|\\d\\d/\\d\\d/\\d\\d' + pipe + \\\n",
    "                r'\\d\\d\\.\\d\\d\\.\\d\\d\\d\\d|\\d\\d\\.\\d\\d\\.\\d\\d' + pipe + \\\n",
    "                r'\\d\\d-\\d\\d-\\d\\d\\d\\d|\\d\\d-\\d\\d-\\d\\d' + pipe + \\\n",
    "                r'{}'.format(date_pat_mon)\n",
    "    date_pat = r'{}'.format(date_pat)\n",
    "    return re.sub(date_pat, ' ', text, flags=re.I)"
   ]
  },
  {
   "cell_type": "code",
   "execution_count": 14,
   "metadata": {},
   "outputs": [],
   "source": [
    "def remove_short_date(text):\n",
    "    pipe = r'|'\n",
    "    short_date_pat = r'[\\d]?\\d/\\d\\d[\\d\\d]?' + pipe + r'[\\d]?\\d\\.\\d\\d[\\d\\d]?'\n",
    "    short_date_pat = r'{}'.format(short_date_pat)\n",
    "    return re.sub(short_date_pat, ' ', text)"
   ]
  },
  {
   "cell_type": "code",
   "execution_count": 15,
   "metadata": {},
   "outputs": [],
   "source": [
    "def remove_time(text):\n",
    "    pipe = r\"|\"\n",
    "    time_pat =  r\"\\d\\d:\\d\\d:\\d\\d[ ]?pm\"+pipe+\\\n",
    "                r\"\\d\\d:\\d\\d:\\d\\d[ ]?am\"+pipe+\\\n",
    "                r\"\\d\\d:\\d\\d:\\d\\d\"+pipe+\\\n",
    "                r\"\\d\\d:\\d\\d:\\d\\d\"+pipe+\\\n",
    "                r\"[\\d]?\\d:\\d\\d[ ]?pm\"+pipe+\\\n",
    "                r\"[\\d]?\\d:\\d\\d[ ]?am\"+pipe+\\\n",
    "                r\"[\\d]?\\d:\\d\\d\"+pipe+\\\n",
    "                r\"[\\d]?\\d:\\d\\d\"+pipe+\\\n",
    "                r\"[\\d]?\\d.\\d\\d[ ]?pm\"+pipe+\\\n",
    "                r\"[\\d]?\\d.\\d\\d[ ]?am\"+pipe+\\\n",
    "                r\"[\\d]?\\d.\\d\\d\"+pipe+\\\n",
    "                r\"[\\d]?\\d.\\d\\d\"\n",
    "    time_pat= r\"{}\".format(time_pat)\n",
    "    return re.sub(time_pat, ' ', text, flags=re.I)"
   ]
  },
  {
   "cell_type": "code",
   "execution_count": 16,
   "metadata": {},
   "outputs": [],
   "source": [
    "def remove_punctuation(text):\n",
    "    punctuation_pat_s = r'\\'s'\n",
    "    punctuation_pat_t = r'\\'t'\n",
    "    punctuation_pat_d = r'\\'d'\n",
    "    punctuation_pat_ve = r'\\'ve'\n",
    "    punctuation_pat_ll = r'\\'ll'\n",
    "    temp = text\n",
    "    temp = re.sub(punctuation_pat_s, ' ', temp, flags=re.I)\n",
    "    temp = re.sub(punctuation_pat_t, 't', temp, flags=re.I)\n",
    "    temp = re.sub(punctuation_pat_d, ' would', temp, flags=re.I)\n",
    "    temp = re.sub(punctuation_pat_ve, ' have', temp, flags=re.I)\n",
    "    temp = re.sub(punctuation_pat_ll, ' will', temp, flags=re.I)\n",
    "    return temp"
   ]
  },
  {
   "cell_type": "code",
   "execution_count": 17,
   "metadata": {},
   "outputs": [],
   "source": [
    "def remove_rt(text):\n",
    "    rt_pat = r'RT '\n",
    "    return re.sub(rt_pat, ' ', text)"
   ]
  },
  {
   "cell_type": "code",
   "execution_count": 18,
   "metadata": {},
   "outputs": [],
   "source": [
    "def remove_emojis(text):\n",
    "    emoji_pattern = re.compile(\"[\"\n",
    "        u\"\\U0001F600-\\U0001F64F\"  # emoticons\n",
    "        u\"\\U0001F300-\\U0001F5FF\"  # symbols & pictographs\n",
    "        u\"\\U0001F680-\\U0001F6FF\"  # transport & map symbols\n",
    "        u\"\\U0001F1E0-\\U0001F1FF\"  # flags (iOS)\n",
    "                           \"]+\", flags=re.UNICODE)\n",
    "    return re.sub(emoji_pattern,'', text)"
   ]
  },
  {
   "cell_type": "code",
   "execution_count": 19,
   "metadata": {},
   "outputs": [],
   "source": [
    "def remove_not_alnum(text):\n",
    "    \"\"\"\n",
    "    remove everything that is not alpha numeric\n",
    "    \"\"\"\n",
    "    only_text = r'[^a-z0-9 ]'\n",
    "    return re.sub(only_text, ' ', text, flags=re.I)    "
   ]
  },
  {
   "cell_type": "code",
   "execution_count": 20,
   "metadata": {},
   "outputs": [],
   "source": [
    "def clean_text(text):\n",
    "    \n",
    "    #replace links witn {link}\n",
    "    text = remove_short_link(text)\n",
    "    text = remove_http_link(text)\n",
    "    #remove {link}\n",
    "    text = remove_sub_link(text)\n",
    "    #hash\n",
    "    text = remove_hash(text)\n",
    "    #mention\n",
    "    text = remove_mention(text)\n",
    "    #rt\n",
    "    text = remove_rt(text)\n",
    "    #html spl chars\n",
    "    text = remove_html_char(text)\n",
    "    #time\n",
    "    text = remove_time(text)\n",
    "    #date\n",
    "    text = remove_date(text)\n",
    "    text = remove_short_date(text)\n",
    "    #punctuation\n",
    "    text = remove_punctuation(text)\n",
    "    #emotjis\n",
    "    text = remove_emojis(text)\n",
    "    #remove spl chars\n",
    "    text = remove_not_alnum(text)\n",
    "    #return lower\n",
    "    return text.lower()"
   ]
  },
  {
   "cell_type": "code",
   "execution_count": 21,
   "metadata": {},
   "outputs": [],
   "source": [
    "def remove_sxsw(text):\n",
    "    sxsw_pat = r\"sxsw[a-z]*\"\n",
    "    return re.sub(sxsw_pat, ' ', text, flags=re.I) "
   ]
  },
  {
   "cell_type": "code",
   "execution_count": 22,
   "metadata": {},
   "outputs": [],
   "source": [
    "def remove_austin_texas(text):\n",
    "    austin_pat = r\"austin\"\n",
    "    texas_pat = r\"texas|tx\"\n",
    "    temp = text\n",
    "    temp = re.sub(austin_pat, ' ', temp, flags=re.I) \n",
    "    temp = re.sub(texas_pat, ' ', temp, flags=re.I) \n",
    "    return temp"
   ]
  },
  {
   "cell_type": "code",
   "execution_count": 23,
   "metadata": {},
   "outputs": [],
   "source": [
    "def vectorizer_fit_transform(vectorizer, X_train, X_test):\n",
    "    \"\"\"\n",
    "    fit_transform vectorizer on X_train\n",
    "    transfrom vectorizer on X_test\n",
    "    return: transformed X_train and X_test\n",
    "    \"\"\"\n",
    "    \n",
    "    X_train_vectorized = vectorizer.fit_transform(X_train)\n",
    "    X_test_vectorized = vectorizer.transform(X_test)\n",
    "    \n",
    "    return X_train_vectorized, X_test_vectorized"
   ]
  },
  {
   "cell_type": "code",
   "execution_count": 24,
   "metadata": {},
   "outputs": [],
   "source": [
    "def fit_models(X_train, X_test, y_train, y_test):\n",
    "    \"\"\"\n",
    "    Fit models and display classification report\n",
    "    \"\"\"\n",
    "    rf = RandomForestClassifier()\n",
    "    gb = GradientBoostingClassifier()\n",
    "    lr = LogisticRegression()\n",
    "    for model, name in zip([rf,gb,lr],['RandomForestClassifier','GradientBoostingClassifier','LogisticRegression']):\n",
    "        model.fit(X_train,y_train)\n",
    "        y_pred = model.predict(X_test)\n",
    "        print(f'CLF report for {name}')\n",
    "        print(classification_report(y_test, y_pred))\n",
    "        print('---')"
   ]
  },
  {
   "cell_type": "markdown",
   "metadata": {},
   "source": [
    "* Pulling data"
   ]
  },
  {
   "cell_type": "code",
   "execution_count": 25,
   "metadata": {},
   "outputs": [],
   "source": [
    "data = pd.read_csv('data/train.csv')"
   ]
  },
  {
   "cell_type": "code",
   "execution_count": 26,
   "metadata": {},
   "outputs": [
    {
     "name": "stdout",
     "output_type": "stream",
     "text": [
      "<class 'pandas.core.frame.DataFrame'>\n",
      "RangeIndex: 7274 entries, 0 to 7273\n",
      "Data columns (total 3 columns):\n",
      "tweet_id     7274 non-null int64\n",
      "tweet        7273 non-null object\n",
      "sentiment    7274 non-null int64\n",
      "dtypes: int64(2), object(1)\n",
      "memory usage: 170.6+ KB\n"
     ]
    }
   ],
   "source": [
    "data.info()"
   ]
  },
  {
   "cell_type": "markdown",
   "metadata": {},
   "source": [
    "* Initial checks on data"
   ]
  },
  {
   "cell_type": "code",
   "execution_count": 27,
   "metadata": {},
   "outputs": [
    {
     "data": {
      "text/html": [
       "<div>\n",
       "<style scoped>\n",
       "    .dataframe tbody tr th:only-of-type {\n",
       "        vertical-align: middle;\n",
       "    }\n",
       "\n",
       "    .dataframe tbody tr th {\n",
       "        vertical-align: top;\n",
       "    }\n",
       "\n",
       "    .dataframe thead th {\n",
       "        text-align: right;\n",
       "    }\n",
       "</style>\n",
       "<table border=\"1\" class=\"dataframe\">\n",
       "  <thead>\n",
       "    <tr style=\"text-align: right;\">\n",
       "      <th></th>\n",
       "      <th>tweet_id</th>\n",
       "      <th>tweet</th>\n",
       "      <th>sentiment</th>\n",
       "    </tr>\n",
       "  </thead>\n",
       "  <tbody>\n",
       "    <tr>\n",
       "      <th>0</th>\n",
       "      <td>1701</td>\n",
       "      <td>#sxswnui #sxsw #apple defining language of tou...</td>\n",
       "      <td>1</td>\n",
       "    </tr>\n",
       "    <tr>\n",
       "      <th>1</th>\n",
       "      <td>1851</td>\n",
       "      <td>Learning ab Google doodles! All doodles should...</td>\n",
       "      <td>1</td>\n",
       "    </tr>\n",
       "    <tr>\n",
       "      <th>2</th>\n",
       "      <td>2689</td>\n",
       "      <td>one of the most in-your-face ex. of stealing t...</td>\n",
       "      <td>2</td>\n",
       "    </tr>\n",
       "    <tr>\n",
       "      <th>3</th>\n",
       "      <td>4525</td>\n",
       "      <td>This iPhone #SXSW app would b pretty awesome i...</td>\n",
       "      <td>0</td>\n",
       "    </tr>\n",
       "    <tr>\n",
       "      <th>4</th>\n",
       "      <td>3604</td>\n",
       "      <td>Line outside the Apple store in Austin waiting...</td>\n",
       "      <td>1</td>\n",
       "    </tr>\n",
       "    <tr>\n",
       "      <th>5</th>\n",
       "      <td>966</td>\n",
       "      <td>#technews One lone dude awaits iPad 2 at Apple...</td>\n",
       "      <td>1</td>\n",
       "    </tr>\n",
       "    <tr>\n",
       "      <th>6</th>\n",
       "      <td>1395</td>\n",
       "      <td>SXSW Tips, Prince, NPR Videos, Toy Shopping Wi...</td>\n",
       "      <td>1</td>\n",
       "    </tr>\n",
       "    <tr>\n",
       "      <th>7</th>\n",
       "      <td>8182</td>\n",
       "      <td>NU user RT @mention New #UberSocial for #iPhon...</td>\n",
       "      <td>1</td>\n",
       "    </tr>\n",
       "    <tr>\n",
       "      <th>8</th>\n",
       "      <td>8835</td>\n",
       "      <td>Free #SXSW sampler on iTunes {link} #FreeMusic</td>\n",
       "      <td>2</td>\n",
       "    </tr>\n",
       "    <tr>\n",
       "      <th>9</th>\n",
       "      <td>883</td>\n",
       "      <td>I think I might go all weekend without seeing ...</td>\n",
       "      <td>2</td>\n",
       "    </tr>\n",
       "  </tbody>\n",
       "</table>\n",
       "</div>"
      ],
      "text/plain": [
       "   tweet_id                                              tweet  sentiment\n",
       "0      1701  #sxswnui #sxsw #apple defining language of tou...          1\n",
       "1      1851  Learning ab Google doodles! All doodles should...          1\n",
       "2      2689  one of the most in-your-face ex. of stealing t...          2\n",
       "3      4525  This iPhone #SXSW app would b pretty awesome i...          0\n",
       "4      3604  Line outside the Apple store in Austin waiting...          1\n",
       "5       966  #technews One lone dude awaits iPad 2 at Apple...          1\n",
       "6      1395  SXSW Tips, Prince, NPR Videos, Toy Shopping Wi...          1\n",
       "7      8182  NU user RT @mention New #UberSocial for #iPhon...          1\n",
       "8      8835     Free #SXSW sampler on iTunes {link} #FreeMusic          2\n",
       "9       883  I think I might go all weekend without seeing ...          2"
      ]
     },
     "execution_count": 27,
     "metadata": {},
     "output_type": "execute_result"
    }
   ],
   "source": [
    "data.head(10)"
   ]
  },
  {
   "cell_type": "code",
   "execution_count": 28,
   "metadata": {},
   "outputs": [
    {
     "data": {
      "text/html": [
       "<div>\n",
       "<style scoped>\n",
       "    .dataframe tbody tr th:only-of-type {\n",
       "        vertical-align: middle;\n",
       "    }\n",
       "\n",
       "    .dataframe tbody tr th {\n",
       "        vertical-align: top;\n",
       "    }\n",
       "\n",
       "    .dataframe thead th {\n",
       "        text-align: right;\n",
       "    }\n",
       "</style>\n",
       "<table border=\"1\" class=\"dataframe\">\n",
       "  <thead>\n",
       "    <tr style=\"text-align: right;\">\n",
       "      <th></th>\n",
       "      <th>sentiment</th>\n",
       "    </tr>\n",
       "  </thead>\n",
       "  <tbody>\n",
       "    <tr>\n",
       "      <th>1</th>\n",
       "      <td>59.265878</td>\n",
       "    </tr>\n",
       "    <tr>\n",
       "      <th>2</th>\n",
       "      <td>32.746769</td>\n",
       "    </tr>\n",
       "    <tr>\n",
       "      <th>0</th>\n",
       "      <td>6.268903</td>\n",
       "    </tr>\n",
       "    <tr>\n",
       "      <th>3</th>\n",
       "      <td>1.718449</td>\n",
       "    </tr>\n",
       "  </tbody>\n",
       "</table>\n",
       "</div>"
      ],
      "text/plain": [
       "   sentiment\n",
       "1  59.265878\n",
       "2  32.746769\n",
       "0   6.268903\n",
       "3   1.718449"
      ]
     },
     "execution_count": 28,
     "metadata": {},
     "output_type": "execute_result"
    }
   ],
   "source": [
    "sentiments_dist = pd.DataFrame(data.sentiment.value_counts(normalize=True)*100)\n",
    "sentiments_dist"
   ]
  },
  {
   "cell_type": "code",
   "execution_count": 29,
   "metadata": {},
   "outputs": [],
   "source": [
    "sentiments_desc = { 0: 'Negative', 1: 'Neutral', 2: 'Positive', 3: 'Cannot Tell'}"
   ]
  },
  {
   "cell_type": "code",
   "execution_count": 30,
   "metadata": {},
   "outputs": [],
   "source": [
    "sentiments_dist.index = sentiments_dist.index.map(lambda x: sentiments_desc[x])"
   ]
  },
  {
   "cell_type": "code",
   "execution_count": 31,
   "metadata": {},
   "outputs": [],
   "source": [
    "# sentiments_dist"
   ]
  },
  {
   "cell_type": "code",
   "execution_count": 110,
   "metadata": {},
   "outputs": [
    {
     "data": {
      "application/vnd.plotly.v1+json": {
       "config": {
        "plotlyServerURL": "https://plot.ly"
       },
       "data": [
        {
         "hole": 0.5,
         "labels": [
          "Neutral",
          "Positive",
          "Negative",
          "Cannot Tell"
         ],
         "marker": {
          "line": {
           "color": "#000000",
           "width": 2
          }
         },
         "textinfo": "label+percent",
         "textposition": "outside",
         "type": "pie",
         "values": [
          59.26587847126753,
          32.74676931536981,
          6.268902941985152,
          1.718449271377509
         ]
        }
       ],
       "layout": {
        "height": 500,
        "showlegend": false,
        "template": {
         "data": {
          "bar": [
           {
            "error_x": {
             "color": "#2a3f5f"
            },
            "error_y": {
             "color": "#2a3f5f"
            },
            "marker": {
             "line": {
              "color": "#E5ECF6",
              "width": 0.5
             }
            },
            "type": "bar"
           }
          ],
          "barpolar": [
           {
            "marker": {
             "line": {
              "color": "#E5ECF6",
              "width": 0.5
             }
            },
            "type": "barpolar"
           }
          ],
          "carpet": [
           {
            "aaxis": {
             "endlinecolor": "#2a3f5f",
             "gridcolor": "white",
             "linecolor": "white",
             "minorgridcolor": "white",
             "startlinecolor": "#2a3f5f"
            },
            "baxis": {
             "endlinecolor": "#2a3f5f",
             "gridcolor": "white",
             "linecolor": "white",
             "minorgridcolor": "white",
             "startlinecolor": "#2a3f5f"
            },
            "type": "carpet"
           }
          ],
          "choropleth": [
           {
            "colorbar": {
             "outlinewidth": 0,
             "ticks": ""
            },
            "type": "choropleth"
           }
          ],
          "contour": [
           {
            "colorbar": {
             "outlinewidth": 0,
             "ticks": ""
            },
            "colorscale": [
             [
              0,
              "#0d0887"
             ],
             [
              0.1111111111111111,
              "#46039f"
             ],
             [
              0.2222222222222222,
              "#7201a8"
             ],
             [
              0.3333333333333333,
              "#9c179e"
             ],
             [
              0.4444444444444444,
              "#bd3786"
             ],
             [
              0.5555555555555556,
              "#d8576b"
             ],
             [
              0.6666666666666666,
              "#ed7953"
             ],
             [
              0.7777777777777778,
              "#fb9f3a"
             ],
             [
              0.8888888888888888,
              "#fdca26"
             ],
             [
              1,
              "#f0f921"
             ]
            ],
            "type": "contour"
           }
          ],
          "contourcarpet": [
           {
            "colorbar": {
             "outlinewidth": 0,
             "ticks": ""
            },
            "type": "contourcarpet"
           }
          ],
          "heatmap": [
           {
            "colorbar": {
             "outlinewidth": 0,
             "ticks": ""
            },
            "colorscale": [
             [
              0,
              "#0d0887"
             ],
             [
              0.1111111111111111,
              "#46039f"
             ],
             [
              0.2222222222222222,
              "#7201a8"
             ],
             [
              0.3333333333333333,
              "#9c179e"
             ],
             [
              0.4444444444444444,
              "#bd3786"
             ],
             [
              0.5555555555555556,
              "#d8576b"
             ],
             [
              0.6666666666666666,
              "#ed7953"
             ],
             [
              0.7777777777777778,
              "#fb9f3a"
             ],
             [
              0.8888888888888888,
              "#fdca26"
             ],
             [
              1,
              "#f0f921"
             ]
            ],
            "type": "heatmap"
           }
          ],
          "heatmapgl": [
           {
            "colorbar": {
             "outlinewidth": 0,
             "ticks": ""
            },
            "colorscale": [
             [
              0,
              "#0d0887"
             ],
             [
              0.1111111111111111,
              "#46039f"
             ],
             [
              0.2222222222222222,
              "#7201a8"
             ],
             [
              0.3333333333333333,
              "#9c179e"
             ],
             [
              0.4444444444444444,
              "#bd3786"
             ],
             [
              0.5555555555555556,
              "#d8576b"
             ],
             [
              0.6666666666666666,
              "#ed7953"
             ],
             [
              0.7777777777777778,
              "#fb9f3a"
             ],
             [
              0.8888888888888888,
              "#fdca26"
             ],
             [
              1,
              "#f0f921"
             ]
            ],
            "type": "heatmapgl"
           }
          ],
          "histogram": [
           {
            "marker": {
             "colorbar": {
              "outlinewidth": 0,
              "ticks": ""
             }
            },
            "type": "histogram"
           }
          ],
          "histogram2d": [
           {
            "colorbar": {
             "outlinewidth": 0,
             "ticks": ""
            },
            "colorscale": [
             [
              0,
              "#0d0887"
             ],
             [
              0.1111111111111111,
              "#46039f"
             ],
             [
              0.2222222222222222,
              "#7201a8"
             ],
             [
              0.3333333333333333,
              "#9c179e"
             ],
             [
              0.4444444444444444,
              "#bd3786"
             ],
             [
              0.5555555555555556,
              "#d8576b"
             ],
             [
              0.6666666666666666,
              "#ed7953"
             ],
             [
              0.7777777777777778,
              "#fb9f3a"
             ],
             [
              0.8888888888888888,
              "#fdca26"
             ],
             [
              1,
              "#f0f921"
             ]
            ],
            "type": "histogram2d"
           }
          ],
          "histogram2dcontour": [
           {
            "colorbar": {
             "outlinewidth": 0,
             "ticks": ""
            },
            "colorscale": [
             [
              0,
              "#0d0887"
             ],
             [
              0.1111111111111111,
              "#46039f"
             ],
             [
              0.2222222222222222,
              "#7201a8"
             ],
             [
              0.3333333333333333,
              "#9c179e"
             ],
             [
              0.4444444444444444,
              "#bd3786"
             ],
             [
              0.5555555555555556,
              "#d8576b"
             ],
             [
              0.6666666666666666,
              "#ed7953"
             ],
             [
              0.7777777777777778,
              "#fb9f3a"
             ],
             [
              0.8888888888888888,
              "#fdca26"
             ],
             [
              1,
              "#f0f921"
             ]
            ],
            "type": "histogram2dcontour"
           }
          ],
          "mesh3d": [
           {
            "colorbar": {
             "outlinewidth": 0,
             "ticks": ""
            },
            "type": "mesh3d"
           }
          ],
          "parcoords": [
           {
            "line": {
             "colorbar": {
              "outlinewidth": 0,
              "ticks": ""
             }
            },
            "type": "parcoords"
           }
          ],
          "pie": [
           {
            "automargin": true,
            "type": "pie"
           }
          ],
          "scatter": [
           {
            "marker": {
             "colorbar": {
              "outlinewidth": 0,
              "ticks": ""
             }
            },
            "type": "scatter"
           }
          ],
          "scatter3d": [
           {
            "line": {
             "colorbar": {
              "outlinewidth": 0,
              "ticks": ""
             }
            },
            "marker": {
             "colorbar": {
              "outlinewidth": 0,
              "ticks": ""
             }
            },
            "type": "scatter3d"
           }
          ],
          "scattercarpet": [
           {
            "marker": {
             "colorbar": {
              "outlinewidth": 0,
              "ticks": ""
             }
            },
            "type": "scattercarpet"
           }
          ],
          "scattergeo": [
           {
            "marker": {
             "colorbar": {
              "outlinewidth": 0,
              "ticks": ""
             }
            },
            "type": "scattergeo"
           }
          ],
          "scattergl": [
           {
            "marker": {
             "colorbar": {
              "outlinewidth": 0,
              "ticks": ""
             }
            },
            "type": "scattergl"
           }
          ],
          "scattermapbox": [
           {
            "marker": {
             "colorbar": {
              "outlinewidth": 0,
              "ticks": ""
             }
            },
            "type": "scattermapbox"
           }
          ],
          "scatterpolar": [
           {
            "marker": {
             "colorbar": {
              "outlinewidth": 0,
              "ticks": ""
             }
            },
            "type": "scatterpolar"
           }
          ],
          "scatterpolargl": [
           {
            "marker": {
             "colorbar": {
              "outlinewidth": 0,
              "ticks": ""
             }
            },
            "type": "scatterpolargl"
           }
          ],
          "scatterternary": [
           {
            "marker": {
             "colorbar": {
              "outlinewidth": 0,
              "ticks": ""
             }
            },
            "type": "scatterternary"
           }
          ],
          "surface": [
           {
            "colorbar": {
             "outlinewidth": 0,
             "ticks": ""
            },
            "colorscale": [
             [
              0,
              "#0d0887"
             ],
             [
              0.1111111111111111,
              "#46039f"
             ],
             [
              0.2222222222222222,
              "#7201a8"
             ],
             [
              0.3333333333333333,
              "#9c179e"
             ],
             [
              0.4444444444444444,
              "#bd3786"
             ],
             [
              0.5555555555555556,
              "#d8576b"
             ],
             [
              0.6666666666666666,
              "#ed7953"
             ],
             [
              0.7777777777777778,
              "#fb9f3a"
             ],
             [
              0.8888888888888888,
              "#fdca26"
             ],
             [
              1,
              "#f0f921"
             ]
            ],
            "type": "surface"
           }
          ],
          "table": [
           {
            "cells": {
             "fill": {
              "color": "#EBF0F8"
             },
             "line": {
              "color": "white"
             }
            },
            "header": {
             "fill": {
              "color": "#C8D4E3"
             },
             "line": {
              "color": "white"
             }
            },
            "type": "table"
           }
          ]
         },
         "layout": {
          "annotationdefaults": {
           "arrowcolor": "#2a3f5f",
           "arrowhead": 0,
           "arrowwidth": 1
          },
          "coloraxis": {
           "colorbar": {
            "outlinewidth": 0,
            "ticks": ""
           }
          },
          "colorscale": {
           "diverging": [
            [
             0,
             "#8e0152"
            ],
            [
             0.1,
             "#c51b7d"
            ],
            [
             0.2,
             "#de77ae"
            ],
            [
             0.3,
             "#f1b6da"
            ],
            [
             0.4,
             "#fde0ef"
            ],
            [
             0.5,
             "#f7f7f7"
            ],
            [
             0.6,
             "#e6f5d0"
            ],
            [
             0.7,
             "#b8e186"
            ],
            [
             0.8,
             "#7fbc41"
            ],
            [
             0.9,
             "#4d9221"
            ],
            [
             1,
             "#276419"
            ]
           ],
           "sequential": [
            [
             0,
             "#0d0887"
            ],
            [
             0.1111111111111111,
             "#46039f"
            ],
            [
             0.2222222222222222,
             "#7201a8"
            ],
            [
             0.3333333333333333,
             "#9c179e"
            ],
            [
             0.4444444444444444,
             "#bd3786"
            ],
            [
             0.5555555555555556,
             "#d8576b"
            ],
            [
             0.6666666666666666,
             "#ed7953"
            ],
            [
             0.7777777777777778,
             "#fb9f3a"
            ],
            [
             0.8888888888888888,
             "#fdca26"
            ],
            [
             1,
             "#f0f921"
            ]
           ],
           "sequentialminus": [
            [
             0,
             "#0d0887"
            ],
            [
             0.1111111111111111,
             "#46039f"
            ],
            [
             0.2222222222222222,
             "#7201a8"
            ],
            [
             0.3333333333333333,
             "#9c179e"
            ],
            [
             0.4444444444444444,
             "#bd3786"
            ],
            [
             0.5555555555555556,
             "#d8576b"
            ],
            [
             0.6666666666666666,
             "#ed7953"
            ],
            [
             0.7777777777777778,
             "#fb9f3a"
            ],
            [
             0.8888888888888888,
             "#fdca26"
            ],
            [
             1,
             "#f0f921"
            ]
           ]
          },
          "colorway": [
           "#636efa",
           "#EF553B",
           "#00cc96",
           "#ab63fa",
           "#FFA15A",
           "#19d3f3",
           "#FF6692",
           "#B6E880",
           "#FF97FF",
           "#FECB52"
          ],
          "font": {
           "color": "#2a3f5f"
          },
          "geo": {
           "bgcolor": "white",
           "lakecolor": "white",
           "landcolor": "#E5ECF6",
           "showlakes": true,
           "showland": true,
           "subunitcolor": "white"
          },
          "hoverlabel": {
           "align": "left"
          },
          "hovermode": "closest",
          "mapbox": {
           "style": "light"
          },
          "paper_bgcolor": "white",
          "plot_bgcolor": "#E5ECF6",
          "polar": {
           "angularaxis": {
            "gridcolor": "white",
            "linecolor": "white",
            "ticks": ""
           },
           "bgcolor": "#E5ECF6",
           "radialaxis": {
            "gridcolor": "white",
            "linecolor": "white",
            "ticks": ""
           }
          },
          "scene": {
           "xaxis": {
            "backgroundcolor": "#E5ECF6",
            "gridcolor": "white",
            "gridwidth": 2,
            "linecolor": "white",
            "showbackground": true,
            "ticks": "",
            "zerolinecolor": "white"
           },
           "yaxis": {
            "backgroundcolor": "#E5ECF6",
            "gridcolor": "white",
            "gridwidth": 2,
            "linecolor": "white",
            "showbackground": true,
            "ticks": "",
            "zerolinecolor": "white"
           },
           "zaxis": {
            "backgroundcolor": "#E5ECF6",
            "gridcolor": "white",
            "gridwidth": 2,
            "linecolor": "white",
            "showbackground": true,
            "ticks": "",
            "zerolinecolor": "white"
           }
          },
          "shapedefaults": {
           "line": {
            "color": "#2a3f5f"
           }
          },
          "ternary": {
           "aaxis": {
            "gridcolor": "white",
            "linecolor": "white",
            "ticks": ""
           },
           "baxis": {
            "gridcolor": "white",
            "linecolor": "white",
            "ticks": ""
           },
           "bgcolor": "#E5ECF6",
           "caxis": {
            "gridcolor": "white",
            "linecolor": "white",
            "ticks": ""
           }
          },
          "title": {
           "x": 0.05
          },
          "xaxis": {
           "automargin": true,
           "gridcolor": "white",
           "linecolor": "white",
           "ticks": "",
           "title": {
            "standoff": 15
           },
           "zerolinecolor": "white",
           "zerolinewidth": 2
          },
          "yaxis": {
           "automargin": true,
           "gridcolor": "white",
           "linecolor": "white",
           "ticks": "",
           "title": {
            "standoff": 15
           },
           "zerolinecolor": "white",
           "zerolinewidth": 2
          }
         }
        },
        "title": {
         "text": "Distribution of Classes",
         "x": 0.5,
         "xanchor": "center",
         "y": 0.9,
         "yanchor": "top"
        },
        "width": 500
       }
      },
      "text/html": [
       "<div>\n",
       "        \n",
       "        \n",
       "            <div id=\"7ab65689-239b-4ce7-9b0e-c4eba2dc1a58\" class=\"plotly-graph-div\" style=\"height:500px; width:500px;\"></div>\n",
       "            <script type=\"text/javascript\">\n",
       "                require([\"plotly\"], function(Plotly) {\n",
       "                    window.PLOTLYENV=window.PLOTLYENV || {};\n",
       "                    \n",
       "                if (document.getElementById(\"7ab65689-239b-4ce7-9b0e-c4eba2dc1a58\")) {\n",
       "                    Plotly.newPlot(\n",
       "                        '7ab65689-239b-4ce7-9b0e-c4eba2dc1a58',\n",
       "                        [{\"hole\": 0.5, \"labels\": [\"Neutral\", \"Positive\", \"Negative\", \"Cannot Tell\"], \"marker\": {\"line\": {\"color\": \"#000000\", \"width\": 2}}, \"textinfo\": \"label+percent\", \"textposition\": \"outside\", \"type\": \"pie\", \"values\": [59.26587847126753, 32.74676931536981, 6.268902941985152, 1.718449271377509]}],\n",
       "                        {\"height\": 500, \"showlegend\": false, \"template\": {\"data\": {\"bar\": [{\"error_x\": {\"color\": \"#2a3f5f\"}, \"error_y\": {\"color\": \"#2a3f5f\"}, \"marker\": {\"line\": {\"color\": \"#E5ECF6\", \"width\": 0.5}}, \"type\": \"bar\"}], \"barpolar\": [{\"marker\": {\"line\": {\"color\": \"#E5ECF6\", \"width\": 0.5}}, \"type\": \"barpolar\"}], \"carpet\": [{\"aaxis\": {\"endlinecolor\": \"#2a3f5f\", \"gridcolor\": \"white\", \"linecolor\": \"white\", \"minorgridcolor\": \"white\", \"startlinecolor\": \"#2a3f5f\"}, \"baxis\": {\"endlinecolor\": \"#2a3f5f\", \"gridcolor\": \"white\", \"linecolor\": \"white\", \"minorgridcolor\": \"white\", \"startlinecolor\": \"#2a3f5f\"}, \"type\": \"carpet\"}], \"choropleth\": [{\"colorbar\": {\"outlinewidth\": 0, \"ticks\": \"\"}, \"type\": \"choropleth\"}], \"contour\": [{\"colorbar\": {\"outlinewidth\": 0, \"ticks\": \"\"}, \"colorscale\": [[0.0, \"#0d0887\"], [0.1111111111111111, \"#46039f\"], [0.2222222222222222, \"#7201a8\"], [0.3333333333333333, \"#9c179e\"], [0.4444444444444444, \"#bd3786\"], [0.5555555555555556, \"#d8576b\"], [0.6666666666666666, \"#ed7953\"], [0.7777777777777778, \"#fb9f3a\"], [0.8888888888888888, \"#fdca26\"], [1.0, \"#f0f921\"]], \"type\": \"contour\"}], \"contourcarpet\": [{\"colorbar\": {\"outlinewidth\": 0, \"ticks\": \"\"}, \"type\": \"contourcarpet\"}], \"heatmap\": [{\"colorbar\": {\"outlinewidth\": 0, \"ticks\": \"\"}, \"colorscale\": [[0.0, \"#0d0887\"], [0.1111111111111111, \"#46039f\"], [0.2222222222222222, \"#7201a8\"], [0.3333333333333333, \"#9c179e\"], [0.4444444444444444, \"#bd3786\"], [0.5555555555555556, \"#d8576b\"], [0.6666666666666666, \"#ed7953\"], [0.7777777777777778, \"#fb9f3a\"], [0.8888888888888888, \"#fdca26\"], [1.0, \"#f0f921\"]], \"type\": \"heatmap\"}], \"heatmapgl\": [{\"colorbar\": {\"outlinewidth\": 0, \"ticks\": \"\"}, \"colorscale\": [[0.0, \"#0d0887\"], [0.1111111111111111, \"#46039f\"], [0.2222222222222222, \"#7201a8\"], [0.3333333333333333, \"#9c179e\"], [0.4444444444444444, \"#bd3786\"], [0.5555555555555556, \"#d8576b\"], [0.6666666666666666, \"#ed7953\"], [0.7777777777777778, \"#fb9f3a\"], [0.8888888888888888, \"#fdca26\"], [1.0, \"#f0f921\"]], \"type\": \"heatmapgl\"}], \"histogram\": [{\"marker\": {\"colorbar\": {\"outlinewidth\": 0, \"ticks\": \"\"}}, \"type\": \"histogram\"}], \"histogram2d\": [{\"colorbar\": {\"outlinewidth\": 0, \"ticks\": \"\"}, \"colorscale\": [[0.0, \"#0d0887\"], [0.1111111111111111, \"#46039f\"], [0.2222222222222222, \"#7201a8\"], [0.3333333333333333, \"#9c179e\"], [0.4444444444444444, \"#bd3786\"], [0.5555555555555556, \"#d8576b\"], [0.6666666666666666, \"#ed7953\"], [0.7777777777777778, \"#fb9f3a\"], [0.8888888888888888, \"#fdca26\"], [1.0, \"#f0f921\"]], \"type\": \"histogram2d\"}], \"histogram2dcontour\": [{\"colorbar\": {\"outlinewidth\": 0, \"ticks\": \"\"}, \"colorscale\": [[0.0, \"#0d0887\"], [0.1111111111111111, \"#46039f\"], [0.2222222222222222, \"#7201a8\"], [0.3333333333333333, \"#9c179e\"], [0.4444444444444444, \"#bd3786\"], [0.5555555555555556, \"#d8576b\"], [0.6666666666666666, \"#ed7953\"], [0.7777777777777778, \"#fb9f3a\"], [0.8888888888888888, \"#fdca26\"], [1.0, \"#f0f921\"]], \"type\": \"histogram2dcontour\"}], \"mesh3d\": [{\"colorbar\": {\"outlinewidth\": 0, \"ticks\": \"\"}, \"type\": \"mesh3d\"}], \"parcoords\": [{\"line\": {\"colorbar\": {\"outlinewidth\": 0, \"ticks\": \"\"}}, \"type\": \"parcoords\"}], \"pie\": [{\"automargin\": true, \"type\": \"pie\"}], \"scatter\": [{\"marker\": {\"colorbar\": {\"outlinewidth\": 0, \"ticks\": \"\"}}, \"type\": \"scatter\"}], \"scatter3d\": [{\"line\": {\"colorbar\": {\"outlinewidth\": 0, \"ticks\": \"\"}}, \"marker\": {\"colorbar\": {\"outlinewidth\": 0, \"ticks\": \"\"}}, \"type\": \"scatter3d\"}], \"scattercarpet\": [{\"marker\": {\"colorbar\": {\"outlinewidth\": 0, \"ticks\": \"\"}}, \"type\": \"scattercarpet\"}], \"scattergeo\": [{\"marker\": {\"colorbar\": {\"outlinewidth\": 0, \"ticks\": \"\"}}, \"type\": \"scattergeo\"}], \"scattergl\": [{\"marker\": {\"colorbar\": {\"outlinewidth\": 0, \"ticks\": \"\"}}, \"type\": \"scattergl\"}], \"scattermapbox\": [{\"marker\": {\"colorbar\": {\"outlinewidth\": 0, \"ticks\": \"\"}}, \"type\": \"scattermapbox\"}], \"scatterpolar\": [{\"marker\": {\"colorbar\": {\"outlinewidth\": 0, \"ticks\": \"\"}}, \"type\": \"scatterpolar\"}], \"scatterpolargl\": [{\"marker\": {\"colorbar\": {\"outlinewidth\": 0, \"ticks\": \"\"}}, \"type\": \"scatterpolargl\"}], \"scatterternary\": [{\"marker\": {\"colorbar\": {\"outlinewidth\": 0, \"ticks\": \"\"}}, \"type\": \"scatterternary\"}], \"surface\": [{\"colorbar\": {\"outlinewidth\": 0, \"ticks\": \"\"}, \"colorscale\": [[0.0, \"#0d0887\"], [0.1111111111111111, \"#46039f\"], [0.2222222222222222, \"#7201a8\"], [0.3333333333333333, \"#9c179e\"], [0.4444444444444444, \"#bd3786\"], [0.5555555555555556, \"#d8576b\"], [0.6666666666666666, \"#ed7953\"], [0.7777777777777778, \"#fb9f3a\"], [0.8888888888888888, \"#fdca26\"], [1.0, \"#f0f921\"]], \"type\": \"surface\"}], \"table\": [{\"cells\": {\"fill\": {\"color\": \"#EBF0F8\"}, \"line\": {\"color\": \"white\"}}, \"header\": {\"fill\": {\"color\": \"#C8D4E3\"}, \"line\": {\"color\": \"white\"}}, \"type\": \"table\"}]}, \"layout\": {\"annotationdefaults\": {\"arrowcolor\": \"#2a3f5f\", \"arrowhead\": 0, \"arrowwidth\": 1}, \"coloraxis\": {\"colorbar\": {\"outlinewidth\": 0, \"ticks\": \"\"}}, \"colorscale\": {\"diverging\": [[0, \"#8e0152\"], [0.1, \"#c51b7d\"], [0.2, \"#de77ae\"], [0.3, \"#f1b6da\"], [0.4, \"#fde0ef\"], [0.5, \"#f7f7f7\"], [0.6, \"#e6f5d0\"], [0.7, \"#b8e186\"], [0.8, \"#7fbc41\"], [0.9, \"#4d9221\"], [1, \"#276419\"]], \"sequential\": [[0.0, \"#0d0887\"], [0.1111111111111111, \"#46039f\"], [0.2222222222222222, \"#7201a8\"], [0.3333333333333333, \"#9c179e\"], [0.4444444444444444, \"#bd3786\"], [0.5555555555555556, \"#d8576b\"], [0.6666666666666666, \"#ed7953\"], [0.7777777777777778, \"#fb9f3a\"], [0.8888888888888888, \"#fdca26\"], [1.0, \"#f0f921\"]], \"sequentialminus\": [[0.0, \"#0d0887\"], [0.1111111111111111, \"#46039f\"], [0.2222222222222222, \"#7201a8\"], [0.3333333333333333, \"#9c179e\"], [0.4444444444444444, \"#bd3786\"], [0.5555555555555556, \"#d8576b\"], [0.6666666666666666, \"#ed7953\"], [0.7777777777777778, \"#fb9f3a\"], [0.8888888888888888, \"#fdca26\"], [1.0, \"#f0f921\"]]}, \"colorway\": [\"#636efa\", \"#EF553B\", \"#00cc96\", \"#ab63fa\", \"#FFA15A\", \"#19d3f3\", \"#FF6692\", \"#B6E880\", \"#FF97FF\", \"#FECB52\"], \"font\": {\"color\": \"#2a3f5f\"}, \"geo\": {\"bgcolor\": \"white\", \"lakecolor\": \"white\", \"landcolor\": \"#E5ECF6\", \"showlakes\": true, \"showland\": true, \"subunitcolor\": \"white\"}, \"hoverlabel\": {\"align\": \"left\"}, \"hovermode\": \"closest\", \"mapbox\": {\"style\": \"light\"}, \"paper_bgcolor\": \"white\", \"plot_bgcolor\": \"#E5ECF6\", \"polar\": {\"angularaxis\": {\"gridcolor\": \"white\", \"linecolor\": \"white\", \"ticks\": \"\"}, \"bgcolor\": \"#E5ECF6\", \"radialaxis\": {\"gridcolor\": \"white\", \"linecolor\": \"white\", \"ticks\": \"\"}}, \"scene\": {\"xaxis\": {\"backgroundcolor\": \"#E5ECF6\", \"gridcolor\": \"white\", \"gridwidth\": 2, \"linecolor\": \"white\", \"showbackground\": true, \"ticks\": \"\", \"zerolinecolor\": \"white\"}, \"yaxis\": {\"backgroundcolor\": \"#E5ECF6\", \"gridcolor\": \"white\", \"gridwidth\": 2, \"linecolor\": \"white\", \"showbackground\": true, \"ticks\": \"\", \"zerolinecolor\": \"white\"}, \"zaxis\": {\"backgroundcolor\": \"#E5ECF6\", \"gridcolor\": \"white\", \"gridwidth\": 2, \"linecolor\": \"white\", \"showbackground\": true, \"ticks\": \"\", \"zerolinecolor\": \"white\"}}, \"shapedefaults\": {\"line\": {\"color\": \"#2a3f5f\"}}, \"ternary\": {\"aaxis\": {\"gridcolor\": \"white\", \"linecolor\": \"white\", \"ticks\": \"\"}, \"baxis\": {\"gridcolor\": \"white\", \"linecolor\": \"white\", \"ticks\": \"\"}, \"bgcolor\": \"#E5ECF6\", \"caxis\": {\"gridcolor\": \"white\", \"linecolor\": \"white\", \"ticks\": \"\"}}, \"title\": {\"x\": 0.05}, \"xaxis\": {\"automargin\": true, \"gridcolor\": \"white\", \"linecolor\": \"white\", \"ticks\": \"\", \"title\": {\"standoff\": 15}, \"zerolinecolor\": \"white\", \"zerolinewidth\": 2}, \"yaxis\": {\"automargin\": true, \"gridcolor\": \"white\", \"linecolor\": \"white\", \"ticks\": \"\", \"title\": {\"standoff\": 15}, \"zerolinecolor\": \"white\", \"zerolinewidth\": 2}}}, \"title\": {\"text\": \"Distribution of Classes\", \"x\": 0.5, \"xanchor\": \"center\", \"y\": 0.9, \"yanchor\": \"top\"}, \"width\": 500},\n",
       "                        {\"responsive\": true}\n",
       "                    ).then(function(){\n",
       "                            \n",
       "var gd = document.getElementById('7ab65689-239b-4ce7-9b0e-c4eba2dc1a58');\n",
       "var x = new MutationObserver(function (mutations, observer) {{\n",
       "        var display = window.getComputedStyle(gd).display;\n",
       "        if (!display || display === 'none') {{\n",
       "            console.log([gd, 'removed!']);\n",
       "            Plotly.purge(gd);\n",
       "            observer.disconnect();\n",
       "        }}\n",
       "}});\n",
       "\n",
       "// Listen for the removal of the full notebook cells\n",
       "var notebookContainer = gd.closest('#notebook-container');\n",
       "if (notebookContainer) {{\n",
       "    x.observe(notebookContainer, {childList: true});\n",
       "}}\n",
       "\n",
       "// Listen for the clearing of the current output cell\n",
       "var outputEl = gd.closest('.output');\n",
       "if (outputEl) {{\n",
       "    x.observe(outputEl, {childList: true});\n",
       "}}\n",
       "\n",
       "                        })\n",
       "                };\n",
       "                });\n",
       "            </script>\n",
       "        </div>"
      ]
     },
     "metadata": {},
     "output_type": "display_data"
    }
   ],
   "source": [
    "colors = ['gold', 'mediumturquoise', 'darkorange', 'lightgreen']\n",
    "fig = go.Figure(data=[go.Pie(\n",
    "                             labels=sentiments_dist.index,\n",
    "                             values=sentiments_dist.sentiment,\n",
    "                             hole=.5,\n",
    "                             textposition = 'outside',\n",
    "                             textinfo='label+percent',\n",
    "                             marker=dict( line=dict(color='#000000', width=2))\n",
    "                                        )])\n",
    "fig.update_layout(\n",
    "    showlegend=False,\n",
    "    title={\n",
    "        'text': \"Distribution of Classes\",\n",
    "        'y':.9,\n",
    "        'x':.5,\n",
    "        'xanchor': 'center',\n",
    "        'yanchor': 'top'},\n",
    "    width=500,\n",
    "    height=500\n",
    ")\n",
    "fig.show()\n"
   ]
  },
  {
   "cell_type": "code",
   "execution_count": 33,
   "metadata": {},
   "outputs": [],
   "source": [
    "# nltk.download('popular')"
   ]
  },
  {
   "cell_type": "code",
   "execution_count": 34,
   "metadata": {},
   "outputs": [],
   "source": [
    "sentiments_all = '\\n'.join(data['tweet'].astype(str))"
   ]
  },
  {
   "cell_type": "code",
   "execution_count": 35,
   "metadata": {},
   "outputs": [],
   "source": [
    "# sentiments_all"
   ]
  },
  {
   "cell_type": "code",
   "execution_count": 36,
   "metadata": {},
   "outputs": [],
   "source": [
    "tokenizer = TreebankWordTokenizer()"
   ]
  },
  {
   "cell_type": "code",
   "execution_count": 37,
   "metadata": {},
   "outputs": [
    {
     "name": "stdout",
     "output_type": "stream",
     "text": [
      "Unique unprocessed tokens - 12993\n"
     ]
    }
   ],
   "source": [
    "#Unique tokens\n",
    "\n",
    "tokens = tokenizer.tokenize(sentiments_all)\n",
    "\n",
    "print(f'Unique unprocessed tokens - {len(set(tokens))}')"
   ]
  },
  {
   "cell_type": "code",
   "execution_count": 38,
   "metadata": {},
   "outputs": [
    {
     "name": "stdout",
     "output_type": "stream",
     "text": [
      "Unique lower case unprocessed tokens - 10744\n"
     ]
    }
   ],
   "source": [
    "# Unique lower cases tokens\n",
    "\n",
    "tokens_lower = [text.lower() for text in tokens]\n",
    "tokens_lower_count = len(set(tokens_lower))\n",
    "\n",
    "print(f'Unique lower case unprocessed tokens - {tokens_lower_count}')"
   ]
  },
  {
   "cell_type": "code",
   "execution_count": 39,
   "metadata": {},
   "outputs": [],
   "source": [
    "# ls = LancasterStemmer()\n",
    "ps = PorterStemmer()"
   ]
  },
  {
   "cell_type": "code",
   "execution_count": 40,
   "metadata": {},
   "outputs": [
    {
     "name": "stdout",
     "output_type": "stream",
     "text": [
      "Unique lower case stemmed tokens - 9021\n"
     ]
    }
   ],
   "source": [
    "# Unique lower case + porter stemmed tokens\n",
    "\n",
    "tokens_lower_ps = [ps.stem(text) for text in tokens_lower]\n",
    "tokens_lower_ps_count = len(set(tokens_lower_ps))\n",
    "\n",
    "print(f'Unique lower case stemmed tokens - {tokens_lower_ps_count}')"
   ]
  },
  {
   "cell_type": "code",
   "execution_count": 41,
   "metadata": {},
   "outputs": [
    {
     "name": "stdout",
     "output_type": "stream",
     "text": [
      "Unique lower case stemmed tokens - 8915\n"
     ]
    }
   ],
   "source": [
    "# Unique lower case + porter stemmed (w/o) stop words tokens\n",
    "\n",
    "# Load stop words\n",
    "stop_words = set(stopwords.words('english'))\n",
    "\n",
    "tokens_lower_ps_stw = [text for text in tokens_lower_ps if text not in stop_words]\n",
    "tokens_lower_ps_stw_count = len(set(tokens_lower_ps_stw))\n",
    "print(f'Unique lower case stemmed tokens - {tokens_lower_ps_stw_count}')"
   ]
  },
  {
   "cell_type": "code",
   "execution_count": 42,
   "metadata": {},
   "outputs": [
    {
     "data": {
      "image/png": "[encoded data removed]",
      "text/plain": [
       "<Figure size 1080x720 with 1 Axes>"
      ]
     },
     "metadata": {
      "needs_background": "light"
     },
     "output_type": "display_data"
    }
   ],
   "source": [
    "# Create a word cloud\n",
    "\n",
    "wc = WordCloud(stopwords=stop_words, background_color='white', max_words=500).generate(sentiments_all.lower())\n",
    "\n",
    "%matplotlib inline\n",
    "plt.figure(figsize=(15, 10))\n",
    "plt.clf()\n",
    "plt.imshow(wc)\n",
    "plt.axis('off')\n",
    "plt.show()\n"
   ]
  },
  {
   "cell_type": "markdown",
   "metadata": {},
   "source": [
    "#### Initial Sentiment Analysis"
   ]
  },
  {
   "cell_type": "markdown",
   "metadata": {},
   "source": [
    "* Basic"
   ]
  },
  {
   "cell_type": "code",
   "execution_count": 43,
   "metadata": {},
   "outputs": [],
   "source": [
    "# X, y split\n",
    "\n",
    "X = data.tweet.astype(str)\n",
    "y = data.sentiment"
   ]
  },
  {
   "cell_type": "code",
   "execution_count": 44,
   "metadata": {},
   "outputs": [],
   "source": [
    "# train test split\n",
    "\n",
    "X_train, X_test, y_train, y_test = train_test_split(X, y, train_size=0.8, random_state=10)"
   ]
  },
  {
   "cell_type": "markdown",
   "metadata": {},
   "source": [
    "1. CountVectorizer - vanilla"
   ]
  },
  {
   "cell_type": "code",
   "execution_count": 45,
   "metadata": {},
   "outputs": [
    {
     "data": {
      "text/plain": [
       "CountVectorizer(analyzer='word', binary=False, decode_error='strict',\n",
       "                dtype=<class 'numpy.int64'>, encoding='utf-8', input='content',\n",
       "                lowercase=True, max_df=1.0, max_features=None, min_df=1,\n",
       "                ngram_range=(1, 1), preprocessor=None, stop_words=None,\n",
       "                strip_accents=None, token_pattern='(?u)\\\\b\\\\w\\\\w+\\\\b',\n",
       "                tokenizer=None, vocabulary=None)"
      ]
     },
     "execution_count": 45,
     "metadata": {},
     "output_type": "execute_result"
    }
   ],
   "source": [
    "# Initialize CountVectorizer - vanilla\n",
    "cv = CountVectorizer()\n",
    "cv"
   ]
  },
  {
   "cell_type": "code",
   "execution_count": 46,
   "metadata": {},
   "outputs": [],
   "source": [
    "X_train_cv, X_test_cv = vectorizer_fit_transform(cv, X_train, X_test)"
   ]
  },
  {
   "cell_type": "code",
   "execution_count": 47,
   "metadata": {},
   "outputs": [
    {
     "data": {
      "text/plain": [
       "(5819, 8035)"
      ]
     },
     "execution_count": 47,
     "metadata": {},
     "output_type": "execute_result"
    }
   ],
   "source": [
    "X_train_cv.shape"
   ]
  },
  {
   "cell_type": "code",
   "execution_count": 48,
   "metadata": {},
   "outputs": [
    {
     "name": "stdout",
     "output_type": "stream",
     "text": [
      "CLF report for RandomForestClassifier\n",
      "              precision    recall  f1-score   support\n",
      "\n",
      "           0       0.70      0.26      0.38        89\n",
      "           1       0.67      0.90      0.77       857\n",
      "           2       0.69      0.39      0.50       485\n",
      "           3       0.00      0.00      0.00        24\n",
      "\n",
      "    accuracy                           0.67      1455\n",
      "   macro avg       0.51      0.39      0.41      1455\n",
      "weighted avg       0.67      0.67      0.64      1455\n",
      "\n",
      "---\n",
      "CLF report for GradientBoostingClassifier\n",
      "              precision    recall  f1-score   support\n",
      "\n",
      "           0       0.65      0.12      0.21        89\n",
      "           1       0.66      0.94      0.78       857\n",
      "           2       0.71      0.31      0.43       485\n",
      "           3       0.09      0.04      0.06        24\n",
      "\n",
      "    accuracy                           0.66      1455\n",
      "   macro avg       0.53      0.35      0.37      1455\n",
      "weighted avg       0.67      0.66      0.61      1455\n",
      "\n",
      "---\n",
      "CLF report for LogisticRegression\n",
      "              precision    recall  f1-score   support\n",
      "\n",
      "           0       0.53      0.35      0.42        89\n",
      "           1       0.73      0.84      0.78       857\n",
      "           2       0.65      0.54      0.59       485\n",
      "           3       0.00      0.00      0.00        24\n",
      "\n",
      "    accuracy                           0.69      1455\n",
      "   macro avg       0.48      0.43      0.45      1455\n",
      "weighted avg       0.68      0.69      0.68      1455\n",
      "\n",
      "---\n"
     ]
    },
    {
     "name": "stderr",
     "output_type": "stream",
     "text": [
      "/Users/Aniket/anaconda3/lib/python3.7/site-packages/sklearn/linear_model/_logistic.py:940: ConvergenceWarning:\n",
      "\n",
      "lbfgs failed to converge (status=1):\n",
      "STOP: TOTAL NO. of ITERATIONS REACHED LIMIT.\n",
      "\n",
      "Increase the number of iterations (max_iter) or scale the data as shown in:\n",
      "    https://scikit-learn.org/stable/modules/preprocessing.html\n",
      "Please also refer to the documentation for alternative solver options:\n",
      "    https://scikit-learn.org/stable/modules/linear_model.html#logistic-regression\n",
      "\n"
     ]
    }
   ],
   "source": [
    "fit_models(X_train_cv, X_test_cv, y_train, y_test)"
   ]
  },
  {
   "cell_type": "code",
   "execution_count": null,
   "metadata": {},
   "outputs": [],
   "source": []
  },
  {
   "cell_type": "markdown",
   "metadata": {},
   "source": [
    "2. TfidfVectorizer - vanilla"
   ]
  },
  {
   "cell_type": "code",
   "execution_count": 49,
   "metadata": {},
   "outputs": [
    {
     "data": {
      "text/plain": [
       "TfidfVectorizer(analyzer='word', binary=False, decode_error='strict',\n",
       "                dtype=<class 'numpy.float64'>, encoding='utf-8',\n",
       "                input='content', lowercase=True, max_df=1.0, max_features=None,\n",
       "                min_df=1, ngram_range=(1, 1), norm='l2', preprocessor=None,\n",
       "                smooth_idf=True, stop_words=None, strip_accents=None,\n",
       "                sublinear_tf=False, token_pattern='(?u)\\\\b\\\\w\\\\w+\\\\b',\n",
       "                tokenizer=None, use_idf=True, vocabulary=None)"
      ]
     },
     "execution_count": 49,
     "metadata": {},
     "output_type": "execute_result"
    }
   ],
   "source": [
    "# Initialize TfidfVectorizer - vanilla\n",
    "tf = TfidfVectorizer()\n",
    "tf"
   ]
  },
  {
   "cell_type": "code",
   "execution_count": 50,
   "metadata": {},
   "outputs": [],
   "source": [
    "X_train_tf, X_test_tf = vectorizer_fit_transform(tf, X_train, X_test)"
   ]
  },
  {
   "cell_type": "code",
   "execution_count": 51,
   "metadata": {},
   "outputs": [
    {
     "data": {
      "text/plain": [
       "(5819, 8035)"
      ]
     },
     "execution_count": 51,
     "metadata": {},
     "output_type": "execute_result"
    }
   ],
   "source": [
    "X_train_tf.shape"
   ]
  },
  {
   "cell_type": "code",
   "execution_count": 52,
   "metadata": {},
   "outputs": [
    {
     "name": "stdout",
     "output_type": "stream",
     "text": [
      "CLF report for RandomForestClassifier\n",
      "              precision    recall  f1-score   support\n",
      "\n",
      "           0       0.77      0.26      0.39        89\n",
      "           1       0.67      0.90      0.77       857\n",
      "           2       0.68      0.37      0.48       485\n",
      "           3       0.00      0.00      0.00        24\n",
      "\n",
      "    accuracy                           0.67      1455\n",
      "   macro avg       0.53      0.38      0.41      1455\n",
      "weighted avg       0.67      0.67      0.64      1455\n",
      "\n",
      "---\n",
      "CLF report for GradientBoostingClassifier\n",
      "              precision    recall  f1-score   support\n",
      "\n",
      "           0       0.63      0.13      0.22        89\n",
      "           1       0.66      0.92      0.77       857\n",
      "           2       0.67      0.31      0.42       485\n",
      "           3       0.00      0.00      0.00        24\n",
      "\n",
      "    accuracy                           0.65      1455\n",
      "   macro avg       0.49      0.34      0.35      1455\n",
      "weighted avg       0.65      0.65      0.61      1455\n",
      "\n",
      "---\n",
      "CLF report for LogisticRegression\n",
      "              precision    recall  f1-score   support\n",
      "\n",
      "           0       0.75      0.07      0.12        89\n",
      "           1       0.70      0.89      0.79       857\n",
      "           2       0.66      0.49      0.56       485\n",
      "           3       0.00      0.00      0.00        24\n",
      "\n",
      "    accuracy                           0.69      1455\n",
      "   macro avg       0.53      0.36      0.37      1455\n",
      "weighted avg       0.68      0.69      0.66      1455\n",
      "\n",
      "---\n"
     ]
    },
    {
     "name": "stderr",
     "output_type": "stream",
     "text": [
      "/Users/Aniket/anaconda3/lib/python3.7/site-packages/sklearn/metrics/_classification.py:1272: UndefinedMetricWarning:\n",
      "\n",
      "Precision and F-score are ill-defined and being set to 0.0 in labels with no predicted samples. Use `zero_division` parameter to control this behavior.\n",
      "\n"
     ]
    }
   ],
   "source": [
    "fit_models(X_train_tf, X_test_tf, y_train, y_test)"
   ]
  },
  {
   "cell_type": "markdown",
   "metadata": {},
   "source": [
    "3. CountVectorizer - ngram_range=(1, 2)"
   ]
  },
  {
   "cell_type": "code",
   "execution_count": 53,
   "metadata": {},
   "outputs": [
    {
     "data": {
      "text/plain": [
       "CountVectorizer(analyzer='word', binary=False, decode_error='strict',\n",
       "                dtype=<class 'numpy.int64'>, encoding='utf-8', input='content',\n",
       "                lowercase=True, max_df=1.0, max_features=None, min_df=1,\n",
       "                ngram_range=(1, 2), preprocessor=None, stop_words=None,\n",
       "                strip_accents=None, token_pattern='(?u)\\\\b\\\\w\\\\w+\\\\b',\n",
       "                tokenizer=None, vocabulary=None)"
      ]
     },
     "execution_count": 53,
     "metadata": {},
     "output_type": "execute_result"
    }
   ],
   "source": [
    "# Initialize CountVectorizer - ngram_range=(1, 2)\n",
    "cv2 = CountVectorizer(ngram_range=(1, 2))\n",
    "cv2"
   ]
  },
  {
   "cell_type": "code",
   "execution_count": 54,
   "metadata": {},
   "outputs": [],
   "source": [
    "X_train_cv2, X_test_cv2 = vectorizer_fit_transform(cv2, X_train, X_test)"
   ]
  },
  {
   "cell_type": "code",
   "execution_count": 55,
   "metadata": {},
   "outputs": [
    {
     "data": {
      "text/plain": [
       "(5819, 45721)"
      ]
     },
     "execution_count": 55,
     "metadata": {},
     "output_type": "execute_result"
    }
   ],
   "source": [
    "X_train_cv2.shape"
   ]
  },
  {
   "cell_type": "code",
   "execution_count": 56,
   "metadata": {},
   "outputs": [
    {
     "name": "stdout",
     "output_type": "stream",
     "text": [
      "CLF report for RandomForestClassifier\n",
      "              precision    recall  f1-score   support\n",
      "\n",
      "           0       0.68      0.26      0.37        89\n",
      "           1       0.65      0.92      0.76       857\n",
      "           2       0.70      0.31      0.42       485\n",
      "           3       0.00      0.00      0.00        24\n",
      "\n",
      "    accuracy                           0.66      1455\n",
      "   macro avg       0.51      0.37      0.39      1455\n",
      "weighted avg       0.66      0.66      0.61      1455\n",
      "\n",
      "---\n",
      "CLF report for GradientBoostingClassifier\n",
      "              precision    recall  f1-score   support\n",
      "\n",
      "           0       0.65      0.12      0.21        89\n",
      "           1       0.66      0.94      0.77       857\n",
      "           2       0.71      0.31      0.43       485\n",
      "           3       0.00      0.00      0.00        24\n",
      "\n",
      "    accuracy                           0.66      1455\n",
      "   macro avg       0.50      0.34      0.35      1455\n",
      "weighted avg       0.66      0.66      0.61      1455\n",
      "\n",
      "---\n",
      "CLF report for LogisticRegression\n",
      "              precision    recall  f1-score   support\n",
      "\n",
      "           0       0.56      0.30      0.39        89\n",
      "           1       0.72      0.85      0.78       857\n",
      "           2       0.66      0.54      0.60       485\n",
      "           3       0.00      0.00      0.00        24\n",
      "\n",
      "    accuracy                           0.70      1455\n",
      "   macro avg       0.49      0.42      0.44      1455\n",
      "weighted avg       0.68      0.70      0.68      1455\n",
      "\n",
      "---\n"
     ]
    },
    {
     "name": "stderr",
     "output_type": "stream",
     "text": [
      "/Users/Aniket/anaconda3/lib/python3.7/site-packages/sklearn/linear_model/_logistic.py:940: ConvergenceWarning:\n",
      "\n",
      "lbfgs failed to converge (status=1):\n",
      "STOP: TOTAL NO. of ITERATIONS REACHED LIMIT.\n",
      "\n",
      "Increase the number of iterations (max_iter) or scale the data as shown in:\n",
      "    https://scikit-learn.org/stable/modules/preprocessing.html\n",
      "Please also refer to the documentation for alternative solver options:\n",
      "    https://scikit-learn.org/stable/modules/linear_model.html#logistic-regression\n",
      "\n"
     ]
    }
   ],
   "source": [
    "fit_models(X_train_cv2, X_test_cv2, y_train, y_test)"
   ]
  },
  {
   "cell_type": "markdown",
   "metadata": {},
   "source": [
    "4. TfidfVectorizer - ngram_range=(1, 2)"
   ]
  },
  {
   "cell_type": "code",
   "execution_count": 57,
   "metadata": {},
   "outputs": [
    {
     "data": {
      "text/plain": [
       "TfidfVectorizer(analyzer='word', binary=False, decode_error='strict',\n",
       "                dtype=<class 'numpy.float64'>, encoding='utf-8',\n",
       "                input='content', lowercase=True, max_df=1.0, max_features=None,\n",
       "                min_df=1, ngram_range=(1, 2), norm='l2', preprocessor=None,\n",
       "                smooth_idf=True, stop_words=None, strip_accents=None,\n",
       "                sublinear_tf=False, token_pattern='(?u)\\\\b\\\\w\\\\w+\\\\b',\n",
       "                tokenizer=None, use_idf=True, vocabulary=None)"
      ]
     },
     "execution_count": 57,
     "metadata": {},
     "output_type": "execute_result"
    }
   ],
   "source": [
    "# Initialize TfidfVectorizer - ngram_range=(1, 2)\n",
    "tf2 = TfidfVectorizer(ngram_range=(1, 2))\n",
    "tf2"
   ]
  },
  {
   "cell_type": "code",
   "execution_count": 58,
   "metadata": {},
   "outputs": [],
   "source": [
    "X_train_tf2, X_test_tf2 = vectorizer_fit_transform(tf2, X_train, X_test)"
   ]
  },
  {
   "cell_type": "code",
   "execution_count": 59,
   "metadata": {},
   "outputs": [
    {
     "name": "stdout",
     "output_type": "stream",
     "text": [
      "CLF report for RandomForestClassifier\n",
      "              precision    recall  f1-score   support\n",
      "\n",
      "           0       0.71      0.25      0.37        89\n",
      "           1       0.66      0.92      0.77       857\n",
      "           2       0.69      0.33      0.45       485\n",
      "           3       0.00      0.00      0.00        24\n",
      "\n",
      "    accuracy                           0.67      1455\n",
      "   macro avg       0.51      0.37      0.40      1455\n",
      "weighted avg       0.66      0.67      0.62      1455\n",
      "\n",
      "---\n",
      "CLF report for GradientBoostingClassifier\n",
      "              precision    recall  f1-score   support\n",
      "\n",
      "           0       0.59      0.11      0.19        89\n",
      "           1       0.67      0.92      0.77       857\n",
      "           2       0.69      0.34      0.45       485\n",
      "           3       0.00      0.00      0.00        24\n",
      "\n",
      "    accuracy                           0.66      1455\n",
      "   macro avg       0.49      0.34      0.35      1455\n",
      "weighted avg       0.66      0.66      0.62      1455\n",
      "\n",
      "---\n",
      "CLF report for LogisticRegression\n",
      "              precision    recall  f1-score   support\n",
      "\n",
      "           0       1.00      0.02      0.04        89\n",
      "           1       0.70      0.91      0.79       857\n",
      "           2       0.69      0.49      0.57       485\n",
      "           3       0.00      0.00      0.00        24\n",
      "\n",
      "    accuracy                           0.70      1455\n",
      "   macro avg       0.60      0.35      0.35      1455\n",
      "weighted avg       0.70      0.70      0.66      1455\n",
      "\n",
      "---\n"
     ]
    },
    {
     "name": "stderr",
     "output_type": "stream",
     "text": [
      "/Users/Aniket/anaconda3/lib/python3.7/site-packages/sklearn/metrics/_classification.py:1272: UndefinedMetricWarning:\n",
      "\n",
      "Precision and F-score are ill-defined and being set to 0.0 in labels with no predicted samples. Use `zero_division` parameter to control this behavior.\n",
      "\n"
     ]
    }
   ],
   "source": [
    "fit_models(X_train_tf2, X_test_tf2, y_train, y_test)"
   ]
  },
  {
   "cell_type": "code",
   "execution_count": 60,
   "metadata": {},
   "outputs": [],
   "source": [
    "# remove_hash(sample)"
   ]
  },
  {
   "cell_type": "code",
   "execution_count": 61,
   "metadata": {},
   "outputs": [],
   "source": [
    "# remove_mention(sample)"
   ]
  },
  {
   "cell_type": "code",
   "execution_count": 62,
   "metadata": {},
   "outputs": [],
   "source": [
    "# remove_link(sample)"
   ]
  },
  {
   "cell_type": "code",
   "execution_count": 63,
   "metadata": {},
   "outputs": [],
   "source": [
    "# remove_rt(sample)"
   ]
  },
  {
   "cell_type": "code",
   "execution_count": 64,
   "metadata": {},
   "outputs": [],
   "source": [
    "# remove_not_alnum(sample)"
   ]
  },
  {
   "cell_type": "markdown",
   "metadata": {},
   "source": [
    "#### Checking for links"
   ]
  },
  {
   "cell_type": "code",
   "execution_count": 65,
   "metadata": {},
   "outputs": [
    {
     "data": {
      "text/plain": [
       "44"
      ]
     },
     "execution_count": 65,
     "metadata": {},
     "output_type": "execute_result"
    }
   ],
   "source": [
    "links = []\n",
    "http_link_pat = r'http[s]?://[a-z0-9/\\._-]+||//[a-z0-9/\\._-]+|[\\w\\.]+\\.[a-z]+/[a-z0-9/\\._-]+' \n",
    "for t in tokens:\n",
    "    temp = list(re.findall(http_link_pat, t, flags=re.I))\n",
    "    [links.append(x) for x in temp if x not in links]\n",
    "len(links)"
   ]
  },
  {
   "cell_type": "code",
   "execution_count": 66,
   "metadata": {},
   "outputs": [],
   "source": [
    "# replace links with pattern"
   ]
  },
  {
   "cell_type": "markdown",
   "metadata": {},
   "source": [
    "#### Checking for emails"
   ]
  },
  {
   "cell_type": "code",
   "execution_count": 67,
   "metadata": {},
   "outputs": [
    {
     "data": {
      "text/plain": [
       "0"
      ]
     },
     "execution_count": 67,
     "metadata": {},
     "output_type": "execute_result"
    }
   ],
   "source": [
    "emails = []\n",
    "email_pat = r'[a-z0-9_\\.-]+@[a-z0-9]+\\.[a-z]+\\.?[a-z]*'\n",
    "#     text = re.sub(email_pat, '', text, flags=re.I)\n",
    "for t in tokens:\n",
    "    temp = list(re.findall(email_pat, t, flags=re.I))\n",
    "    [emails.append(x) for x in temp if x not in emails]\n",
    "len(emails)"
   ]
  },
  {
   "cell_type": "code",
   "execution_count": 68,
   "metadata": {},
   "outputs": [],
   "source": [
    "# no emails found"
   ]
  },
  {
   "cell_type": "code",
   "execution_count": 69,
   "metadata": {},
   "outputs": [],
   "source": [
    "# data.loc[0,'tweet']"
   ]
  },
  {
   "cell_type": "code",
   "execution_count": 70,
   "metadata": {},
   "outputs": [],
   "source": [
    "# clean_text(data.loc[0,'tweet'])\n"
   ]
  },
  {
   "cell_type": "code",
   "execution_count": 71,
   "metadata": {},
   "outputs": [],
   "source": [
    "#### html tags"
   ]
  },
  {
   "cell_type": "code",
   "execution_count": 72,
   "metadata": {},
   "outputs": [
    {
     "data": {
      "text/plain": [
       "2011"
      ]
     },
     "execution_count": 72,
     "metadata": {},
     "output_type": "execute_result"
    }
   ],
   "source": [
    "html_tags = []\n",
    "html_tag_pat = r'&[a-z]+;'\n",
    "for t in sentiments_all.split(' '):\n",
    "    temp = re.findall(html_tag_pat, t, flags=re.I)\n",
    "    if temp != []:\n",
    "        html_tags.append(temp)\n",
    "len(html_tags)"
   ]
  },
  {
   "cell_type": "code",
   "execution_count": 73,
   "metadata": {},
   "outputs": [],
   "source": [
    "# html_tags"
   ]
  },
  {
   "cell_type": "code",
   "execution_count": 74,
   "metadata": {},
   "outputs": [
    {
     "data": {
      "text/plain": [
       "21"
      ]
     },
     "execution_count": 74,
     "metadata": {},
     "output_type": "execute_result"
    }
   ],
   "source": [
    "short_links = []\n",
    "short_link_pat = r'bit\\.ly/.*'\n",
    "# short_link_pat = r'.*[\\./].*'\n",
    "\n",
    "for t in sentiments_all.split(' '):\n",
    "    temp = re.findall(short_link_pat, t, flags=re.I)\n",
    "    if temp != []:\n",
    "        short_links.append(temp)\n",
    "len(short_links)"
   ]
  },
  {
   "cell_type": "code",
   "execution_count": 75,
   "metadata": {},
   "outputs": [],
   "source": [
    "# short_links"
   ]
  },
  {
   "cell_type": "code",
   "execution_count": 76,
   "metadata": {},
   "outputs": [
    {
     "data": {
      "text/plain": [
       "'couldnt they would ipad '"
      ]
     },
     "execution_count": 76,
     "metadata": {},
     "output_type": "execute_result"
    }
   ],
   "source": [
    "remove_punctuation('couldn\\'t they\\'d ipad\\'s')"
   ]
  },
  {
   "cell_type": "code",
   "execution_count": 77,
   "metadata": {},
   "outputs": [],
   "source": [
    "sample = \"RT This is a sample text. #sampleh @samplem ok... \\\n",
    "This is #a_sample as well???// I couldn\\'t use this linkk: {link} @mention \\\n",
    "use: bit.ly/bgbBBHH55=&+-%$#455 \\\n",
    "or use: link - https://stackoverflow.com/questions/71...09143/w_hat-charac~ters-are-val'i'd-in-a-url=%;,+()&$![@]#?iu''?weyf \\\n",
    "Apple should've implemented the new app, then they'll be more safe otherwise they'd be facing a backlash, wouldn't they? \\\n",
    "They're gonna do it imo. Let's wait \\\n",
    "html: &quot; &Amp;  \\\n",
    "time: 23:59 PM ... 2.44 2:34 pm .. 12:45 AM .. 12:46:09 PM .. 12:47:07 .. 1.34 am 1.33am 1.44 . 12:22 1:26 ///.? \\\n",
    "date: 23-05-2017 06/17 7/17 24-05-2018 25.05.2019 \\\n",
    "&tag; xyz &title;\\\n",
    "\"\n",
    "# sample"
   ]
  },
  {
   "cell_type": "code",
   "execution_count": 78,
   "metadata": {},
   "outputs": [
    {
     "data": {
      "text/plain": [
       "' this is a sample text   sampleh   ok    this is  a sample as well      i couldnt use this linkk      use    or use  link     apple should have implemented the new app  then they will be more safe otherwise they would be facing a backlash  wouldnt they  they re gonna do it imo  let  wait html       time                                            date                    xyz  '"
      ]
     },
     "execution_count": 78,
     "metadata": {},
     "output_type": "execute_result"
    }
   ],
   "source": [
    "sample_cleaned = clean_text(sample)\n",
    "sample_cleaned"
   ]
  },
  {
   "cell_type": "markdown",
   "metadata": {},
   "source": [
    "###### tokenizer.tokenize(sample_cleaned)"
   ]
  },
  {
   "cell_type": "code",
   "execution_count": 79,
   "metadata": {},
   "outputs": [],
   "source": [
    "# link = \"link - https://stackoverflow.com/questions/71...09143/w_hat-charac~ters-are-val'i'd-in-a-url=%;,+()&$![@]#?iu''?weyf\"\n"
   ]
  },
  {
   "cell_type": "code",
   "execution_count": 80,
   "metadata": {},
   "outputs": [],
   "source": [
    "# replace_http_link(link)"
   ]
  },
  {
   "cell_type": "code",
   "execution_count": 81,
   "metadata": {},
   "outputs": [],
   "source": [
    "# clean_text(link)"
   ]
  },
  {
   "cell_type": "code",
   "execution_count": 82,
   "metadata": {},
   "outputs": [
    {
     "data": {
      "text/plain": [
       "['2:34 pm',\n",
       " '12:45 AM',\n",
       " '12:46:09 PM',\n",
       " '12:47:07',\n",
       " '1.33 pm',\n",
       " '1.44',\n",
       " '12:22',\n",
       " '1:26',\n",
       " '8.35pm']"
      ]
     },
     "execution_count": 82,
     "metadata": {},
     "output_type": "execute_result"
    }
   ],
   "source": [
    "import re\n",
    "pipe = r\"|\"\n",
    "time_pat =  r\"\\d\\d:\\d\\d:\\d\\d[ ]?pm\"+pipe+\\\n",
    "                r\"\\d\\d:\\d\\d:\\d\\d[ ]?am\"+pipe+\\\n",
    "                r\"\\d\\d:\\d\\d:\\d\\d\"+pipe+\\\n",
    "                r\"\\d\\d:\\d\\d:\\d\\d\"+pipe+\\\n",
    "                r\"[\\d]?\\d:\\d\\d[ ]?pm\"+pipe+\\\n",
    "                r\"[\\d]?\\d:\\d\\d[ ]?am\"+pipe+\\\n",
    "                r\"[\\d]?\\d:\\d\\d\"+pipe+\\\n",
    "                r\"[\\d]?\\d:\\d\\d\"+pipe+\\\n",
    "                r\"[\\d]?\\d.\\d\\d[ ]?pm\"+pipe+\\\n",
    "                r\"[\\d]?\\d.\\d\\d[ ]?am\"+pipe+\\\n",
    "                r\"[\\d]?\\d.\\d\\d\"+pipe+\\\n",
    "                r\"[\\d]?\\d.\\d\\d\"\n",
    "time_pat= r\"{}\".format(time_pat)\n",
    "re.findall(time_pat,'2:34 pm .. 12:45 AM .. 12:46:09 PM .. 12:47:07 .. 1.33 pm 1.44 . 12:22 1:26 8.35pm',flags=re.I)"
   ]
  },
  {
   "cell_type": "code",
   "execution_count": 83,
   "metadata": {},
   "outputs": [
    {
     "data": {
      "text/plain": [
       "'this is an example of     removal'"
      ]
     },
     "execution_count": 83,
     "metadata": {},
     "output_type": "execute_result"
    }
   ],
   "source": [
    "remove_sxsw('this is an example of sxswnui sxsw removal')"
   ]
  },
  {
   "cell_type": "code",
   "execution_count": 84,
   "metadata": {},
   "outputs": [
    {
     "data": {
      "text/plain": [
       "'event was held at      '"
      ]
     },
     "execution_count": 84,
     "metadata": {},
     "output_type": "execute_result"
    }
   ],
   "source": [
    "remove_austin_texas('event was held at Austin TeXas TX')"
   ]
  },
  {
   "cell_type": "code",
   "execution_count": 85,
   "metadata": {},
   "outputs": [],
   "source": [
    "html_char_pat = r'&[a-z]+;'"
   ]
  },
  {
   "cell_type": "code",
   "execution_count": 86,
   "metadata": {},
   "outputs": [
    {
     "data": {
      "text/plain": [
       "'  staRT: art this is an example with 1 RT'"
      ]
     },
     "execution_count": 86,
     "metadata": {},
     "output_type": "execute_result"
    }
   ],
   "source": [
    "txt = 'RT staRT: art this is an example with 1 RT'\n",
    "rt_pat = r'^RT'\n",
    "txt = re.sub(rt_pat, ' ', txt,flags=re.I)\n",
    "txt"
   ]
  },
  {
   "cell_type": "code",
   "execution_count": 87,
   "metadata": {},
   "outputs": [
    {
     "data": {
      "text/plain": [
       "[]"
      ]
     },
     "execution_count": 87,
     "metadata": {},
     "output_type": "execute_result"
    }
   ],
   "source": [
    "re.findall(r\"[<>\\\"]\",sentiments_all)"
   ]
  },
  {
   "cell_type": "code",
   "execution_count": 88,
   "metadata": {},
   "outputs": [
    {
     "data": {
      "text/plain": [
       "['nny &amp;',\n",
       " 'ion &quot',\n",
       " 'erts&quot',\n",
       " 'ore &amp;',\n",
       " 'sic &gt; ',\n",
       " '... &gt;&',\n",
       " 'top &amp;',\n",
       " 'ng, &amp;',\n",
       " 'SW: &quot',\n",
       " 'nts.&quot',\n",
       " 'ly! &gt;&',\n",
       " 'ear &amp;',\n",
       " 'ion &quot',\n",
       " 'far.&quot',\n",
       " 'r...&gt; ',\n",
       " 'ion &quot',\n",
       " 'ture&quot',\n",
       " 'w!! &amp;',\n",
       " 'nk} &lt;-',\n",
       " 'ies,&amp;',\n",
       " 'ork &quot',\n",
       " 'cles&quot',\n",
       " 'ion &quot',\n",
       " 'gle.&quot',\n",
       " 'SDM &amp;',\n",
       " 'sw: &quot',\n",
       " 'nces&quot',\n",
       " 'ion &quot',\n",
       " 'one.&quot',\n",
       " 'd 2.&quot',\n",
       " ' u? &quot',\n",
       " 'oday&quot',\n",
       " '2 AT&amp;',\n",
       " 'for &quot',\n",
       " 'ing!&quot',\n",
       " 'ple &amp;',\n",
       " 'ter &amp;',\n",
       " 'xth &amp;',\n",
       " 'SW =&gt; ',\n",
       " 'llo &amp;',\n",
       " 'Mac &amp;',\n",
       " 'rry &amp;',\n",
       " 'nk} &amp;',\n",
       " 'ch!.&quot',\n",
       " 'Û_] &quot',\n",
       " 'XSW &quot',\n",
       " 'er: &quot',\n",
       " 's...&quot',\n",
       " 'XSW &quot',\n",
       " 'ogle&quot',\n",
       " 'ion &amp;',\n",
       " 'gle &quot',\n",
       " 'nces&quot',\n",
       " '.la &lt; ',\n",
       " 'XSW &amp;',\n",
       " ' God&quot',\n",
       " 'tal &amp;',\n",
       " 'ion &quot',\n",
       " 'kes.&quot',\n",
       " 'nch &quot',\n",
       " 'here&quot',\n",
       " 'rs: &quot',\n",
       " 'ies?&quot',\n",
       " 'ion &amp;',\n",
       " '-N-G&quot',\n",
       " 'ion &quot',\n",
       " 'ink.&quot',\n",
       " 'Pad &amp;',\n",
       " 'gn: &quot',\n",
       " 'ble.&quot',\n",
       " '6th &amp;',\n",
       " 'XSW &quot',\n",
       " ' big&gt;&',\n",
       " ' me &amp;',\n",
       " 'Pad &amp;',\n",
       " ' LA &amp;',\n",
       " 'nsed&quot',\n",
       " 'are &amp;',\n",
       " '4/7 &amp;',\n",
       " 'ng Q&amp;',\n",
       " 'OH: &quot',\n",
       " 'ght.&quot',\n",
       " 'you &amp;',\n",
       " '/7) &amp;',\n",
       " 'le (&amp;',\n",
       " 'ter &amp;',\n",
       " 'sw: &quot',\n",
       " 'nces&quot',\n",
       " 'ion &quot',\n",
       " 'bile&quot',\n",
       " 'ter &amp;',\n",
       " 'app &amp;',\n",
       " 'his &quot',\n",
       " 'trip&quot',\n",
       " 'nel &quot',\n",
       " 'ing &quot',\n",
       " 'Buzz&quot',\n",
       " 'ion &quot',\n",
       " '___ &quot',\n",
       " 'rry &amp;',\n",
       " 'ign &amp;',\n",
       " 'ear &quot',\n",
       " 'emas&quot',\n",
       " 'id, &quot',\n",
       " 'now?&quot',\n",
       " 'od. &quot',\n",
       " ' up.&quot',\n",
       " 'ion &amp;',\n",
       " 'ple &quot',\n",
       " 'p-up&quot',\n",
       " 'l AT&amp;',\n",
       " ' #AT&amp;',\n",
       " 'ks! &amp;',\n",
       " '. AT&amp;',\n",
       " 'the &quot',\n",
       " 'cret&quot',\n",
       " 'isa &amp;',\n",
       " 'tal &amp;',\n",
       " '6th &amp;',\n",
       " 'his &quot',\n",
       " 'ooth&quot',\n",
       " 'rom &quot',\n",
       " 'gain&quot',\n",
       " ' to &quot',\n",
       " 'ook.&quot',\n",
       " 'ord &quot',\n",
       " 'cles&quot',\n",
       " 'ion &quot',\n",
       " 'ted &amp;',\n",
       " 'Fun &amp;',\n",
       " 'ter &amp;',\n",
       " 'gle &amp;',\n",
       " 'ple &quot',\n",
       " 's Up&quot',\n",
       " 're R&amp;',\n",
       " 'sic &amp;',\n",
       " 'W - &quot',\n",
       " 'e RT&quot',\n",
       " 'u --&gt; ',\n",
       " 'cal &amp;',\n",
       " 'red &quot',\n",
       " 'king&quot',\n",
       " 'ion &amp;',\n",
       " 'XSW &quot',\n",
       " 'eals&quot',\n",
       " 'xsw &lt;3',\n",
       " 'u --&gt; ',\n",
       " 'ing &amp;',\n",
       " 'sic &amp;',\n",
       " 'co, &amp;',\n",
       " 'ion &quot',\n",
       " 'king&quot',\n",
       " 'sw: &quot',\n",
       " 'nces&quot',\n",
       " 'fo--&gt; ',\n",
       " 'ilm &gt; ',\n",
       " 'xth &amp;',\n",
       " 'lla &amp;',\n",
       " 'gle.&quot',\n",
       " 'ion &amp;',\n",
       " 'CES &amp;',\n",
       " 'hop &amp;',\n",
       " 'isc &amp;',\n",
       " 'God.&quot',\n",
       " 'sic &amp;',\n",
       " 're: &quot',\n",
       " 'ents&quot',\n",
       " 'ns: &quot',\n",
       " 'mind&quot',\n",
       " 'one.&quot',\n",
       " '6th &amp;',\n",
       " 'tal &amp;',\n",
       " 'XSW &quot',\n",
       " 'ists&quot',\n",
       " 'one &amp;',\n",
       " ' as &quot',\n",
       " 'ore &quot',\n",
       " 'd...&quot',\n",
       " 'new &quot',\n",
       " 'loud&quot',\n",
       " 'ut Q&amp;',\n",
       " 'gle &amp;',\n",
       " 'the &lt;t',\n",
       " 'itle&gt; ',\n",
       " 'ted.&quot',\n",
       " 'ome &amp;',\n",
       " 'tal &amp;',\n",
       " 'zon &amp;',\n",
       " 'ion &quot',\n",
       " 'ant.&quot',\n",
       " 'ifi &amp;',\n",
       " 'app &amp;',\n",
       " 'ion &amp;',\n",
       " 'to? &lt;S',\n",
       " 'sly!&gt; ',\n",
       " ' us &amp;',\n",
       " 'ifi &amp;',\n",
       " 'r a &quot',\n",
       " ' PDF&quot',\n",
       " 'eos &amp;',\n",
       " 'er: &quot',\n",
       " 'lds.&quot',\n",
       " 'ion &quot',\n",
       " 'omy.&quot',\n",
       " 'ask &amp;',\n",
       " 'the &quot',\n",
       " 'tive&quot',\n",
       " 'by: &quot',\n",
       " 'rds.&quot',\n",
       " 'ion &quot',\n",
       " 'day.&quot',\n",
       " 'eo Q&amp;',\n",
       " 'one &amp;',\n",
       " 'and &quot',\n",
       " 't on&quot',\n",
       " 'day &amp;',\n",
       " 'are &amp;',\n",
       " ' GSD&amp;',\n",
       " 'ion &quot',\n",
       " 'gle.&quot',\n",
       " 'rry &amp;',\n",
       " 'oad &amp;',\n",
       " 'ell &amp;',\n",
       " 'ails&quot',\n",
       " 'sw. &quot',\n",
       " 'sxsw&quot',\n",
       " 'zos &amp;',\n",
       " 'ion &quot',\n",
       " 'weet&quot',\n",
       " 'new &quot',\n",
       " 'eak.&quot',\n",
       " 'out &quot',\n",
       " 'ughs&quot',\n",
       " ')...&quot',\n",
       " 'gle &quot',\n",
       " 'nces&quot',\n",
       " 'ell &amp;',\n",
       " 'nk} &amp;',\n",
       " 'ms, &amp;',\n",
       " 'ork &quot',\n",
       " 'cles&quot',\n",
       " 'ion &amp;',\n",
       " ' one&quot',\n",
       " ':)) &quot',\n",
       " 'cles&quot',\n",
       " \"' --&gt; \",\n",
       " 'er: &quot',\n",
       " 'lict&quot',\n",
       " 'ion &quot',\n",
       " 'tter&quot',\n",
       " 'ion &amp;',\n",
       " 'oid &amp;',\n",
       " 'Pad &amp;',\n",
       " 'XSW &amp;',\n",
       " 'SW: &quot',\n",
       " 'hone&quot',\n",
       " 'ion &quot',\n",
       " 'cts.&quot',\n",
       " 'tal &amp;',\n",
       " 'NYT &amp;',\n",
       " 'gle &quot',\n",
       " 'fail&quot',\n",
       " 'ion &amp;',\n",
       " 'XSW &quot',\n",
       " 'eals&quot',\n",
       " 'ers &amp;',\n",
       " 'ype &amp;',\n",
       " 'WP7 &amp;',\n",
       " 'hed &quot',\n",
       " 'ches&quot',\n",
       " 'XSW &lt;&',\n",
       " 'ay, &quot',\n",
       " 'oid?&quot',\n",
       " 'rry &amp;',\n",
       " 'XSW &amp;',\n",
       " 'l AT&amp;',\n",
       " 'on. &quot',\n",
       " ' app&quot',\n",
       " 'd 2 &amp;',\n",
       " 'key &amp;',\n",
       " 'XSW &amp;',\n",
       " 'nes &amp;',\n",
       " 'pes &amp;',\n",
       " 'sw: &quot',\n",
       " 'nces&quot',\n",
       " 'ion &amp;',\n",
       " 'kes.&quot',\n",
       " 'ery &quot',\n",
       " '___?&quot',\n",
       " 'ion &lt;&',\n",
       " 'ion &quot',\n",
       " 'weet&quot',\n",
       " 'new &quot',\n",
       " 'eak.&quot',\n",
       " 'nel &quot',\n",
       " 'orld&quot',\n",
       " 'led &quot',\n",
       " 'cles&quot',\n",
       " 'led &quot',\n",
       " 'cles&quot',\n",
       " 'tle &quot',\n",
       " 'ands&quot',\n",
       " 'gle &quot',\n",
       " 'cle.&quot',\n",
       " 'ust &quot',\n",
       " 'oon.&quot',\n",
       " 'xsw &amp;',\n",
       " 'SW: &quot',\n",
       " 'ion &amp;',\n",
       " 'Yet)&quot',\n",
       " 'by: &quot',\n",
       " 'rds.&quot',\n",
       " 'er: &quot',\n",
       " 'ter.&quot',\n",
       " 'air &amp;',\n",
       " 'XSW &amp;',\n",
       " '6th &amp;',\n",
       " 'o...&quot',\n",
       " 'red,&quot',\n",
       " 'ter &amp;',\n",
       " 'ke, &amp;',\n",
       " 'p a &quot',\n",
       " 'p-up&quot',\n",
       " 'pp. &quot',\n",
       " 'ded.&quot',\n",
       " 'ads?&quot',\n",
       " 'nd. &quot',\n",
       " \"2's?&quot\",\n",
       " 'ple &amp;',\n",
       " 'ed, &quot',\n",
       " ' 2?,&quot',\n",
       " 'is -&gt; ',\n",
       " 'W - &quot',\n",
       " 'ues &amp;',\n",
       " 'aka &quot',\n",
       " 'Wild&quot',\n",
       " 'p a &quot',\n",
       " 'p-up&quot',\n",
       " 'ion &amp;',\n",
       " 'ers &amp;',\n",
       " 'ion &amp;',\n",
       " 'XSW &quot',\n",
       " 'd 2.&quot',\n",
       " 'od. &quot',\n",
       " ' up.&quot',\n",
       " 'hey &amp;',\n",
       " 'ood &amp;',\n",
       " 'nk} &gt;&',\n",
       " 'ing &amp;',\n",
       " 'uth &amp;',\n",
       " 'ips &amp;',\n",
       " 'XSW &amp;',\n",
       " 'ght &amp;',\n",
       " 'e --&gt; ',\n",
       " 'ion &quot',\n",
       " 'ica.&quot',\n",
       " 'SMM &gt;&',\n",
       " 'all &quot',\n",
       " 'b4me&quot',\n",
       " 'er -&gt; ',\n",
       " 'rez &amp;',\n",
       " 'eks &amp;',\n",
       " 'd 2 &amp;',\n",
       " ' to &quot',\n",
       " 'hes.&quot',\n",
       " 'nch &quot',\n",
       " 'type&quot',\n",
       " 'The &quot',\n",
       " 'p up&quot',\n",
       " 'TV: &quot',\n",
       " 'lly.&quot',\n",
       " 'g --&gt;&',\n",
       " 'sw: &quot',\n",
       " 'nces&quot',\n",
       " ' is &quot',\n",
       " 'here&quot',\n",
       " 'xsw &quot',\n",
       " 'uter&quot',\n",
       " 'een.&quot',\n",
       " 'tal &amp;',\n",
       " 'ion &quot',\n",
       " 'weet&quot',\n",
       " 'new &quot',\n",
       " 'eak.&quot',\n",
       " ' at &quot',\n",
       " 'ites&quot',\n",
       " 'el: &quot',\n",
       " 'mers&quot',\n",
       " 'XSW &quot',\n",
       " 'red &gt;&',\n",
       " 'le: &quot',\n",
       " 'mor.&quot',\n",
       " 'xsw &quot',\n",
       " 'nces&quot',\n",
       " 'ki: &quot',\n",
       " 'ple.&quot',\n",
       " 'ol. &lt;3',\n",
       " ' to &quot',\n",
       " 'orm &amp;',\n",
       " 'app?&quot',\n",
       " 'em. &quot',\n",
       " 'tion&quot',\n",
       " 'ay. &amp;',\n",
       " 'ion &amp;',\n",
       " 'RE -&gt; ',\n",
       " 'AR! &lt;-',\n",
       " 'for &quot',\n",
       " 'ereo&quot',\n",
       " 'zz? &quot',\n",
       " 'sxsw&quot',\n",
       " 'tal &amp;',\n",
       " ' GSD&amp;',\n",
       " '6th &amp;',\n",
       " 'sw  &quot',\n",
       " ' a q&amp;',\n",
       " 'ion &amp;',\n",
       " 'on Q&amp;',\n",
       " 'ion &amp;',\n",
       " 'y AT&amp;',\n",
       " 'ut Q&amp;',\n",
       " 'gle &amp;',\n",
       " 'one &amp;',\n",
       " 'g Q &amp;',\n",
       " 'p a &quot',\n",
       " 'phie&quot',\n",
       " 'ion &amp;',\n",
       " 'XSW &quot',\n",
       " 'com &amp;',\n",
       " 'ion &amp;',\n",
       " 'tal &amp;',\n",
       " 'pen &quot',\n",
       " 'opup&quot',\n",
       " 'ers &amp;',\n",
       " 'g a &quot',\n",
       " ' Box&quot',\n",
       " 'ter &amp;',\n",
       " 'ion &quot',\n",
       " 'orld&quot',\n",
       " 'sw: &quot',\n",
       " 'lk: &quot',\n",
       " 'ver?&quot',\n",
       " 'sw: &quot',\n",
       " 'nces&quot',\n",
       " ' GSD&amp;',\n",
       " 'SWi &amp;',\n",
       " 'oft &amp;',\n",
       " 'ion &quot',\n",
       " 'ery.&quot',\n",
       " 'ers &amp;',\n",
       " 'XSW &amp;',\n",
       " 'mers&quot',\n",
       " 'ple &quot',\n",
       " 'p-up&quot',\n",
       " 'sxsw&quot',\n",
       " 'gle &amp;',\n",
       " 'sw: &quot',\n",
       " 'nces&quot',\n",
       " 'al Q&amp;',\n",
       " 'ens &quot',\n",
       " 'p-up&quot',\n",
       " 'ren &amp;',\n",
       " 'rful&quot',\n",
       " 'tal &amp;',\n",
       " 'Pad.&quot',\n",
       " ' on &quot',\n",
       " 'OUR?&quot',\n",
       " 'boy &gt;&',\n",
       " 'you &quot',\n",
       " 'hat?&quot',\n",
       " 'sxsw&quot',\n",
       " 'ork &quot',\n",
       " 'cles&quot',\n",
       " 'ion &quot',\n",
       " 'peak&quot',\n",
       " 'and &quot',\n",
       " 'ere.&quot',\n",
       " 'ion &quot',\n",
       " 'weet&quot',\n",
       " 'new &quot',\n",
       " 'eak.&quot',\n",
       " 'rk? &gt; ',\n",
       " 'gle &quot',\n",
       " 'nces&quot',\n",
       " 'one &amp;',\n",
       " 'rry &amp;',\n",
       " 'ous &quot',\n",
       " 'rket&quot',\n",
       " 'nks &quot',\n",
       " 'cess&quot',\n",
       " 'tal &amp;',\n",
       " 'vsg &quot',\n",
       " 'isa &amp;',\n",
       " 'rs) &amp;',\n",
       " 'FC).&quot',\n",
       " 'ses &quot',\n",
       " 'ies &amp;',\n",
       " 'Bass&quot',\n",
       " 'SW -&gt; ',\n",
       " 'ows &amp;',\n",
       " 'XSW &quot',\n",
       " 'd 2.&quot',\n",
       " 'XSW &quot',\n",
       " 'ogle&quot',\n",
       " 'X.  &quot',\n",
       " 'ium.&quot',\n",
       " 'zed &quot',\n",
       " 'iend&quot',\n",
       " '6th &amp;',\n",
       " 'one &amp;',\n",
       " 'ics &amp;',\n",
       " 'med &quot',\n",
       " 'ker!&quot',\n",
       " 'XSW &amp;',\n",
       " ' BY &quot',\n",
       " 'OVER&quot',\n",
       " 'gle &quot',\n",
       " 'east&quot',\n",
       " 'gar &amp;',\n",
       " ' =  &gt;p',\n",
       " '  + &lt;a',\n",
       " 'ted &quot',\n",
       " 'rier&quot',\n",
       " ' to &quot',\n",
       " 'ier.&quot',\n",
       " 'one &amp;',\n",
       " 'ion &quot',\n",
       " 'ctor&quot',\n",
       " 'ns. &quot',\n",
       " 'ata.&quot',\n",
       " 'ing &amp;',\n",
       " 'ton &amp;',\n",
       " 'ion &amp;',\n",
       " 'the &quot',\n",
       " 'orld&quot',\n",
       " 'ion &quot',\n",
       " 'ents&quot',\n",
       " 'GLE &quot',\n",
       " 'big &amp;',\n",
       " 'ion &amp;',\n",
       " 'tup &amp;',\n",
       " 'XSW &amp;',\n",
       " 'sxsw&quot',\n",
       " 'lls &amp;',\n",
       " ' GSD&amp;',\n",
       " ' is &quot',\n",
       " '1986&quot',\n",
       " ' w/ &quot',\n",
       " 'side&quot',\n",
       " 'ing &quot',\n",
       " 'ion &quot',\n",
       " 'old &amp;',\n",
       " 'cal &amp;',\n",
       " 'ter &amp;',\n",
       " 'ne 7&quot',\n",
       " ' is &quot',\n",
       " 'ica,&quot',\n",
       " 'ion &amp;',\n",
       " '6th &amp;',\n",
       " 'ave &quot',\n",
       " 'list&quot',\n",
       " 'ptu:&quot',\n",
       " 'deo]&quot',\n",
       " 'gle &amp;',\n",
       " 'xth &amp;',\n",
       " 'sw: &quot',\n",
       " 'nces&quot',\n",
       " 'ion &quot',\n",
       " 'gle &quot',\n",
       " 'e...&quot',\n",
       " 'nch &quot',\n",
       " 'type&quot',\n",
       " 'eat &amp;',\n",
       " 'ent!&quot',\n",
       " 'nch &quot',\n",
       " 'type&quot',\n",
       " 'sw: &quot',\n",
       " 'nces&quot',\n",
       " 'ion &quot',\n",
       " 'ago.&quot',\n",
       " '5.2 &quot',\n",
       " 'ear.&quot',\n",
       " 'mes &amp;',\n",
       " 'sw: &quot',\n",
       " 'nces&quot',\n",
       " 'nk} &quot',\n",
       " 'me (&amp;',\n",
       " 's AT&amp;',\n",
       " 'Fun &amp;',\n",
       " 'es: &quot',\n",
       " 'er 6&quot',\n",
       " 'ive &amp;',\n",
       " 'rry &amp;',\n",
       " 'rom &quot',\n",
       " 'tes &amp;',\n",
       " 'ists&quot',\n",
       " 'id. &gt;&',\n",
       " 'one &amp;',\n",
       " 'le: &quot',\n",
       " 'tter&quot',\n",
       " 'nk} &lt;@',\n",
       " 'ion &quot',\n",
       " 'cal.&quot',\n",
       " 'g a &quot',\n",
       " 'k-in&quot',\n",
       " 'SW: &quot',\n",
       " 'nts.&quot',\n",
       " ' iOS&quot',\n",
       " 'for &quot',\n",
       " 'ches&quot',\n",
       " 'sw: &quot',\n",
       " 'nces&quot',\n",
       " 'ion &amp;',\n",
       " 'cts.&quot',\n",
       " '6th &amp;',\n",
       " ' it &amp;',\n",
       " 'on Q&amp;',\n",
       " 'ing &amp;',\n",
       " 'p a &quot',\n",
       " 'p-up&quot',\n",
       " 'W - &quot',\n",
       " 'ers &amp;',\n",
       " 'SDM &amp;',\n",
       " 'les &amp;',\n",
       " 'ion &quot',\n",
       " 'ment&quot',\n",
       " 'for &quot',\n",
       " 'lash&quot',\n",
       " 'xsw &amp;',\n",
       " 'le q&amp;',\n",
       " 'ian &amp;',\n",
       " 'ion &amp;',\n",
       " 'ets &amp;',\n",
       " 'gle &quot',\n",
       " 'e...&quot',\n",
       " 'XSW &amp;',\n",
       " 'XSW &amp;',\n",
       " 'eOS &amp;',\n",
       " 'ers &amp;',\n",
       " 'ion &quot',\n",
       " ' go.&quot',\n",
       " 'ted &quot',\n",
       " 'sxsw&quot',\n",
       " ' to &quot',\n",
       " \"ss's&quot\",\n",
       " 've: &quot',\n",
       " 'back&quot',\n",
       " 'ple &amp;',\n",
       " 'the &quot',\n",
       " 'e me&quot',\n",
       " 'led &quot',\n",
       " 'rcle&quot',\n",
       " 'sw: &quot',\n",
       " 'nces&quot',\n",
       " 'ion &amp;',\n",
       " 'nch &quot',\n",
       " 'type&quot',\n",
       " 'ers &amp;',\n",
       " 'ion &quot',\n",
       " 'vil.&quot',\n",
       " 'ys, &quot',\n",
       " 'ad 2&quot',\n",
       " 'ple &amp;',\n",
       " 'ion &amp;',\n",
       " 'gle &amp;',\n",
       " 'ion &amp;',\n",
       " 'how &quot',\n",
       " 'oth.&quot',\n",
       " 'nch &quot',\n",
       " 'cles&quot',\n",
       " 'sed &amp;',\n",
       " 'ery.&quot',\n",
       " 'lly &quot',\n",
       " ' out&quot',\n",
       " 'app &amp;',\n",
       " 'k} -&gt; ',\n",
       " 'Pad.&quot',\n",
       " 'ion &amp;',\n",
       " 'nk} &lt;-',\n",
       " 'gle &amp;',\n",
       " 'ith &quot',\n",
       " 'cles&quot',\n",
       " 'ian &amp;',\n",
       " '6th &amp;',\n",
       " 'ion &quot',\n",
       " 'ago.&quot',\n",
       " '4/7 &amp;',\n",
       " 'd 2 &amp;',\n",
       " 'tal &amp;',\n",
       " 'rry &amp;',\n",
       " 'led &quot',\n",
       " 'cles&quot',\n",
       " 'd a &quot',\n",
       " 'fect&quot',\n",
       " 'ion &quot',\n",
       " 'not.&quot',\n",
       " 'ter &amp;',\n",
       " 'ery &amp;',\n",
       " 'aos &amp;',\n",
       " ' an &quot',\n",
       " 'iPod&quot',\n",
       " '6th &amp;',\n",
       " 'ion &quot',\n",
       " 'weet&quot',\n",
       " 'new &quot',\n",
       " 'eak.&quot',\n",
       " 'ake &amp;',\n",
       " 'sw: &quot',\n",
       " 'nces&quot',\n",
       " 'ler &amp;',\n",
       " 'no, &quot',\n",
       " 'sxsw&quot',\n",
       " 'the &quot',\n",
       " 'tore&quot',\n",
       " 'ion &quot',\n",
       " 'rty.&quot',\n",
       " 'ay! &quot',\n",
       " 'XSW &gt; ',\n",
       " 'ked &amp;',\n",
       " 'hat &quot',\n",
       " 'cles&quot',\n",
       " 'ion &quot',\n",
       " 'hear&quot',\n",
       " 'ion &quot',\n",
       " 'nces&quot',\n",
       " ' -- &quot',\n",
       " 'data&quot',\n",
       " 'gle &quot',\n",
       " 'apan&quot',\n",
       " 'ion &amp;',\n",
       " 'ter &amp;',\n",
       " 'ic, &amp;',\n",
       " '\\x89ÛÓ &quot',\n",
       " 'SXSW&quot',\n",
       " 'ion &quot',\n",
       " 'you.&quot',\n",
       " 'SMM &gt;&',\n",
       " 'cts &quot',\n",
       " 'sxsw&quot',\n",
       " ' to &quot',\n",
       " 'scar&quot',\n",
       " 'are &amp;',\n",
       " 'e 4 &amp;',\n",
       " 'ing &amp;',\n",
       " 'W RT&quot',\n",
       " 'his &quot',\n",
       " 'tore&quot',\n",
       " 'er =&gt;h',\n",
       " 'ion &amp;',\n",
       " 'rm: &quot',\n",
       " 'phy.&quot',\n",
       " 'k AT&amp;',\n",
       " 'xth &amp;',\n",
       " 'ion &amp;',\n",
       " 'nch &quot',\n",
       " 'here&quot',\n",
       " 'nch &quot',\n",
       " 'type&quot',\n",
       " 'tal &amp;',\n",
       " 'sw: &quot',\n",
       " 'nces&quot',\n",
       " 'eet &amp;',\n",
       " ' GSD&amp;',\n",
       " 'XSW &quot',\n",
       " 'd 2.&quot',\n",
       " 'WP7 &amp;',\n",
       " 'ef. &quot',\n",
       " 's a &quot',\n",
       " 'ding&quot',\n",
       " 'SDM &amp;',\n",
       " 'tal &amp;',\n",
       " 'e a &quot',\n",
       " 'mera&quot',\n",
       " 'e AT&amp;',\n",
       " 'ion &quot',\n",
       " 'acs]&quot',\n",
       " 'ion &amp;',\n",
       " 'ion &amp;',\n",
       " 'ind &amp;',\n",
       " 'ers &amp;',\n",
       " 'ype &amp;',\n",
       " 'ng Q&amp;',\n",
       " 'ion.&quot',\n",
       " 'XSW &quot',\n",
       " 'd 2.&quot',\n",
       " 'iPad&quot',\n",
       " 'ign &amp;',\n",
       " ' be &quot',\n",
       " 'tive&quot',\n",
       " 'nk} &lt;-',\n",
       " 'gle &amp;',\n",
       " 'ng Q&amp;',\n",
       " 'XSW &amp;',\n",
       " ' is &quot',\n",
       " '1986&quot',\n",
       " 'XSW &amp;',\n",
       " ':)) &quot',\n",
       " 'cles&quot',\n",
       " 'nsed&quot',\n",
       " 'ayin&quot',\n",
       " 'ked &amp;',\n",
       " 'ind &amp;',\n",
       " 'the &quot',\n",
       " 'opUp&quot',\n",
       " 'XSW &amp;',\n",
       " 'how &quot',\n",
       " 'rape&quot',\n",
       " 'The &quot',\n",
       " 'anet&quot',\n",
       " 'unch&quot',\n",
       " 'ki: &quot',\n",
       " 'ple.&quot',\n",
       " 'king&quot',\n",
       " 'E6, &amp;',\n",
       " 'ept &quot',\n",
       " 'Here&quot',\n",
       " 'ked &amp;',\n",
       " 'tio &amp;',\n",
       " ' of &quot',\n",
       " 'mess&quot',\n",
       " 'xsw &quot',\n",
       " 'ing?&quot',\n",
       " 'ur Q&amp;',\n",
       " 'ion &amp;',\n",
       " 'er -&gt; ',\n",
       " 'XSW &quot',\n",
       " 'd 2.&quot',\n",
       " ' to &quot',\n",
       " ' Out&quot',\n",
       " '8th &amp;',\n",
       " 'n a &quot',\n",
       " 'p-up&quot',\n",
       " 'nch &quot',\n",
       " 'here&quot',\n",
       " 'tal &amp;',\n",
       " 'sed &quot',\n",
       " 'cles&quot',\n",
       " ' is &quot',\n",
       " 'cool&quot',\n",
       " 'XSW &amp;',\n",
       " 'oid &amp;',\n",
       " 'ive?&quot',\n",
       " 'ion &amp;',\n",
       " ' up &quot',\n",
       " 'kers&quot',\n",
       " 'ion &amp;',\n",
       " 'XSW &quot',\n",
       " 'eals&quot',\n",
       " '6th &amp;',\n",
       " 'hing&quot',\n",
       " ' 2! &lt;&',\n",
       " 'gn: &quot',\n",
       " 'ad 2&quot',\n",
       " 'ine &amp;',\n",
       " 'ion &amp;',\n",
       " 'bed &amp;',\n",
       " 'ion &amp;',\n",
       " ' 2, &amp;',\n",
       " 'ion &quot',\n",
       " 'weet&quot',\n",
       " 'new &quot',\n",
       " 'eak.&quot',\n",
       " 'tion&quot',\n",
       " 'dev &quot',\n",
       " 'duct&quot',\n",
       " ' GSD&amp;',\n",
       " 'rry &amp;',\n",
       " 'd?  &quot',\n",
       " 'tin!&quot',\n",
       " 'oid &amp;',\n",
       " 'Pad &quot',\n",
       " 'nter&quot',\n",
       " 't!  &quot',\n",
       " 'time&quot',\n",
       " 'ith &quot',\n",
       " 'cles&quot',\n",
       " '6th &amp;',\n",
       " 'ing &quot',\n",
       " 'les.&quot',\n",
       " 'ion &quot',\n",
       " 'sxsw&quot',\n",
       " 'k at&amp;',\n",
       " 'peak&quot',\n",
       " 'ion &quot',\n",
       " 'ours&quot',\n",
       " 'Pad &amp;',\n",
       " 'SXSW&quot',\n",
       " 'XSW &quot',\n",
       " 'new &quot',\n",
       " 'ound&quot',\n",
       " 'mit &amp;',\n",
       " 'y\\x89Û_&quot',\n",
       " 'rom &quot',\n",
       " 'gain&quot',\n",
       " ' to &quot',\n",
       " 'ook.&quot',\n",
       " 'enu)&quot',\n",
       " ' is &quot',\n",
       " 'ica,&quot',\n",
       " 'gle &quot',\n",
       " 'eper&quot',\n",
       " 'sed &quot',\n",
       " 'ture&quot',\n",
       " 'ion &amp;',\n",
       " 'ion &quot',\n",
       " 'rry!&quot',\n",
       " 'ign &amp;',\n",
       " 'sic &amp;',\n",
       " 'ion &amp;',\n",
       " 'nk} &quot',\n",
       " ' in &quot',\n",
       " ' = X&quot',\n",
       " 'XSW &amp;',\n",
       " 'one &amp;',\n",
       " 'ord &quot',\n",
       " 'food&quot',\n",
       " 'nge &amp;',\n",
       " 'com &amp;',\n",
       " 'yer &amp;',\n",
       " ' PM &amp;',\n",
       " 'g a &quot',\n",
       " ' Box&quot',\n",
       " 'let &amp;',\n",
       " 'rry!&quot',\n",
       " 'XSW &gt;&',\n",
       " 'it) &quot',\n",
       " 'sxsw&quot',\n",
       " 'eam &quot',\n",
       " 'ogle&quot',\n",
       " 'sw: &quot',\n",
       " 'nces&quot',\n",
       " 'K,  &amp;',\n",
       " 'ion &quot',\n",
       " 'rsor&quot',\n",
       " 'XSW &amp;',\n",
       " 'les &amp;',\n",
       " 'oid &amp;',\n",
       " 'Pad &amp;',\n",
       " 'xth &amp;',\n",
       " 're? &quot',\n",
       " 'ion,&quot',\n",
       " 'ies &amp;',\n",
       " 'ion &quot',\n",
       " 'the &quot',\n",
       " 'cool&quot',\n",
       " 'ths &amp;',\n",
       " 'ter &amp;',\n",
       " 'ion &amp;',\n",
       " 'zed &quot',\n",
       " 'iend&quot',\n",
       " 'tal &amp;',\n",
       " 'nk} &lt;-',\n",
       " 'ies,&amp;',\n",
       " 'ion &quot',\n",
       " 'ica.&quot',\n",
       " 'XSW &quot',\n",
       " 'd 2.&quot',\n",
       " 'unch&quot',\n",
       " 'ree &quot',\n",
       " 'form&quot',\n",
       " 'ens &quot',\n",
       " 'Park&quot',\n",
       " 'ts  &quot',\n",
       " 'p-up&quot',\n",
       " 'y AT&amp;',\n",
       " 'see &amp;',\n",
       " 'top &amp;',\n",
       " 'XSW &quot',\n",
       " 'd 2.&quot',\n",
       " 'o...&quot',\n",
       " 'red,&quot',\n",
       " 'for &quot',\n",
       " 'tegy&quot',\n",
       " 'nk} &lt;-',\n",
       " 'ion &amp;',\n",
       " 's a &quot',\n",
       " 'ding&quot',\n",
       " 'ust &amp;',\n",
       " 'Boy &amp;',\n",
       " 'ple &quot',\n",
       " 'p-up&quot',\n",
       " 'g a &quot',\n",
       " 'ajor&quot',\n",
       " 'ext &quot',\n",
       " 'SXSW&quot',\n",
       " 'ion &quot',\n",
       " 'its.&quot',\n",
       " 'e - &quot',\n",
       " 'ules&quot',\n",
       " 'ty- &quot',\n",
       " 'less&quot',\n",
       " 'l?  &quot',\n",
       " 'weet&quot',\n",
       " 'new &quot',\n",
       " 'eak.&quot',\n",
       " 'tup &amp;',\n",
       " 'tal &amp;',\n",
       " 'ing &amp;',\n",
       " '6th &amp;',\n",
       " '  AT&amp;',\n",
       " 'XSW &amp;',\n",
       " ...]"
      ]
     },
     "execution_count": 88,
     "metadata": {},
     "output_type": "execute_result"
    }
   ],
   "source": [
    "re.findall(\".\"*4+\"&\"+\".\"*4,sentiments_all)"
   ]
  },
  {
   "cell_type": "code",
   "execution_count": 89,
   "metadata": {},
   "outputs": [
    {
     "data": {
      "text/plain": [
       "['&lt;3', '&lt;3', '&lt;3', '&lt;3']"
      ]
     },
     "execution_count": 89,
     "metadata": {},
     "output_type": "execute_result"
    }
   ],
   "source": [
    "re.findall(r\"&lt;[/]?3|<3\",sentiments_all)"
   ]
  },
  {
   "cell_type": "code",
   "execution_count": 90,
   "metadata": {},
   "outputs": [
    {
     "data": {
      "text/plain": [
       "[':-(', ':-(', ':-(', ':-(', ':-(', ':-(']"
      ]
     },
     "execution_count": 90,
     "metadata": {},
     "output_type": "execute_result"
    }
   ],
   "source": [
    "re.findall(\":-\\(\",sentiments_all)"
   ]
  },
  {
   "cell_type": "code",
   "execution_count": 91,
   "metadata": {},
   "outputs": [
    {
     "data": {
      "text/plain": [
       "[' aw :) #SX',\n",
       " 'ya? :) @me',\n",
       " 'XSW :)\\x89Û\\x9d ',\n",
       " 'elf :( {li',\n",
       " 'yay :) tha',\n",
       " 'lts :( wil',\n",
       " 'es. :) #go',\n",
       " 'one :-)  {l',\n",
       " 'eet :) RT ',\n",
       " 'rs. :-) #Sx',\n",
       " '!!! :)) &qu',\n",
       " 'ere :) RT ',\n",
       " 'cts :) {li',\n",
       " 'ion :) In ',\n",
       " 'er? :) RT:',\n",
       " 'd 2 :) I j',\n",
       " 'tem :) #SX',\n",
       " \"le's:) #SE\",\n",
       " 'too :-) RT ',\n",
       " 'ad 2:) Tha',\n",
       " 'ion :) RT ',\n",
       " 'wn. :) {li',\n",
       " 'PLE :) RT ',\n",
       " 'hem :-( (vi',\n",
       " 'PP. :( RT ',\n",
       " 'id. :) RT ',\n",
       " ' !! :))  {l',\n",
       " 'ot; :) (@m',\n",
       " 'get :-( / e',\n",
       " 'uss :-) #SX',\n",
       " ' Mac:PC ra',\n",
       " 'iPad:Perso',\n",
       " 'ion :) RT ',\n",
       " 'pro :) RT ',\n",
       " 'es. :)  RT',\n",
       " 'ay. :) #SX',\n",
       " 'ion :) RT ',\n",
       " 'n?? :) RT ',\n",
       " 'way :P #sx',\n",
       " '!!! :)) &qu',\n",
       " 'in? :) #Ap',\n",
       " 'ney :) #sx',\n",
       " 'ent :-| #SX',\n",
       " 'xsw :-) :-)',\n",
       " 'tra :) RT ',\n",
       " 'ty! :-) {li',\n",
       " 'd 2 :) #ap',\n",
       " 'd 2 :) I j',\n",
       " 'ere :) RT ',\n",
       " 'ate :-) {li',\n",
       " 'xsw :( (@m',\n",
       " 'd 2 :p RT ',\n",
       " 'app :) rem',\n",
       " 'dom :) You',\n",
       " 'ou! :) RT ',\n",
       " 'd 2 :( No,',\n",
       " 'xsw :( Yes',\n",
       " 'y.  :-(   {',\n",
       " 'y.  :-(   {',\n",
       " 'y.  :)   #',\n",
       " ' us :) #SX',\n",
       " 'ng. :) #to',\n",
       " 'ONE :)  It',\n",
       " ' aw :) #SX',\n",
       " 'RY! :-) #SX',\n",
       " 'n?? :) RT ',\n",
       " 'ore :))) {li',\n",
       " 'ndo :)) ! I',\n",
       " 'it! :) #SX',\n",
       " 'ing :) #sx',\n",
       " 'ey? :) @me',\n",
       " ' up :) {li',\n",
       " 'ed? :) RT ',\n",
       " 'nk} :( @me',\n",
       " 'ou! :) RT ',\n",
       " 'me! :)  {l',\n",
       " 'n?? :) RT ',\n",
       " 'en? :P RT ',\n",
       " 'per :) #si',\n",
       " ' !! :))  {l',\n",
       " 'hat :) did',\n",
       " 'te. :) ) {',\n",
       " 'th. :) #sx',\n",
       " 'ion :) May',\n",
       " 'd 2 :( No,',\n",
       " 'xsw :( Yes',\n",
       " 'uct :)&quo',\n",
       " 'rs. :-) #Sx',\n",
       " 'day :( boo',\n",
       " 'orm :) #us',\n",
       " 'it. :-) #SX',\n",
       " 'mix :) RT ']"
      ]
     },
     "execution_count": 91,
     "metadata": {},
     "output_type": "execute_result"
    }
   ],
   "source": [
    "re.findall(\".\"*4+\":[-]?[O\\|o()xp#]+\"+\".\"*4,sentiments_all,re.I)"
   ]
  },
  {
   "cell_type": "code",
   "execution_count": 92,
   "metadata": {},
   "outputs": [
    {
     "data": {
      "text/plain": [
       "[]"
      ]
     },
     "execution_count": 92,
     "metadata": {},
     "output_type": "execute_result"
    }
   ],
   "source": [
    "re.findall(\".\"*4+\":'[-]?[\\(\\)]\"+\".\"*4,sentiments_all)\n"
   ]
  },
  {
   "cell_type": "code",
   "execution_count": 93,
   "metadata": {},
   "outputs": [
    {
     "data": {
      "text/plain": [
       "['ta. ;-) {li',\n",
       " 'run ;) {li',\n",
       " 'er. ;) #an',\n",
       " 'ain ;-). tu',\n",
       " 'en. ;) {li',\n",
       " 'ent ;-) RT ',\n",
       " 'tin ;) #ip',\n",
       " 'yle ;) \\x89ÛÏ',\n",
       " 'ion ;-) RT ',\n",
       " 'Sw. ;) iPh',\n",
       " 'pad ;) (@m',\n",
       " 'irs ;) #sx',\n",
       " 'ain ;-). tu',\n",
       " 'ubt ;) RT ',\n",
       " 'ime ;) #sx',\n",
       " 'it! ;) RT ',\n",
       " 'ol) ;) #SX',\n",
       " 'ion ;) (32',\n",
       " 'ded ;) #ap',\n",
       " 'yet ;-) #sx',\n",
       " 'en! ;) &qu']"
      ]
     },
     "execution_count": 93,
     "metadata": {},
     "output_type": "execute_result"
    }
   ],
   "source": [
    "re.findall(\".\"*4+\";[-]?\\)\"+\".\"*4,sentiments_all)\n"
   ]
  },
  {
   "cell_type": "markdown",
   "metadata": {},
   "source": [
    "#### Replace emoticons\n",
    "* love\n",
    "* not love\n",
    "* happy\n",
    "* sad\n",
    "* playful\n",
    "* wink\n",
    "* straightface"
   ]
  },
  {
   "cell_type": "code",
   "execution_count": 94,
   "metadata": {},
   "outputs": [
    {
     "data": {
      "text/plain": [
       "':-\\\\('"
      ]
     },
     "execution_count": 94,
     "metadata": {},
     "output_type": "execute_result"
    }
   ],
   "source": [
    "r\":-\\(\""
   ]
  },
  {
   "cell_type": "code",
   "execution_count": 95,
   "metadata": {},
   "outputs": [],
   "source": [
    "def replace_text_emoji(text):\n",
    "    love_pat = r\"&lt;3+\"\n",
    "    happy_pat = r\":[-]?[\\)]+\"\n",
    "    sad_pat = r\":[-]?[\\(]+\"\n",
    "    playful_pat = r\":[-]?[p]+\"\n",
    "    wink_pat = r\";[-]?[\\)]+\"\n",
    "    straightface_pat = r\":[-]?[\\|]+\"\n",
    "    \n",
    "    #replace text emojis\n",
    "    temp = text\n",
    "    temp =  re.sub(love_pat, ' love ', temp)\n",
    "    temp =  re.sub(happy_pat, ' smiley ', temp)\n",
    "    temp =  re.sub(sad_pat, ' sad ', temp)\n",
    "    temp =  re.sub(playful_pat, ' playful ', temp, flags=re.I)\n",
    "    temp =  re.sub(wink_pat, ' wink ', temp)\n",
    "    temp =  re.sub(straightface_pat, ' straightface ', temp)\n",
    "    return temp"
   ]
  },
  {
   "cell_type": "code",
   "execution_count": 96,
   "metadata": {},
   "outputs": [
    {
     "data": {
      "text/plain": [
       "' love   love  ...  smiley ;  smiley   smiley   smiley bnhdch sad   sad   sad '"
      ]
     },
     "execution_count": 96,
     "metadata": {},
     "output_type": "execute_result"
    }
   ],
   "source": [
    "replace_text_emoji(\"&lt;3 &lt;3333 ... :); :))))) :-) :-)))))bnhdch:( :-( :-(((\")"
   ]
  },
  {
   "cell_type": "code",
   "execution_count": 97,
   "metadata": {},
   "outputs": [
    {
     "data": {
      "text/plain": [
       "' playful   playful   playful   playful   straightface   straightface   wink   wink   wink '"
      ]
     },
     "execution_count": 97,
     "metadata": {},
     "output_type": "execute_result"
    }
   ],
   "source": [
    "replace_text_emoji(\":p :-P :-p :-PPP :-| :| ;) ;))) ;-)\")"
   ]
  },
  {
   "cell_type": "code",
   "execution_count": 98,
   "metadata": {},
   "outputs": [
    {
     "data": {
      "text/plain": [
       "['nny &amp; inn',\n",
       " 'ore &amp; And',\n",
       " 'top &amp; jus',\n",
       " 'ng, &amp; sky',\n",
       " 'ear &amp; an ',\n",
       " \"w!! &amp; I'm\",\n",
       " 'ies,&amp; ppl',\n",
       " 'SDM &amp; #Go',\n",
       " '2 AT&amp;T 64',\n",
       " 'ple &amp; Bes',\n",
       " 'ter &amp; iPh',\n",
       " 'xth &amp; Con',\n",
       " 'llo &amp; Kil',\n",
       " \"Mac &amp; I'm\",\n",
       " 'rry &amp; And',\n",
       " 'nk} &amp; say',\n",
       " 'ion &amp; @me',\n",
       " 'XSW &amp; iPa',\n",
       " 'tal &amp; Phy',\n",
       " 'ion &amp; goo',\n",
       " 'Pad &amp; my ',\n",
       " '6th &amp; Con',\n",
       " ' me &amp; @me',\n",
       " 'Pad &amp; #iP',\n",
       " ' LA &amp; Jap',\n",
       " 'are &amp; gow',\n",
       " '4/7 &amp; liv',\n",
       " 'ng Q&amp;A on',\n",
       " 'you &amp; ste',\n",
       " '/7) &amp; liv',\n",
       " 'le (&amp; mor',\n",
       " 'ter &amp; #iP',\n",
       " 'ter &amp; iPh',\n",
       " 'app &amp; rid',\n",
       " 'rry &amp; And',\n",
       " 'ign &amp; onl',\n",
       " 'ion &amp; @me',\n",
       " 'l AT&amp;T br',\n",
       " 'ks! &amp; a p',\n",
       " '. AT&amp;T ad',\n",
       " 'isa &amp; ANZ',\n",
       " 'tal &amp; Phy',\n",
       " '6th &amp; Con',\n",
       " 'ted &amp; doc',\n",
       " 'Fun &amp; Fut',\n",
       " 'ter &amp; iPh',\n",
       " 'gle &amp; Dua',\n",
       " 're R&amp;D? W',\n",
       " 'sic &amp; wan',\n",
       " 'cal &amp; kee',\n",
       " 'ion &amp; @me',\n",
       " 'ing &amp; rev',\n",
       " 'sic &amp; wan',\n",
       " 'co, &amp; Ata',\n",
       " 'xth &amp; Con',\n",
       " 'lla &amp; W3C',\n",
       " 'ion &amp; @me',\n",
       " 'CES &amp; GDC',\n",
       " 'hop &amp; iPa',\n",
       " 'isc &amp; sha',\n",
       " 'sic &amp; wan',\n",
       " '6th &amp; con',\n",
       " 'tal &amp; Phy',\n",
       " 'one &amp; don',\n",
       " 'ut Q&amp;A Wi',\n",
       " 'gle &amp; Bin',\n",
       " 'ome &amp; sup',\n",
       " 'tal &amp; Phy',\n",
       " 'zon &amp; TMo',\n",
       " 'ifi &amp; wif',\n",
       " 'app &amp; rid',\n",
       " 'ion &amp; @me',\n",
       " ' us &amp; fin',\n",
       " 'ifi &amp; wif',\n",
       " 'eos &amp; pho',\n",
       " 'ask &amp; my ',\n",
       " 'eo Q&amp;A w/',\n",
       " 'one &amp; And',\n",
       " 'day &amp; my ',\n",
       " 'are &amp; gow',\n",
       " ' GSD&amp;M w/',\n",
       " 'rry &amp; And',\n",
       " 'oad &amp; fea',\n",
       " 'ell &amp; Bac',\n",
       " 'zos &amp; San',\n",
       " 'ell &amp; no ',\n",
       " 'nk} &amp; plu',\n",
       " 'ms, &amp; sle',\n",
       " 'ion &amp; @me',\n",
       " 'ion &amp; @me',\n",
       " 'oid &amp; Mac',\n",
       " 'Pad &amp; bla',\n",
       " 'XSW &amp; iPa',\n",
       " 'tal &amp; Phy',\n",
       " 'NYT &amp; Kho',\n",
       " 'ion &amp; @me',\n",
       " 'ers &amp; co-',\n",
       " 'ype &amp; Goo',\n",
       " 'WP7 &amp; iPh',\n",
       " 'rry &amp; And',\n",
       " 'XSW &amp; the',\n",
       " 'l AT&amp;T br',\n",
       " 'd 2 &amp; Sta',\n",
       " 'key &amp; bee',\n",
       " 'XSW &amp; iPa',\n",
       " 'nes &amp; jam',\n",
       " 'pes &amp; 60S',\n",
       " 'ion &amp; @me',\n",
       " 'xsw &amp; you',\n",
       " 'ion &amp; Sha',\n",
       " 'air &amp; Mak',\n",
       " 'XSW &amp; the',\n",
       " '6th &amp; con',\n",
       " 'ter &amp; iPh',\n",
       " 'ke, &amp; sha',\n",
       " 'ple &amp; Bes',\n",
       " 'ues &amp; Wed',\n",
       " 'ion &amp; @me',\n",
       " 'ers &amp; att',\n",
       " 'ion &amp; I a',\n",
       " 'hey &amp; Fou',\n",
       " 'ood &amp; roc',\n",
       " 'ing &amp; so ',\n",
       " 'uth &amp; ste',\n",
       " 'ips &amp; mor',\n",
       " 'XSW &amp; wha',\n",
       " 'ght &amp; iPh',\n",
       " 'rez &amp; mah',\n",
       " 'eks &amp; gad',\n",
       " 'd 2 &amp; gir',\n",
       " 'tal &amp; Phy',\n",
       " 'orm &amp; who',\n",
       " 'ay. &amp; the',\n",
       " 'ion &amp; @me',\n",
       " 'tal &amp; Phy',\n",
       " ' GSD&amp;M {l',\n",
       " '6th &amp; Con',\n",
       " ' a q&amp;a se',\n",
       " 'ion &amp; bin',\n",
       " 'on Q&amp;A Wi',\n",
       " 'ion &amp; Bin',\n",
       " 'y AT&amp;T iP',\n",
       " 'ut Q&amp;A Wi',\n",
       " 'gle &amp; Bin',\n",
       " 'one &amp; new',\n",
       " 'g Q &amp; A: ',\n",
       " 'ion &amp; not',\n",
       " 'com &amp; Goo',\n",
       " 'ion &amp; opp',\n",
       " 'tal &amp; Phy',\n",
       " 'ers &amp; sha',\n",
       " 'ter &amp; #iP',\n",
       " ' GSD&amp;M w/',\n",
       " 'SWi &amp; Twe',\n",
       " 'oft &amp; #sx',\n",
       " 'ers &amp; oth',\n",
       " 'XSW &amp; ipa',\n",
       " 'gle &amp; App',\n",
       " 'al Q&amp;A st',\n",
       " 'ren &amp; tha',\n",
       " 'tal &amp; Phy',\n",
       " 'one &amp; And',\n",
       " 'rry &amp; And',\n",
       " 'tal &amp; Phy',\n",
       " 'isa &amp; Mas',\n",
       " 'rs) &amp; mob',\n",
       " 'ies &amp; Hea',\n",
       " 'ot; &amp; Inv',\n",
       " 'ows &amp; the',\n",
       " '6th &amp; Con',\n",
       " 'one &amp; com',\n",
       " 'ics &amp; sen',\n",
       " 'XSW &amp; the',\n",
       " 'gar &amp; Gol',\n",
       " 'one &amp; pla',\n",
       " 'ing &amp; so ',\n",
       " 'ton &amp; the',\n",
       " 'ion &amp; not',\n",
       " 'big &amp; suc',\n",
       " 'ion &amp; mov',\n",
       " 'tup &amp; had',\n",
       " 'XSW &amp; sho',\n",
       " 'lls &amp; @me',\n",
       " ' GSD&amp;M/Go',\n",
       " 'old &amp; I f',\n",
       " 'cal &amp; kee',\n",
       " 'ter &amp; iPh',\n",
       " 'ion &amp; @me',\n",
       " '6th &amp; Con',\n",
       " 'gle &amp; fac',\n",
       " 'xth &amp; Con',\n",
       " 'eat &amp; v. ',\n",
       " 'mes &amp; des',\n",
       " 'me (&amp; ver',\n",
       " 's AT&amp;T. A',\n",
       " 'Fun &amp; Fut',\n",
       " 'ive &amp; suc',\n",
       " 'rry &amp; And',\n",
       " 'tes &amp; bre',\n",
       " 'one &amp; che',\n",
       " 'ion &amp; @me',\n",
       " '6th &amp; Con',\n",
       " ' it &amp; doe',\n",
       " 'on Q&amp;A wi',\n",
       " 'ing &amp; #go',\n",
       " 'ers &amp; 80s',\n",
       " 'SDM &amp; #Go',\n",
       " 'les &amp; cro',\n",
       " 'xsw &amp; #sx',\n",
       " 'le q&amp;a. W',\n",
       " 'ian &amp; a f',\n",
       " 'ion &amp; pro',\n",
       " 'ets &amp; 11b',\n",
       " 'XSW &amp;iPad',\n",
       " 'XSW &amp; ask',\n",
       " 'eOS &amp; And',\n",
       " 'ers &amp; oth',\n",
       " 'ple &amp; Bes',\n",
       " 'ion &amp;  @m',\n",
       " 'ers &amp; 80s',\n",
       " 'ple &amp; Bes',\n",
       " 'ion &amp; @me',\n",
       " 'gle &amp; Bin',\n",
       " 'ion &amp; @me',\n",
       " 'sed &amp; FAS',\n",
       " 'app &amp; get',\n",
       " 'ion &amp; @me',\n",
       " 'gle &amp; BAV',\n",
       " 'ian &amp; a f',\n",
       " '6th &amp; Con',\n",
       " '4/7 &amp; liv',\n",
       " 'd 2 &amp;Soci',\n",
       " 'tal &amp; Phy',\n",
       " 'rry &amp; And',\n",
       " 'ter &amp; iPh',\n",
       " 'ery &amp; sea',\n",
       " 'aos &amp; @me',\n",
       " '6th &amp; Con',\n",
       " 'ake &amp; tsu',\n",
       " 'ler &amp; she',\n",
       " 'ked &amp; Re-',\n",
       " 'ion &amp; @me',\n",
       " 'ter &amp; Aus',\n",
       " 'ic, &amp; pho',\n",
       " 'are &amp; har',\n",
       " 'e 4 &amp; iPa',\n",
       " 'ing &amp; #ma',\n",
       " 'ion &amp; @me',\n",
       " 'k AT&amp;T co',\n",
       " 'xth &amp; Con',\n",
       " 'ion &amp; @me',\n",
       " 'tal &amp; Phy',\n",
       " 'eet &amp; sal',\n",
       " ' GSD&amp;M) [',\n",
       " 'WP7 &amp; iPh',\n",
       " 'SDM &amp; #Go',\n",
       " 'tal &amp; Phy',\n",
       " 'e AT&amp;T bo',\n",
       " 'ion &amp; his',\n",
       " 'ion &amp; @me',\n",
       " 'ind &amp; Sta',\n",
       " 'ers &amp; co-',\n",
       " 'ype &amp; Goo',\n",
       " 'ng Q&amp;A pa',\n",
       " 'ign &amp; rec',\n",
       " 'gle &amp; Bin',\n",
       " 'XSW &amp; the',\n",
       " 'XSW &amp;iPad',\n",
       " 'ked &amp; Re-',\n",
       " 'ind &amp; Sta',\n",
       " 'XSW &amp;Appl',\n",
       " 'E6, &amp; iPa',\n",
       " 'ked &amp; Re-',\n",
       " 'tio &amp; ple',\n",
       " 'ur Q&amp;A Wi',\n",
       " 'ion &amp; Bin',\n",
       " '8th &amp; Con',\n",
       " 'tal &amp; Phy',\n",
       " 'XSW &amp; cha',\n",
       " 'oid &amp; iPh',\n",
       " 'ion &amp; @AA',\n",
       " 'ion &amp; @me',\n",
       " '6th &amp; Con',\n",
       " '&lt;&amp; sti',\n",
       " 'ine &amp; i d',\n",
       " 'ion &amp; @me',\n",
       " 'bed &amp; I a',\n",
       " 'ion &amp; @me',\n",
       " ' 2, &amp; iPh',\n",
       " ' GSD&amp;M + ',\n",
       " 'rry &amp; And',\n",
       " 'oid &amp; Upd',\n",
       " '6th &amp; Con',\n",
       " 'k at&amp;t in',\n",
       " 'Pad &amp; #An',\n",
       " 'mit &amp; rel',\n",
       " 'ion &amp; Goo',\n",
       " 'ign &amp; upc',\n",
       " 'sic &amp; wan',\n",
       " 'ion &amp; @me',\n",
       " 'XSW &amp;iPad',\n",
       " 'one &amp; iPa',\n",
       " 'nge &amp; iPa',\n",
       " 'com &amp; sta',\n",
       " 'yer &amp; pic',\n",
       " ' PM &amp; che',\n",
       " 'let &amp; Kin',\n",
       " 'K,  &amp; pra',\n",
       " 'XSW &amp; iPa',\n",
       " 'les &amp; cro',\n",
       " 'oid &amp; Mac',\n",
       " 'Pad &amp; bla',\n",
       " 'xth &amp; Con',\n",
       " 'ies &amp; giv',\n",
       " 'ths &amp; wil',\n",
       " 'ter &amp; bro',\n",
       " 'ion &amp; HIS',\n",
       " 'tal &amp; Phy',\n",
       " 'ies,&amp; ppl',\n",
       " 't;  &amp; Con',\n",
       " 'y AT&amp;T iP',\n",
       " 'see &amp; mak',\n",
       " 'top &amp; onl',\n",
       " 'ion &amp; opp',\n",
       " 'ust &amp; LDA',\n",
       " 'Boy &amp; Bea',\n",
       " 'tup &amp; had',\n",
       " 'tal &amp; Phy',\n",
       " 'ing &amp; #go',\n",
       " '6th &amp; con',\n",
       " '  AT&amp;T iP',\n",
       " 'XSW &amp; the',\n",
       " 'isc &amp; sha',\n",
       " 'one &amp; And',\n",
       " 'XSW &amp; ask',\n",
       " 'eOS &amp; And',\n",
       " 'XSW &amp; iPa',\n",
       " 'ers &amp; 80s',\n",
       " 'ion &amp; @me',\n",
       " 'rry &amp; And',\n",
       " ' GSD&amp;M pa',\n",
       " 'ion &amp; HIS',\n",
       " 'ur Q&amp;A Wi',\n",
       " 'ion &amp; Bin',\n",
       " 'rry &amp; And',\n",
       " 'cal &amp; Nex',\n",
       " 'tal &amp; Phy',\n",
       " 'tal &amp; Phy',\n",
       " 'ion &amp; Goo',\n",
       " 'ers &amp; an ',\n",
       " 'tal &amp; Phy',\n",
       " 'ple &amp; Bes',\n",
       " 'rry &amp; And',\n",
       " 'acy &amp; rel',\n",
       " 'ess &amp; not',\n",
       " 'gle &amp; Bin',\n",
       " 'ion &amp; @me',\n",
       " 'sic &amp; wan',\n",
       " 'gle &amp; You',\n",
       " 'nts &amp; mor',\n",
       " 'ine &amp; Lor',\n",
       " 'ion &amp; spi',\n",
       " 'XSW &amp;iPad',\n",
       " 'cts &amp; thi',\n",
       " 'sic &amp; wan',\n",
       " 's wk&amp; nee',\n",
       " ' #AT&amp;T iP',\n",
       " 'rry &amp; And',\n",
       " 'fee &amp; cha',\n",
       " 'ers &amp; now',\n",
       " ' GSD&amp;M at',\n",
       " 'ign &amp; upc',\n",
       " 'ome &amp; sup',\n",
       " 'ion &amp; for',\n",
       " 'our &amp; sha',\n",
       " '6th &amp; con',\n",
       " \"sts &amp; it'\",\n",
       " 'ign &amp; rec',\n",
       " 'gle &amp; Bin',\n",
       " 'ats &amp; che',\n",
       " 'tal &amp; Phy',\n",
       " 'VZW &amp; AT&',\n",
       " 'oid &amp; iPh',\n",
       " 'xsw &amp; wan',\n",
       " 'are &amp; joi',\n",
       " ' in &amp; get',\n",
       " 'ng Q&amp;A pa',\n",
       " 'app &amp; rid',\n",
       " 'd 2 &amp;Soci',\n",
       " 'E6, &amp; iPa',\n",
       " 'sic &amp; API',\n",
       " 'ad 1&amp;2 {l',\n",
       " 'ers &amp; cou',\n",
       " 'ion &amp; I j',\n",
       " 'tal &amp; Phy',\n",
       " '. AT&amp;T &a',\n",
       " 'WP7 &amp; And',\n",
       " 'SDM &amp; #Go',\n",
       " 'Fun &amp; Fut',\n",
       " 'oid &amp; web',\n",
       " 'ion &amp; ima',\n",
       " 'rty &amp; to ',\n",
       " 'lio &amp; exa',\n",
       " 'Pad &amp; wal',\n",
       " '6th &amp; Con',\n",
       " 'Oh, &amp; you',\n",
       " 'ive &amp; suc',\n",
       " 'ess &amp; Wes',\n",
       " 'ing &amp; Mob',\n",
       " 'tal &amp; Phy',\n",
       " 'ers &amp; 80s',\n",
       " 'tal &amp; Phy',\n",
       " 'ngs &amp; get',\n",
       " 'tal &amp; Phy',\n",
       " 'XSW &amp; sho',\n",
       " 'ols &amp; app',\n",
       " 'tal &amp; Phy',\n",
       " 'SDM &amp; Goo',\n",
       " 'XSW &amp; iPa',\n",
       " 'sic &amp; wan',\n",
       " 'gle &amp; Bin',\n",
       " 'XSW &amp;iPad',\n",
       " ' GSD&amp;M Id',\n",
       " 'oid &amp; Chr',\n",
       " 'one &amp; iPa',\n",
       " 'nch &amp; pla',\n",
       " 'app &amp; Tro',\n",
       " 'oid &amp; iph',\n",
       " 'NOW &amp; fin',\n",
       " 'tos &amp; vid',\n",
       " 'xsw &amp; wan',\n",
       " 'are &amp; joi',\n",
       " 'ood &amp; dri',\n",
       " 'tio &amp; ple',\n",
       " 'ion &amp; @me',\n",
       " 'gle &amp; Bin',\n",
       " 'tal &amp; Phy',\n",
       " 'ore &amp; And',\n",
       " 'rry &amp; And',\n",
       " 'rds &amp; lea',\n",
       " 'ion &amp; @me',\n",
       " 'rry &amp; And',\n",
       " ' GSD&amp;M w/',\n",
       " 'gle &amp; Bin',\n",
       " 'one &amp; web',\n",
       " 'ate &amp; rev',\n",
       " 'ney &amp; mos',\n",
       " 'dia &amp; rev',\n",
       " 'rry &amp; #An',\n",
       " 'rry &amp; And',\n",
       " 'rs, &amp; the',\n",
       " 'ors &amp; hac',\n",
       " 'rry &amp; And',\n",
       " ' me &amp; @me',\n",
       " 'Pad &amp; #iP',\n",
       " 'ng Q&amp;A se',\n",
       " 'e 4 &amp; iPa',\n",
       " 'ers &amp; 80s',\n",
       " 'SDM &amp; #Go',\n",
       " 'ose &amp; hop',\n",
       " 'nch &amp; pla',\n",
       " 'n AT&amp;T, V',\n",
       " '/7) &amp; liv',\n",
       " 'ion &amp; Goo',\n",
       " 't 6 &amp; con',\n",
       " 'pos &amp; gre',\n",
       " 'rry &amp; And',\n",
       " 'ups &amp; we ',\n",
       " 'pot &amp; aut',\n",
       " 'App &amp; get',\n",
       " 'SDM &amp; #Go',\n",
       " 'XSW &amp; iPa',\n",
       " 'tal &amp; Phy',\n",
       " 'ers &amp; 80s',\n",
       " 'ism &amp; cha',\n",
       " '6th &amp; Con',\n",
       " 'ion &amp; @me',\n",
       " 'ion &amp; goo',\n",
       " 'he Q&amp;A Wi',\n",
       " 'ion &amp; Bin',\n",
       " 'sed &amp; aug',\n",
       " 'n at&amp;t an',\n",
       " 'nts &amp; phy',\n",
       " 'ata &amp; int',\n",
       " 'ent &amp; vid',\n",
       " 'se Q&amp;A Si',\n",
       " 'p;M &amp; Goo',\n",
       " 'gle &amp; And',\n",
       " 'ast &amp; ite',\n",
       " 'tio &amp; ple',\n",
       " 'gle &amp; Bin',\n",
       " 'SDM &amp; #Go',\n",
       " '-in &amp; pla',\n",
       " 'XSW &amp; the',\n",
       " 'ng Q&amp;A di',\n",
       " '6th &amp; Con',\n",
       " '6th &amp; Con',\n",
       " 'key &amp; bee',\n",
       " 'ott &amp; the',\n",
       " 'ion &amp; @me',\n",
       " 'rry &amp; And',\n",
       " 'ot; &amp; lif',\n",
       " 'her &amp; mor',\n",
       " 'XSW &amp; iPa',\n",
       " 'e X &amp; @me',\n",
       " 'tes &amp; My ',\n",
       " 'ess &amp; Wes',\n",
       " 'you &amp; eve',\n",
       " 'cts &amp; adm',\n",
       " 'n 3 &amp; @me',\n",
       " 'ion &amp; &qu',\n",
       " 'ur Q&amp;A Wi',\n",
       " 'ion &amp; Bin',\n",
       " 'ers &amp; 80s',\n",
       " 'g At&amp;t bl',\n",
       " 'elf &amp; for',\n",
       " 'one &amp; iPa',\n",
       " 'tel &amp; Oth',\n",
       " 'ion &amp; Sha',\n",
       " ', AT&amp;T an',\n",
       " 'ina &amp; u f',\n",
       " 'ore &amp; And',\n",
       " 'tal &amp; Phy',\n",
       " 'ion &amp; @me',\n",
       " 'ing &amp; Mob',\n",
       " ' us &amp; ent',\n",
       " 'mit &amp; vot',\n",
       " ' GSD&amp;M w/',\n",
       " 'ut Q&amp;A Wi',\n",
       " 'gle &amp; Bin',\n",
       " 'day &amp; my ',\n",
       " 'tal &amp; Phy',\n",
       " 'tin &amp; #SX',\n",
       " 'ion &amp; his',\n",
       " 'ion &amp; @me',\n",
       " 'rt (&amp; eas',\n",
       " 'ssa &amp; the',\n",
       " 'XSW &amp;iPad',\n",
       " 'ng Q&amp;A pa',\n",
       " 'ers &amp; att',\n",
       " 'ter &amp; Aus',\n",
       " ' PM &amp; che',\n",
       " 'ion &amp; @me',\n",
       " 'swi &amp; Kan',\n",
       " 'ott &amp; the',\n",
       " 'XSW &amp; #iP',\n",
       " 'ics &amp; sen',\n",
       " 'oid &amp; Chr',\n",
       " 'rds &amp; lea',\n",
       " 'app &amp; Tro',\n",
       " 'ut Q&amp;A Wi',\n",
       " 'gle &amp; Bin',\n",
       " 'XSW &amp; iPa',\n",
       " 'SDM &amp; #Go',\n",
       " 'mes &amp; des',\n",
       " 'ion &amp; @me',\n",
       " 'e X &amp; @me',\n",
       " 'hed &amp; I h',\n",
       " 'ore &amp; los',\n",
       " 'd 2 &amp;Soci',\n",
       " 'ing &amp; dra',\n",
       " 'hone&amp; it ',\n",
       " 'rry &amp; And',\n",
       " ' GSD&amp;M/Go',\n",
       " 'son &amp; @me',\n",
       " 'tal &amp; Phy',\n",
       " 'ed Q&amp;A co',\n",
       " 'rds &amp; tit',\n",
       " 'tal &amp; Phy',\n",
       " 'one &amp; Dro',\n",
       " 'oof &amp; wil',\n",
       " 'WP7 &amp; iPh',\n",
       " 'eck &amp; sho',\n",
       " 'ion &amp; @me',\n",
       " 'one &amp; Dro',\n",
       " 'oof &amp; wil',\n",
       " '-in &amp; sta',\n",
       " 'tal &amp; Phy',\n",
       " '6th &amp; Con',\n",
       " 'rry &amp; And',\n",
       " 'nks &amp; Tsh',\n",
       " 'air &amp; Mak',\n",
       " 'XSW &amp; App',\n",
       " 'ked &amp; Re-',\n",
       " 'xth &amp; Con',\n",
       " 'tal &amp; Phy',\n",
       " 'XSW &amp; the',\n",
       " 'ces &amp; New',\n",
       " 'tin &amp; #SX',\n",
       " 'XSW &amp; iPa',\n",
       " ' it &amp; ins',\n",
       " 'uth &amp; ste',\n",
       " 'on Q&amp;A Wi',\n",
       " 'ion &amp; Bin',\n",
       " 'nge &amp; iPa',\n",
       " 'oid &amp; Chr',\n",
       " 'ion &amp; @me',\n",
       " 'XSW &amp; the',\n",
       " 'ion &amp;  @m',\n",
       " ' pen&amp;pape',\n",
       " 'ter &amp; som',\n",
       " 'xth &amp; Con',\n",
       " '6th &amp; Con',\n",
       " 'ion &amp; Bin',\n",
       " 'rry &amp; And',\n",
       " 'ars &amp; 3G ',\n",
       " 'ant &amp; fun',\n",
       " 'CLU &amp; Goo',\n",
       " 'r AT&amp;T ph',\n",
       " 'nk} &amp; {li',\n",
       " 'rs, &amp; the',\n",
       " 'ion &amp; @AA',\n",
       " 'ble &amp; sho',\n",
       " 'l: Q&amp;A Go',\n",
       " 'gle &amp; Bin',\n",
       " ' GSD&amp;M (G',\n",
       " 'our &amp; sha',\n",
       " 'gle &amp; Bin',\n",
       " 'xsw &amp; her',\n",
       " 'app &amp; ent',\n",
       " 'an, &amp; can',\n",
       " 'tio &amp; ple',\n",
       " 'ion &amp; @me',\n",
       " ' us &amp; ent',\n",
       " 'At Q&amp;A wi',\n",
       " 'gle &amp; You',\n",
       " 'nts &amp; mor',\n",
       " ' 2, &amp; it ',\n",
       " ' GSD&amp;M  #',\n",
       " 'iOS &amp; And',\n",
       " 'App &amp; get',\n",
       " 'one &amp; liv',\n",
       " '6th &amp; Con',\n",
       " 'tal &amp; Phy',\n",
       " 'ing &amp; pun',\n",
       " 'ill &amp; you',\n",
       " 'app &amp; rid',\n",
       " 'box &amp; bum',\n",
       " 'one &amp; Mac',\n",
       " 'xsw &amp; #sx',\n",
       " 'Pad &amp; rea',\n",
       " 'XSW &amp; iPa',\n",
       " 'he Q&amp;A Wi',\n",
       " 'ion &amp; Bin',\n",
       " 'ble &amp; a l',\n",
       " 'ion &amp; @me',\n",
       " 'gle &amp; fac',\n",
       " 'ote &amp; sub',\n",
       " 'XSW &amp; mor',\n",
       " 'tal &amp; Phy',\n",
       " 'es) &amp; Mat']"
      ]
     },
     "execution_count": 98,
     "metadata": {},
     "output_type": "execute_result"
    }
   ],
   "source": [
    "amp_pat = r\".\"*4+r\"&amp;\"+r\".\"*4\n",
    "amp_pat = r\"{}\".format(amp_pat)\n",
    "re.findall(amp_pat,sentiments_all)"
   ]
  },
  {
   "cell_type": "code",
   "execution_count": 99,
   "metadata": {},
   "outputs": [
    {
     "data": {
      "text/plain": [
       "['&amp;',\n",
       " '&amp;',\n",
       " '&amp;',\n",
       " '&amp;',\n",
       " '&amp;',\n",
       " '&amp;',\n",
       " 'techies,&amp;',\n",
       " '&amp;',\n",
       " 'AT&amp;T',\n",
       " '&amp;',\n",
       " '&amp;',\n",
       " '&amp;',\n",
       " '&amp;',\n",
       " '&amp;',\n",
       " '&amp;',\n",
       " '&amp;',\n",
       " '&amp;',\n",
       " '&amp;',\n",
       " '&amp;',\n",
       " '&amp;',\n",
       " '\\r\\nGSD&amp;M',\n",
       " '&amp;',\n",
       " '&amp;',\n",
       " '&amp;',\n",
       " '&amp;',\n",
       " '&amp;',\n",
       " '&amp;',\n",
       " '&amp;',\n",
       " 'Q&amp;A',\n",
       " '&amp;',\n",
       " '&amp;',\n",
       " '(&amp;',\n",
       " '&amp;',\n",
       " '&amp;',\n",
       " '&amp;',\n",
       " '&amp;',\n",
       " '&amp;',\n",
       " '&amp;',\n",
       " 'AT&amp;T',\n",
       " '#AT&amp;T\\n@mention',\n",
       " '&amp;',\n",
       " 'AT&amp;T',\n",
       " '&amp;',\n",
       " '&amp;',\n",
       " '&amp;',\n",
       " '&amp;',\n",
       " '&amp;',\n",
       " '&amp;',\n",
       " '&amp;',\n",
       " 'R&amp;D?',\n",
       " '&amp;',\n",
       " '&amp;',\n",
       " '&amp;',\n",
       " '&amp;',\n",
       " '&amp;',\n",
       " '&amp;',\n",
       " '&amp;',\n",
       " '&amp;',\n",
       " '&amp;',\n",
       " '&amp;',\n",
       " '&amp;',\n",
       " '&amp;',\n",
       " '&amp;',\n",
       " '&amp;',\n",
       " '&amp;',\n",
       " '&amp;',\n",
       " 'Q&amp;A',\n",
       " '&amp;',\n",
       " '&amp;',\n",
       " '&amp;',\n",
       " '&amp;',\n",
       " '&amp;',\n",
       " '&amp;',\n",
       " '&amp;',\n",
       " '&amp;',\n",
       " '&amp;',\n",
       " '&amp;',\n",
       " '&amp;',\n",
       " 'Q&amp;A',\n",
       " '&amp;',\n",
       " '&amp;',\n",
       " '&amp;',\n",
       " 'GSD&amp;M',\n",
       " '&amp;',\n",
       " '&amp;',\n",
       " '&amp;',\n",
       " '&amp;',\n",
       " '&amp;',\n",
       " '&amp;',\n",
       " '&amp;',\n",
       " '&amp;',\n",
       " '&amp;',\n",
       " '&amp;',\n",
       " '&amp;',\n",
       " '&amp;',\n",
       " '&amp;',\n",
       " '&amp;',\n",
       " '&amp;',\n",
       " '&amp;',\n",
       " '&amp;',\n",
       " '&amp;',\n",
       " '&amp;',\n",
       " '&amp;',\n",
       " 'AT&amp;T',\n",
       " '&amp;',\n",
       " '&amp;',\n",
       " '&amp;',\n",
       " '&amp;',\n",
       " '&amp;',\n",
       " '&amp;',\n",
       " '&amp;',\n",
       " '&amp;',\n",
       " '&amp;',\n",
       " '&amp;',\n",
       " '&amp;',\n",
       " '&amp;',\n",
       " '&amp;',\n",
       " '&amp;',\n",
       " '&amp;',\n",
       " '&amp;',\n",
       " '&amp;',\n",
       " '&amp;',\n",
       " '&amp;',\n",
       " '&amp;',\n",
       " '&amp;',\n",
       " '&amp;',\n",
       " '&amp;',\n",
       " '&amp;',\n",
       " '&amp;',\n",
       " '&amp;',\n",
       " '&amp;',\n",
       " '&amp;',\n",
       " '&amp;',\n",
       " '&amp;',\n",
       " '&amp;',\n",
       " '&amp;',\n",
       " '&amp;',\n",
       " 'GSD&amp;M',\n",
       " '&amp;',\n",
       " 'q&amp;a',\n",
       " '&amp;',\n",
       " 'Q&amp;A',\n",
       " '&amp;',\n",
       " 'AT&amp;T',\n",
       " 'Q&amp;A',\n",
       " '&amp;',\n",
       " '&amp;',\n",
       " '&amp;',\n",
       " '&amp;',\n",
       " '&amp;',\n",
       " '&amp;',\n",
       " '&amp;',\n",
       " '&amp;',\n",
       " '&amp;',\n",
       " 'GSD&amp;M',\n",
       " '&amp;',\n",
       " '&amp;',\n",
       " '&amp;',\n",
       " '&amp;',\n",
       " '&amp;',\n",
       " 'Q&amp;A',\n",
       " '&amp;',\n",
       " '&amp;',\n",
       " '&amp;',\n",
       " '&amp;',\n",
       " '&amp;',\n",
       " '&amp;',\n",
       " '&amp;',\n",
       " '&amp;',\n",
       " '&amp;',\n",
       " '&amp;',\n",
       " '&amp;',\n",
       " '&amp;',\n",
       " '&amp;',\n",
       " '&amp;',\n",
       " '&amp;',\n",
       " '&amp;',\n",
       " '&amp;',\n",
       " '&amp;',\n",
       " '&amp;',\n",
       " '&amp;',\n",
       " '&amp;',\n",
       " '&amp;',\n",
       " '&amp;',\n",
       " '&amp;',\n",
       " 'GSD&amp;M/Google',\n",
       " '&amp;',\n",
       " '&amp;',\n",
       " '&amp;',\n",
       " '&amp;',\n",
       " '&amp;',\n",
       " '&amp;',\n",
       " '&amp;',\n",
       " '&amp;',\n",
       " '&amp;',\n",
       " '(&amp;',\n",
       " 'AT&amp;T.',\n",
       " '&amp;',\n",
       " '&amp;',\n",
       " '&amp;',\n",
       " '&amp;',\n",
       " '&amp;',\n",
       " '&amp;',\n",
       " '&amp;',\n",
       " '&amp;',\n",
       " 'Q&amp;A',\n",
       " '&amp;',\n",
       " '&amp;',\n",
       " '&amp;',\n",
       " '&amp;',\n",
       " '&amp;',\n",
       " 'q&amp;a.',\n",
       " '&amp;',\n",
       " '&amp;',\n",
       " '&amp;',\n",
       " '&amp;iPad',\n",
       " '&amp;',\n",
       " '&amp;',\n",
       " '&amp;',\n",
       " '&amp;',\n",
       " '&amp;',\n",
       " '&amp;',\n",
       " '&amp;',\n",
       " '&amp;',\n",
       " '&amp;',\n",
       " '&amp;',\n",
       " '&amp;',\n",
       " '&amp;',\n",
       " '&amp;',\n",
       " '&amp;',\n",
       " '&amp;',\n",
       " '&amp;',\n",
       " '&amp;',\n",
       " '&amp;Social',\n",
       " '&amp;',\n",
       " '&amp;',\n",
       " '&amp;',\n",
       " '&amp;',\n",
       " '&amp;',\n",
       " '&amp;',\n",
       " '&amp;',\n",
       " '&amp;',\n",
       " '&amp;',\n",
       " '&amp;',\n",
       " '&amp;',\n",
       " 'search\\nGSD&amp;M',\n",
       " '&amp;',\n",
       " '&amp;',\n",
       " '&amp;',\n",
       " '&amp;',\n",
       " '&amp;',\n",
       " 'AT&amp;T',\n",
       " '&amp;',\n",
       " '&amp;',\n",
       " '&amp;',\n",
       " '&amp;',\n",
       " 'GSD&amp;M)',\n",
       " '&amp;',\n",
       " '&amp;',\n",
       " '&amp;',\n",
       " 'AT&amp;T',\n",
       " '&amp;',\n",
       " '&amp;',\n",
       " '&amp;',\n",
       " '&amp;',\n",
       " '&amp;',\n",
       " 'Q&amp;A',\n",
       " '&amp;',\n",
       " '&amp;',\n",
       " 'Q&amp;A',\n",
       " '&amp;',\n",
       " '&amp;iPad',\n",
       " '&amp;',\n",
       " '&amp;',\n",
       " '&amp;Apple',\n",
       " '&amp;',\n",
       " '&amp;',\n",
       " '&amp;',\n",
       " 'Q&amp;A',\n",
       " '&amp;',\n",
       " '&amp;',\n",
       " '&amp;',\n",
       " '&amp;',\n",
       " '&amp;',\n",
       " '&amp;',\n",
       " '&amp;',\n",
       " '&amp;',\n",
       " '&lt;&amp;',\n",
       " '&amp;',\n",
       " '&amp;',\n",
       " '&amp;',\n",
       " '&amp;',\n",
       " '&amp;',\n",
       " 'GSD&amp;M',\n",
       " '&amp;',\n",
       " '&amp;',\n",
       " '&amp;',\n",
       " 'at&amp;t',\n",
       " '{link}\\n#at&amp;t',\n",
       " '&amp;',\n",
       " '&amp;',\n",
       " '&amp;',\n",
       " '&amp;',\n",
       " '&amp;',\n",
       " '&amp;',\n",
       " '&amp;iPad',\n",
       " '&amp;',\n",
       " '&amp;',\n",
       " '&amp;',\n",
       " '&amp;',\n",
       " '&amp;',\n",
       " '&amp;',\n",
       " '&amp;',\n",
       " '&amp;',\n",
       " '&amp;',\n",
       " '&amp;',\n",
       " '&amp;',\n",
       " '&amp;',\n",
       " '&amp;',\n",
       " '&amp;',\n",
       " '&amp;',\n",
       " '&amp;',\n",
       " '&amp;',\n",
       " 'techies,&amp;',\n",
       " '&amp;',\n",
       " 'AT&amp;T',\n",
       " '&amp;',\n",
       " '&amp;',\n",
       " '&amp;',\n",
       " '&amp;',\n",
       " '&amp;',\n",
       " '&amp;',\n",
       " '&amp;',\n",
       " '{link}\\nQ&amp;A',\n",
       " '&amp;',\n",
       " '&amp;',\n",
       " 'AT&amp;T',\n",
       " '&amp;',\n",
       " '&amp;',\n",
       " '&amp;',\n",
       " '&amp;',\n",
       " '&amp;',\n",
       " '&amp;',\n",
       " '&amp;',\n",
       " '&amp;',\n",
       " '&amp;',\n",
       " 'GSD&amp;M',\n",
       " '&amp;',\n",
       " 'Q&amp;A',\n",
       " '&amp;',\n",
       " '&amp;',\n",
       " '&amp;',\n",
       " '&amp;',\n",
       " '&amp;',\n",
       " '&amp;',\n",
       " '&amp;',\n",
       " '&amp;',\n",
       " '&amp;',\n",
       " '&amp;',\n",
       " '&amp;',\n",
       " '&amp;',\n",
       " '&amp;',\n",
       " '&amp;',\n",
       " '&amp;',\n",
       " '&amp;',\n",
       " '&amp;',\n",
       " '&amp;',\n",
       " '&amp;',\n",
       " '&amp;iPad',\n",
       " '&amp;',\n",
       " '&amp;',\n",
       " 'wk&amp;',\n",
       " '#AT&amp;T',\n",
       " '&amp;',\n",
       " '&amp;',\n",
       " '&amp;',\n",
       " 'GSD&amp;M',\n",
       " '&amp;',\n",
       " '&amp;',\n",
       " '&amp;',\n",
       " '&amp;',\n",
       " '&amp;',\n",
       " '&amp;',\n",
       " '&amp;',\n",
       " '&amp;',\n",
       " '&amp;',\n",
       " '&amp;',\n",
       " '&amp;',\n",
       " 'AT&amp;T).\\nSome',\n",
       " '&amp;',\n",
       " '&amp;',\n",
       " '&amp;',\n",
       " '&amp;',\n",
       " 'Q&amp;A',\n",
       " '&amp;',\n",
       " '&amp;Social',\n",
       " '&amp;',\n",
       " '&amp;',\n",
       " '1&amp;2',\n",
       " '&amp;',\n",
       " '&amp;',\n",
       " '&amp;',\n",
       " 'AT&amp;T',\n",
       " '&amp;',\n",
       " '&amp;',\n",
       " '&amp;',\n",
       " '&amp;',\n",
       " '&amp;',\n",
       " '&amp;',\n",
       " '&amp;',\n",
       " '&amp;',\n",
       " '&amp;',\n",
       " '&amp;',\n",
       " '&amp;',\n",
       " '&amp;',\n",
       " '&amp;',\n",
       " '&amp;',\n",
       " '&amp;',\n",
       " '&amp;',\n",
       " '&amp;',\n",
       " '&amp;',\n",
       " '&amp;',\n",
       " '&amp;',\n",
       " '&amp;',\n",
       " '&amp;',\n",
       " '&amp;',\n",
       " '&amp;',\n",
       " '&amp;',\n",
       " 'AT&amp;T!\\nRT',\n",
       " '&amp;',\n",
       " '&amp;iPad2',\n",
       " 'GSD&amp;M',\n",
       " '&amp;',\n",
       " '&amp;',\n",
       " '&amp;',\n",
       " '&amp;',\n",
       " '&amp;',\n",
       " '&amp;',\n",
       " '&amp;',\n",
       " '&amp;',\n",
       " '&amp;',\n",
       " '&amp;',\n",
       " '&amp;',\n",
       " '&amp;',\n",
       " '&amp;',\n",
       " '&amp;',\n",
       " '&amp;',\n",
       " '&amp;',\n",
       " '&amp;',\n",
       " '&amp;',\n",
       " '&amp;',\n",
       " 'GSD&amp;M',\n",
       " '&amp;',\n",
       " '&amp;',\n",
       " '&amp;',\n",
       " '&amp;',\n",
       " '&amp;',\n",
       " '&amp;',\n",
       " '&amp;',\n",
       " '&amp;',\n",
       " '&amp;',\n",
       " '&amp;',\n",
       " '&amp;',\n",
       " '&amp;',\n",
       " 'Q&amp;A',\n",
       " '&amp;',\n",
       " '&amp;',\n",
       " '&amp;',\n",
       " '&amp;',\n",
       " '&amp;',\n",
       " 'AT&amp;T,',\n",
       " '&amp;',\n",
       " '&amp;',\n",
       " '&amp;',\n",
       " '&amp;',\n",
       " '&amp;',\n",
       " '&amp;',\n",
       " '&amp;',\n",
       " '&amp;',\n",
       " '&amp;',\n",
       " '&amp;',\n",
       " '&amp;',\n",
       " '&amp;',\n",
       " '&amp;',\n",
       " '&amp;',\n",
       " '&amp;',\n",
       " '&amp;',\n",
       " 'Q&amp;A',\n",
       " '&amp;',\n",
       " '&amp;',\n",
       " 'at&amp;t',\n",
       " '&amp;',\n",
       " '&amp;',\n",
       " '&amp;',\n",
       " 'Q&amp;A',\n",
       " '#sxsw!\\nGSD&amp;M',\n",
       " '&amp;',\n",
       " '&amp;',\n",
       " '&amp;',\n",
       " '&amp;',\n",
       " '&amp;',\n",
       " '&amp;',\n",
       " '&amp;',\n",
       " '&amp;',\n",
       " 'Q&amp;A',\n",
       " '&amp;',\n",
       " '&amp;',\n",
       " '&amp;',\n",
       " '&amp;',\n",
       " '&amp;',\n",
       " '&amp;',\n",
       " '&amp;',\n",
       " '&amp;',\n",
       " '&amp;',\n",
       " '&amp;',\n",
       " '&amp;',\n",
       " '&amp;',\n",
       " '&amp;',\n",
       " '&amp;',\n",
       " 'Q&amp;A\\nRT',\n",
       " '&amp;',\n",
       " '&amp;',\n",
       " 'Q&amp;A',\n",
       " '&amp;',\n",
       " '&amp;',\n",
       " 'At&amp;t',\n",
       " '&amp;',\n",
       " '&amp;',\n",
       " '&amp;',\n",
       " '&amp;',\n",
       " 'AT&amp;T',\n",
       " '&amp;',\n",
       " '&amp;',\n",
       " '&amp;',\n",
       " '&amp;',\n",
       " '&amp;',\n",
       " '&amp;',\n",
       " '&amp;',\n",
       " 'GSD&amp;M',\n",
       " 'Q&amp;A',\n",
       " '&amp;',\n",
       " ':)\\n&amp;',\n",
       " '&amp;',\n",
       " '&amp;',\n",
       " '&amp;',\n",
       " '&amp;',\n",
       " '&amp;',\n",
       " '(&amp;',\n",
       " '&amp;',\n",
       " '&amp;iPad',\n",
       " 'Q&amp;A',\n",
       " '&amp;',\n",
       " '&amp;',\n",
       " '&amp;',\n",
       " '&amp;',\n",
       " '&amp;',\n",
       " '&amp;',\n",
       " '&amp;',\n",
       " '&amp;',\n",
       " '&amp;',\n",
       " '&amp;',\n",
       " '&amp;',\n",
       " 'Q&amp;A',\n",
       " '&amp;',\n",
       " '&amp;',\n",
       " '&amp;',\n",
       " '#sxsw\\nGSD&amp;M',\n",
       " '&amp;',\n",
       " '&amp;',\n",
       " '&amp;',\n",
       " '&amp;',\n",
       " '&amp;',\n",
       " '&amp;Social',\n",
       " '&amp;',\n",
       " 'iphone&amp;',\n",
       " '&amp;',\n",
       " 'GSD&amp;M/Google',\n",
       " '&amp;',\n",
       " '&amp;',\n",
       " 'Q&amp;A',\n",
       " '&amp;',\n",
       " '&amp;',\n",
       " '&amp;',\n",
       " '&amp;',\n",
       " '&amp;',\n",
       " '&amp;',\n",
       " '&amp;',\n",
       " '&amp;',\n",
       " '&amp;',\n",
       " '&amp;',\n",
       " '&amp;',\n",
       " '&amp;',\n",
       " '&amp;',\n",
       " '&amp;',\n",
       " '&amp;',\n",
       " '&amp;',\n",
       " '&amp;',\n",
       " '&amp;',\n",
       " '&amp;',\n",
       " '&amp;',\n",
       " '&amp;',\n",
       " '&amp;',\n",
       " '&amp;',\n",
       " '&amp;',\n",
       " '&amp;',\n",
       " 'Q&amp;A',\n",
       " '&amp;',\n",
       " '&amp;',\n",
       " '&amp;',\n",
       " '&amp;',\n",
       " '&amp;',\n",
       " '&amp;',\n",
       " 'pen&amp;paper',\n",
       " '&amp;',\n",
       " '&amp;',\n",
       " '&amp;',\n",
       " '&amp;',\n",
       " '&amp;',\n",
       " '&amp;',\n",
       " '&amp;',\n",
       " '&amp;',\n",
       " 'AT&amp;T',\n",
       " '&amp;',\n",
       " '&amp;',\n",
       " '&amp;',\n",
       " '&amp;',\n",
       " 'Q&amp;A',\n",
       " '&amp;',\n",
       " 'GSD&amp;M',\n",
       " '&amp;',\n",
       " '&amp;',\n",
       " '&amp;',\n",
       " '&amp;',\n",
       " '&amp;',\n",
       " '&amp;',\n",
       " '&amp;',\n",
       " '&amp;',\n",
       " '{link}\\nGSD&amp;M',\n",
       " 'Q&amp;A',\n",
       " '&amp;',\n",
       " '&amp;',\n",
       " '&amp;',\n",
       " 'GSD&amp;M',\n",
       " '&amp;',\n",
       " '&amp;',\n",
       " '&amp;',\n",
       " '&amp;',\n",
       " '&amp;',\n",
       " '&amp;',\n",
       " '&amp;',\n",
       " '&amp;',\n",
       " '&amp;',\n",
       " '&amp;',\n",
       " '&amp;',\n",
       " '&amp;',\n",
       " '&amp;',\n",
       " 'Q&amp;A',\n",
       " '&amp;',\n",
       " '&amp;',\n",
       " '&amp;',\n",
       " '&amp;',\n",
       " '&amp;',\n",
       " '&amp;',\n",
       " '&amp;',\n",
       " '&amp;']"
      ]
     },
     "execution_count": 99,
     "metadata": {},
     "output_type": "execute_result"
    }
   ],
   "source": [
    "# trial = r\".\"*4+r\"[^ ]*\"+r\"&amp;\"+r\"[^ ]*\"+r\".\"*4\n",
    "trial = r\"[^ ]*\"+r\"&amp;\"+r\"[^ ]*\"\n",
    "trial = r\"{}\".format(trial)\n",
    "re.findall(trial,sentiments_all)"
   ]
  },
  {
   "cell_type": "markdown",
   "metadata": {},
   "source": [
    "#### Replace:\n",
    "    [ &amp; ] with ' '\n",
    "    [^ ]&amp;[^ ] with '&'\n",
    "\n"
   ]
  },
  {
   "cell_type": "code",
   "execution_count": null,
   "metadata": {},
   "outputs": [],
   "source": []
  },
  {
   "cell_type": "code",
   "execution_count": 100,
   "metadata": {},
   "outputs": [],
   "source": [
    "sample2 = \"sponsored by AT&amp;T &amp; some other company\""
   ]
  },
  {
   "cell_type": "code",
   "execution_count": 101,
   "metadata": {},
   "outputs": [
    {
     "data": {
      "text/plain": [
       "'sponsored by AT&T & some other company'"
      ]
     },
     "execution_count": 101,
     "metadata": {},
     "output_type": "execute_result"
    }
   ],
   "source": [
    "pat_amp = r\"&amp;\"\n",
    "sample2_clean = re.sub(pat_amp, '&', sample2, flags=re.I)\n",
    "sample2_clean"
   ]
  },
  {
   "cell_type": "code",
   "execution_count": 102,
   "metadata": {},
   "outputs": [
    {
     "data": {
      "text/plain": [
       "'sponsored by AT&T & some other company'"
      ]
     },
     "execution_count": 102,
     "metadata": {},
     "output_type": "execute_result"
    }
   ],
   "source": [
    "pat_amp2 = r\" & | &|& \"\n",
    "sample2_clean2 = re.sub(pat_amp, ' ', sample2_clean)\n",
    "sample2_clean2\n"
   ]
  },
  {
   "cell_type": "code",
   "execution_count": 103,
   "metadata": {},
   "outputs": [
    {
     "data": {
      "text/plain": [
       "[' &amp; ',\n",
       " ' &amp; ',\n",
       " ' &amp; ',\n",
       " ' &amp; ',\n",
       " ' &amp; ',\n",
       " ' &amp; ',\n",
       " ' &amp; ',\n",
       " ' &amp; ',\n",
       " ' &amp; ',\n",
       " ' &amp; ',\n",
       " ' &amp; ',\n",
       " ' &amp; ',\n",
       " ' &amp; ',\n",
       " ' &amp; ',\n",
       " ' &amp; ',\n",
       " ' &amp; ',\n",
       " ' &amp; ',\n",
       " ' &amp; ',\n",
       " ' &amp; ',\n",
       " ' &amp; ',\n",
       " ' &amp; ',\n",
       " ' &amp; ',\n",
       " ' &amp; ',\n",
       " ' &amp; ',\n",
       " ' &amp; ',\n",
       " ' &amp; ',\n",
       " ' &amp; ',\n",
       " ' &amp; ',\n",
       " ' &amp; ',\n",
       " ' &amp; ',\n",
       " ' &amp; ',\n",
       " ' &amp; ',\n",
       " ' &amp; ',\n",
       " ' &amp; ',\n",
       " ' &amp; ',\n",
       " ' &amp; ',\n",
       " ' &amp; ',\n",
       " ' &amp; ',\n",
       " ' &amp; ',\n",
       " ' &amp; ',\n",
       " ' &amp; ',\n",
       " ' &amp; ',\n",
       " ' &amp; ',\n",
       " ' &amp; ',\n",
       " ' &amp; ',\n",
       " ' &amp; ',\n",
       " ' &amp; ',\n",
       " ' &amp; ',\n",
       " ' &amp; ',\n",
       " ' &amp; ',\n",
       " ' &amp; ',\n",
       " ' &amp; ',\n",
       " ' &amp; ',\n",
       " ' &amp; ',\n",
       " ' &amp; ',\n",
       " ' &amp; ',\n",
       " ' &amp; ',\n",
       " ' &amp; ',\n",
       " ' &amp; ',\n",
       " ' &amp; ',\n",
       " ' &amp; ',\n",
       " ' &amp; ',\n",
       " ' &amp; ',\n",
       " ' &amp; ',\n",
       " ' &amp; ',\n",
       " ' &amp; ',\n",
       " ' &amp; ',\n",
       " ' &amp; ',\n",
       " ' &amp; ',\n",
       " ' &amp; ',\n",
       " ' &amp; ',\n",
       " ' &amp; ',\n",
       " ' &amp; ',\n",
       " ' &amp; ',\n",
       " ' &amp; ',\n",
       " ' &amp; ',\n",
       " ' &amp; ',\n",
       " ' &amp; ',\n",
       " ' &amp; ',\n",
       " ' &amp; ',\n",
       " ' &amp; ',\n",
       " ' &amp; ',\n",
       " ' &amp; ',\n",
       " ' &amp; ',\n",
       " ' &amp; ',\n",
       " ' &amp; ',\n",
       " ' &amp; ',\n",
       " ' &amp; ',\n",
       " ' &amp; ',\n",
       " ' &amp; ',\n",
       " ' &amp; ',\n",
       " ' &amp; ',\n",
       " ' &amp; ',\n",
       " ' &amp; ',\n",
       " ' &amp; ',\n",
       " ' &amp; ',\n",
       " ' &amp; ',\n",
       " ' &amp; ',\n",
       " ' &amp; ',\n",
       " ' &amp; ',\n",
       " ' &amp; ',\n",
       " ' &amp; ',\n",
       " ' &amp; ',\n",
       " ' &amp; ',\n",
       " ' &amp; ',\n",
       " ' &amp; ',\n",
       " ' &amp; ',\n",
       " ' &amp; ',\n",
       " ' &amp; ',\n",
       " ' &amp; ',\n",
       " ' &amp; ',\n",
       " ' &amp; ',\n",
       " ' &amp; ',\n",
       " ' &amp; ',\n",
       " ' &amp; ',\n",
       " ' &amp; ',\n",
       " ' &amp; ',\n",
       " ' &amp; ',\n",
       " ' &amp; ',\n",
       " ' &amp; ',\n",
       " ' &amp; ',\n",
       " ' &amp; ',\n",
       " ' &amp; ',\n",
       " ' &amp; ',\n",
       " ' &amp; ',\n",
       " ' &amp; ',\n",
       " ' &amp; ',\n",
       " ' &amp; ',\n",
       " ' &amp; ',\n",
       " ' &amp; ',\n",
       " ' &amp; ',\n",
       " ' &amp; ',\n",
       " ' &amp; ',\n",
       " ' &amp; ',\n",
       " ' &amp; ',\n",
       " ' &amp; ',\n",
       " ' &amp; ',\n",
       " ' &amp; ',\n",
       " ' &amp; ',\n",
       " ' &amp; ',\n",
       " ' &amp; ',\n",
       " ' &amp; ',\n",
       " ' &amp; ',\n",
       " ' &amp; ',\n",
       " ' &amp; ',\n",
       " ' &amp; ',\n",
       " ' &amp; ',\n",
       " ' &amp; ',\n",
       " ' &amp; ',\n",
       " ' &amp; ',\n",
       " ' &amp; ',\n",
       " ' &amp; ',\n",
       " ' &amp; ',\n",
       " ' &amp; ',\n",
       " ' &amp; ',\n",
       " ' &amp; ',\n",
       " ' &amp; ',\n",
       " ' &amp; ',\n",
       " ' &amp; ',\n",
       " ' &amp; ',\n",
       " ' &amp; ',\n",
       " ' &amp; ',\n",
       " ' &amp; ',\n",
       " ' &amp; ',\n",
       " ' &amp; ',\n",
       " ' &amp; ',\n",
       " ' &amp; ',\n",
       " ' &amp; ',\n",
       " ' &amp; ',\n",
       " ' &amp; ',\n",
       " ' &amp; ',\n",
       " ' &amp; ',\n",
       " ' &amp; ',\n",
       " ' &amp; ',\n",
       " ' &amp; ',\n",
       " ' &amp; ',\n",
       " ' &amp; ',\n",
       " ' &amp; ',\n",
       " ' &amp; ',\n",
       " ' &amp; ',\n",
       " ' &amp; ',\n",
       " ' &amp; ',\n",
       " ' &amp; ',\n",
       " ' &amp; ',\n",
       " ' &amp; ',\n",
       " ' &amp; ',\n",
       " ' &amp; ',\n",
       " ' &amp; ',\n",
       " ' &amp; ',\n",
       " ' &amp; ',\n",
       " ' &amp; ',\n",
       " ' &amp; ',\n",
       " ' &amp; ',\n",
       " ' &amp; ',\n",
       " ' &amp; ',\n",
       " ' &amp; ',\n",
       " ' &amp; ',\n",
       " ' &amp; ',\n",
       " ' &amp; ',\n",
       " ' &amp; ',\n",
       " ' &amp; ',\n",
       " ' &amp; ',\n",
       " ' &amp; ',\n",
       " ' &amp; ',\n",
       " ' &amp; ',\n",
       " ' &amp; ',\n",
       " ' &amp; ',\n",
       " ' &amp; ',\n",
       " ' &amp; ',\n",
       " ' &amp; ',\n",
       " ' &amp; ',\n",
       " ' &amp; ',\n",
       " ' &amp; ',\n",
       " ' &amp; ',\n",
       " ' &amp; ',\n",
       " ' &amp; ',\n",
       " ' &amp; ',\n",
       " ' &amp; ',\n",
       " ' &amp; ',\n",
       " ' &amp; ',\n",
       " ' &amp; ',\n",
       " ' &amp; ',\n",
       " ' &amp; ',\n",
       " ' &amp; ',\n",
       " ' &amp; ',\n",
       " ' &amp; ',\n",
       " ' &amp; ',\n",
       " ' &amp; ',\n",
       " ' &amp; ',\n",
       " ' &amp; ',\n",
       " ' &amp; ',\n",
       " ' &amp; ',\n",
       " ' &amp; ',\n",
       " ' &amp; ',\n",
       " ' &amp; ',\n",
       " ' &amp; ',\n",
       " ' &amp; ',\n",
       " ' &amp; ',\n",
       " ' &amp; ',\n",
       " ' &amp; ',\n",
       " ' &amp; ',\n",
       " ' &amp; ',\n",
       " ' &amp; ',\n",
       " ' &amp; ',\n",
       " ' &amp; ',\n",
       " ' &amp; ',\n",
       " ' &amp; ',\n",
       " ' &amp; ',\n",
       " ' &amp; ',\n",
       " ' &amp; ',\n",
       " ' &amp; ',\n",
       " ' &amp; ',\n",
       " ' &amp; ',\n",
       " ' &amp; ',\n",
       " ' &amp; ',\n",
       " ' &amp; ',\n",
       " ' &amp; ',\n",
       " ' &amp; ',\n",
       " ' &amp; ',\n",
       " ' &amp; ',\n",
       " ' &amp; ',\n",
       " ' &amp; ',\n",
       " ' &amp; ',\n",
       " ' &amp; ',\n",
       " ' &amp; ',\n",
       " ' &amp; ',\n",
       " ' &amp; ',\n",
       " ' &amp; ',\n",
       " ' &amp; ',\n",
       " ' &amp; ',\n",
       " ' &amp; ',\n",
       " ' &amp; ',\n",
       " ' &amp; ',\n",
       " ' &amp; ',\n",
       " ' &amp; ',\n",
       " ' &amp; ',\n",
       " ' &amp; ',\n",
       " ' &amp; ',\n",
       " ' &amp; ',\n",
       " ' &amp; ',\n",
       " ' &amp; ',\n",
       " ' &amp; ',\n",
       " ' &amp; ',\n",
       " ' &amp; ',\n",
       " ' &amp; ',\n",
       " ' &amp; ',\n",
       " ' &amp; ',\n",
       " ' &amp; ',\n",
       " ' &amp; ',\n",
       " ' &amp; ',\n",
       " ' &amp; ',\n",
       " ' &amp; ',\n",
       " ' &amp; ',\n",
       " ' &amp; ',\n",
       " ' &amp; ',\n",
       " ' &amp; ',\n",
       " ' &amp; ',\n",
       " ' &amp; ',\n",
       " ' &amp; ',\n",
       " ' &amp; ',\n",
       " ' &amp; ',\n",
       " ' &amp; ',\n",
       " ' &amp; ',\n",
       " ' &amp; ',\n",
       " ' &amp; ',\n",
       " ' &amp; ',\n",
       " ' &amp; ',\n",
       " ' &amp; ',\n",
       " ' &amp; ',\n",
       " ' &amp; ',\n",
       " ' &amp; ',\n",
       " ' &amp; ',\n",
       " ' &amp; ',\n",
       " ' &amp; ',\n",
       " ' &amp; ',\n",
       " ' &amp; ',\n",
       " ' &amp; ',\n",
       " ' &amp; ',\n",
       " ' &amp; ',\n",
       " ' &amp; ',\n",
       " ' &amp; ',\n",
       " ' &amp; ',\n",
       " ' &amp; ',\n",
       " ' &amp; ',\n",
       " ' &amp; ',\n",
       " ' &amp; ',\n",
       " ' &amp; ',\n",
       " ' &amp; ',\n",
       " ' &amp; ',\n",
       " ' &amp; ',\n",
       " ' &amp; ',\n",
       " ' &amp; ',\n",
       " ' &amp; ',\n",
       " ' &amp; ',\n",
       " ' &amp; ',\n",
       " ' &amp; ',\n",
       " ' &amp; ',\n",
       " ' &amp; ',\n",
       " ' &amp; ',\n",
       " ' &amp; ',\n",
       " ' &amp; ',\n",
       " ' &amp; ',\n",
       " ' &amp; ',\n",
       " ' &amp; ',\n",
       " ' &amp; ',\n",
       " ' &amp; ',\n",
       " ' &amp; ',\n",
       " ' &amp; ',\n",
       " ' &amp; ',\n",
       " ' &amp; ',\n",
       " ' &amp; ',\n",
       " ' &amp; ',\n",
       " ' &amp; ',\n",
       " ' &amp; ',\n",
       " ' &amp; ',\n",
       " ' &amp; ',\n",
       " ' &amp; ',\n",
       " ' &amp; ',\n",
       " ' &amp; ',\n",
       " ' &amp; ',\n",
       " ' &amp; ',\n",
       " ' &amp; ',\n",
       " ' &amp; ',\n",
       " ' &amp; ',\n",
       " ' &amp; ',\n",
       " ' &amp; ',\n",
       " ' &amp; ',\n",
       " ' &amp; ',\n",
       " ' &amp; ',\n",
       " ' &amp; ',\n",
       " ' &amp; ',\n",
       " ' &amp; ',\n",
       " ' &amp; ',\n",
       " ' &amp; ',\n",
       " ' &amp; ',\n",
       " ' &amp; ',\n",
       " ' &amp; ',\n",
       " ' &amp; ',\n",
       " ' &amp; ',\n",
       " ' &amp; ',\n",
       " ' &amp; ',\n",
       " ' &amp; ',\n",
       " ' &amp; ',\n",
       " ' &amp; ',\n",
       " ' &amp; ',\n",
       " ' &amp; ',\n",
       " ' &amp; ',\n",
       " ' &amp; ',\n",
       " ' &amp; ',\n",
       " ' &amp; ',\n",
       " ' &amp; ',\n",
       " ' &amp; ',\n",
       " ' &amp; ',\n",
       " ' &amp; ',\n",
       " ' &amp; ',\n",
       " ' &amp; ',\n",
       " ' &amp; ',\n",
       " ' &amp; ',\n",
       " ' &amp; ',\n",
       " ' &amp; ',\n",
       " ' &amp; ',\n",
       " ' &amp; ',\n",
       " ' &amp; ',\n",
       " ' &amp; ',\n",
       " ' &amp; ',\n",
       " ' &amp; ',\n",
       " ' &amp; ',\n",
       " ' &amp; ',\n",
       " ' &amp; ',\n",
       " ' &amp; ',\n",
       " ' &amp; ',\n",
       " ' &amp; ',\n",
       " ' &amp; ',\n",
       " ' &amp; ',\n",
       " ' &amp; ',\n",
       " ' &amp; ',\n",
       " ' &amp; ',\n",
       " ' &amp; ',\n",
       " ' &amp; ',\n",
       " ' &amp; ',\n",
       " ' &amp; ',\n",
       " ' &amp; ',\n",
       " ' &amp; ',\n",
       " ' &amp; ',\n",
       " ' &amp; ',\n",
       " ' &amp; ',\n",
       " ' &amp; ',\n",
       " ' &amp; ',\n",
       " ' &amp; ',\n",
       " ' &amp; ',\n",
       " ' &amp; ',\n",
       " ' &amp; ',\n",
       " ' &amp; ',\n",
       " ' &amp; ',\n",
       " ' &amp; ',\n",
       " ' &amp; ',\n",
       " ' &amp; ',\n",
       " ' &amp; ',\n",
       " ' &amp; ',\n",
       " ' &amp; ',\n",
       " ' &amp; ',\n",
       " ' &amp; ',\n",
       " ' &amp; ',\n",
       " ' &amp; ',\n",
       " ' &amp; ',\n",
       " ' &amp; ',\n",
       " ' &amp; ',\n",
       " ' &amp; ',\n",
       " ' &amp; ',\n",
       " ' &amp; ',\n",
       " ' &amp; ',\n",
       " ' &amp; ',\n",
       " ' &amp; ',\n",
       " ' &amp; ',\n",
       " ' &amp; ',\n",
       " ' &amp; ',\n",
       " ' &amp; ',\n",
       " ' &amp; ',\n",
       " ' &amp; ',\n",
       " ' &amp; ',\n",
       " ' &amp; ',\n",
       " ' &amp; ',\n",
       " ' &amp; ',\n",
       " ' &amp; ',\n",
       " ' &amp; ',\n",
       " ' &amp; ',\n",
       " ' &amp; ',\n",
       " ' &amp; ',\n",
       " ' &amp; ',\n",
       " ' &amp; ',\n",
       " ' &amp; ',\n",
       " ' &amp; ',\n",
       " ' &amp; ',\n",
       " ' &amp; ',\n",
       " ' &amp; ',\n",
       " ' &amp; ',\n",
       " ' &amp; ',\n",
       " ' &amp; ',\n",
       " ' &amp; ',\n",
       " ' &amp; ',\n",
       " ' &amp; ',\n",
       " ' &amp; ',\n",
       " ' &amp; ',\n",
       " ' &amp; ',\n",
       " ' &amp; ',\n",
       " ' &amp; ',\n",
       " ' &amp; ',\n",
       " ' &amp; ',\n",
       " ' &amp; ',\n",
       " ' &amp; ',\n",
       " ' &amp; ',\n",
       " ' &amp; ',\n",
       " ' &amp; ',\n",
       " ' &amp; ',\n",
       " ' &amp; ',\n",
       " ' &amp; ',\n",
       " ' &amp; ',\n",
       " ' &amp; ',\n",
       " ' &amp; ',\n",
       " ' &amp; ',\n",
       " ' &amp; ',\n",
       " ' &amp; ',\n",
       " ' &amp; ',\n",
       " ' &amp; ',\n",
       " ' &amp; ',\n",
       " ' &amp; ',\n",
       " ' &amp; ',\n",
       " ' &amp; ',\n",
       " ' &amp; ',\n",
       " ' &amp; ',\n",
       " ' &amp; ',\n",
       " ' &amp; ',\n",
       " ' &amp; ',\n",
       " ' &amp; ',\n",
       " ' &amp; ',\n",
       " ' &amp; ',\n",
       " ' &amp; ',\n",
       " ' &amp; ',\n",
       " ' &amp; ',\n",
       " ' &amp; ',\n",
       " ' &amp; ',\n",
       " ' &amp; ',\n",
       " ' &amp; ',\n",
       " ' &amp; ',\n",
       " ' &amp; ',\n",
       " ' &amp; ',\n",
       " ' &amp; ',\n",
       " ' &amp; ',\n",
       " ' &amp; ',\n",
       " ' &amp; ',\n",
       " ' &amp; ',\n",
       " ' &amp; ',\n",
       " ' &amp; ',\n",
       " ' &amp; ',\n",
       " ' &amp; ',\n",
       " ' &amp; ',\n",
       " ' &amp; ',\n",
       " ' &amp; ',\n",
       " ' &amp; ',\n",
       " ' &amp; ',\n",
       " ' &amp; ',\n",
       " ' &amp; ',\n",
       " ' &amp; ',\n",
       " ' &amp; ',\n",
       " ' &amp; ',\n",
       " ' &amp; ',\n",
       " ' &amp; ',\n",
       " ' &amp; ',\n",
       " ' &amp; ',\n",
       " ' &amp; ',\n",
       " ' &amp; ',\n",
       " ' &amp; ',\n",
       " ' &amp; ',\n",
       " ' &amp; ',\n",
       " ' &amp; ',\n",
       " ' &amp; ',\n",
       " ' &amp; ',\n",
       " ' &amp; ',\n",
       " ' &amp; ',\n",
       " ' &amp; ',\n",
       " ' &amp; ',\n",
       " ' &amp; ',\n",
       " ' &amp; ',\n",
       " ' &amp; ',\n",
       " ' &amp; ',\n",
       " ' &amp; ',\n",
       " ' &amp; ',\n",
       " ' &amp; ',\n",
       " ' &amp; ',\n",
       " ' &amp; ',\n",
       " ' &amp; ',\n",
       " ' &amp; ',\n",
       " ' &amp; ']"
      ]
     },
     "execution_count": 103,
     "metadata": {},
     "output_type": "execute_result"
    }
   ],
   "source": [
    "pat_amp = r\" &amp; \"\n",
    "pat_amp = r\"{}\".format(pat_amp)\n",
    "# len(re.findall(pat_amp,sentiments_all,re.I))\n",
    "re.findall(pat_amp,sentiments_all,re.I)"
   ]
  },
  {
   "cell_type": "code",
   "execution_count": 104,
   "metadata": {},
   "outputs": [],
   "source": [
    "def replace_amp(text):\n",
    "    pat_amp = r\"&amp;\"\n",
    "    return re.sub(pat_amp, '&', text, flags=re.I)"
   ]
  },
  {
   "cell_type": "code",
   "execution_count": 105,
   "metadata": {},
   "outputs": [],
   "source": [
    "def remove_amp(text):\n",
    "    pat_amp_single = r\" & \"\n",
    "    return re.sub(pat_amp_single, '', text, flags=re.I)\n",
    "    "
   ]
  },
  {
   "cell_type": "code",
   "execution_count": 106,
   "metadata": {},
   "outputs": [
    {
     "ename": "KeyError",
     "evalue": "'tweet_namp'",
     "output_type": "error",
     "traceback": [
      "\u001b[0;31m---------------------------------------------------------------------------\u001b[0m",
      "\u001b[0;31mKeyError\u001b[0m                                  Traceback (most recent call last)",
      "\u001b[0;32m~/anaconda3/lib/python3.7/site-packages/pandas/core/indexes/base.py\u001b[0m in \u001b[0;36mget_loc\u001b[0;34m(self, key, method, tolerance)\u001b[0m\n\u001b[1;32m   2656\u001b[0m             \u001b[0;32mtry\u001b[0m\u001b[0;34m:\u001b[0m\u001b[0;34m\u001b[0m\u001b[0;34m\u001b[0m\u001b[0m\n\u001b[0;32m-> 2657\u001b[0;31m                 \u001b[0;32mreturn\u001b[0m \u001b[0mself\u001b[0m\u001b[0;34m.\u001b[0m\u001b[0m_engine\u001b[0m\u001b[0;34m.\u001b[0m\u001b[0mget_loc\u001b[0m\u001b[0;34m(\u001b[0m\u001b[0mkey\u001b[0m\u001b[0;34m)\u001b[0m\u001b[0;34m\u001b[0m\u001b[0;34m\u001b[0m\u001b[0m\n\u001b[0m\u001b[1;32m   2658\u001b[0m             \u001b[0;32mexcept\u001b[0m \u001b[0mKeyError\u001b[0m\u001b[0;34m:\u001b[0m\u001b[0;34m\u001b[0m\u001b[0;34m\u001b[0m\u001b[0m\n",
      "\u001b[0;32mpandas/_libs/index.pyx\u001b[0m in \u001b[0;36mpandas._libs.index.IndexEngine.get_loc\u001b[0;34m()\u001b[0m\n",
      "\u001b[0;32mpandas/_libs/index.pyx\u001b[0m in \u001b[0;36mpandas._libs.index.IndexEngine.get_loc\u001b[0;34m()\u001b[0m\n",
      "\u001b[0;32mpandas/_libs/hashtable_class_helper.pxi\u001b[0m in \u001b[0;36mpandas._libs.hashtable.PyObjectHashTable.get_item\u001b[0;34m()\u001b[0m\n",
      "\u001b[0;32mpandas/_libs/hashtable_class_helper.pxi\u001b[0m in \u001b[0;36mpandas._libs.hashtable.PyObjectHashTable.get_item\u001b[0;34m()\u001b[0m\n",
      "\u001b[0;31mKeyError\u001b[0m: 'tweet_namp'",
      "\nDuring handling of the above exception, another exception occurred:\n",
      "\u001b[0;31mKeyError\u001b[0m                                  Traceback (most recent call last)",
      "\u001b[0;32m<ipython-input-106-0e543a91e747>\u001b[0m in \u001b[0;36m<module>\u001b[0;34m\u001b[0m\n\u001b[0;32m----> 1\u001b[0;31m \u001b[0msentiments_namp\u001b[0m \u001b[0;34m=\u001b[0m \u001b[0;34m' '\u001b[0m\u001b[0;34m.\u001b[0m\u001b[0mjoin\u001b[0m\u001b[0;34m(\u001b[0m\u001b[0mdata\u001b[0m\u001b[0;34m[\u001b[0m\u001b[0;34m'tweet_namp'\u001b[0m\u001b[0;34m]\u001b[0m\u001b[0;34m.\u001b[0m\u001b[0mastype\u001b[0m\u001b[0;34m(\u001b[0m\u001b[0mstr\u001b[0m\u001b[0;34m)\u001b[0m\u001b[0;34m)\u001b[0m\u001b[0;34m\u001b[0m\u001b[0;34m\u001b[0m\u001b[0m\n\u001b[0m\u001b[1;32m      2\u001b[0m \u001b[0mre\u001b[0m\u001b[0;34m.\u001b[0m\u001b[0mfindall\u001b[0m\u001b[0;34m(\u001b[0m\u001b[0mpat_amp\u001b[0m\u001b[0;34m,\u001b[0m\u001b[0msentiments_namp\u001b[0m\u001b[0;34m,\u001b[0m\u001b[0mre\u001b[0m\u001b[0;34m.\u001b[0m\u001b[0mI\u001b[0m\u001b[0;34m)\u001b[0m\u001b[0;34m\u001b[0m\u001b[0;34m\u001b[0m\u001b[0m\n",
      "\u001b[0;32m~/anaconda3/lib/python3.7/site-packages/pandas/core/frame.py\u001b[0m in \u001b[0;36m__getitem__\u001b[0;34m(self, key)\u001b[0m\n\u001b[1;32m   2925\u001b[0m             \u001b[0;32mif\u001b[0m \u001b[0mself\u001b[0m\u001b[0;34m.\u001b[0m\u001b[0mcolumns\u001b[0m\u001b[0;34m.\u001b[0m\u001b[0mnlevels\u001b[0m \u001b[0;34m>\u001b[0m \u001b[0;36m1\u001b[0m\u001b[0;34m:\u001b[0m\u001b[0;34m\u001b[0m\u001b[0;34m\u001b[0m\u001b[0m\n\u001b[1;32m   2926\u001b[0m                 \u001b[0;32mreturn\u001b[0m \u001b[0mself\u001b[0m\u001b[0;34m.\u001b[0m\u001b[0m_getitem_multilevel\u001b[0m\u001b[0;34m(\u001b[0m\u001b[0mkey\u001b[0m\u001b[0;34m)\u001b[0m\u001b[0;34m\u001b[0m\u001b[0;34m\u001b[0m\u001b[0m\n\u001b[0;32m-> 2927\u001b[0;31m             \u001b[0mindexer\u001b[0m \u001b[0;34m=\u001b[0m \u001b[0mself\u001b[0m\u001b[0;34m.\u001b[0m\u001b[0mcolumns\u001b[0m\u001b[0;34m.\u001b[0m\u001b[0mget_loc\u001b[0m\u001b[0;34m(\u001b[0m\u001b[0mkey\u001b[0m\u001b[0;34m)\u001b[0m\u001b[0;34m\u001b[0m\u001b[0;34m\u001b[0m\u001b[0m\n\u001b[0m\u001b[1;32m   2928\u001b[0m             \u001b[0;32mif\u001b[0m \u001b[0mis_integer\u001b[0m\u001b[0;34m(\u001b[0m\u001b[0mindexer\u001b[0m\u001b[0;34m)\u001b[0m\u001b[0;34m:\u001b[0m\u001b[0;34m\u001b[0m\u001b[0;34m\u001b[0m\u001b[0m\n\u001b[1;32m   2929\u001b[0m                 \u001b[0mindexer\u001b[0m \u001b[0;34m=\u001b[0m \u001b[0;34m[\u001b[0m\u001b[0mindexer\u001b[0m\u001b[0;34m]\u001b[0m\u001b[0;34m\u001b[0m\u001b[0;34m\u001b[0m\u001b[0m\n",
      "\u001b[0;32m~/anaconda3/lib/python3.7/site-packages/pandas/core/indexes/base.py\u001b[0m in \u001b[0;36mget_loc\u001b[0;34m(self, key, method, tolerance)\u001b[0m\n\u001b[1;32m   2657\u001b[0m                 \u001b[0;32mreturn\u001b[0m \u001b[0mself\u001b[0m\u001b[0;34m.\u001b[0m\u001b[0m_engine\u001b[0m\u001b[0;34m.\u001b[0m\u001b[0mget_loc\u001b[0m\u001b[0;34m(\u001b[0m\u001b[0mkey\u001b[0m\u001b[0;34m)\u001b[0m\u001b[0;34m\u001b[0m\u001b[0;34m\u001b[0m\u001b[0m\n\u001b[1;32m   2658\u001b[0m             \u001b[0;32mexcept\u001b[0m \u001b[0mKeyError\u001b[0m\u001b[0;34m:\u001b[0m\u001b[0;34m\u001b[0m\u001b[0;34m\u001b[0m\u001b[0m\n\u001b[0;32m-> 2659\u001b[0;31m                 \u001b[0;32mreturn\u001b[0m \u001b[0mself\u001b[0m\u001b[0;34m.\u001b[0m\u001b[0m_engine\u001b[0m\u001b[0;34m.\u001b[0m\u001b[0mget_loc\u001b[0m\u001b[0;34m(\u001b[0m\u001b[0mself\u001b[0m\u001b[0;34m.\u001b[0m\u001b[0m_maybe_cast_indexer\u001b[0m\u001b[0;34m(\u001b[0m\u001b[0mkey\u001b[0m\u001b[0;34m)\u001b[0m\u001b[0;34m)\u001b[0m\u001b[0;34m\u001b[0m\u001b[0;34m\u001b[0m\u001b[0m\n\u001b[0m\u001b[1;32m   2660\u001b[0m         \u001b[0mindexer\u001b[0m \u001b[0;34m=\u001b[0m \u001b[0mself\u001b[0m\u001b[0;34m.\u001b[0m\u001b[0mget_indexer\u001b[0m\u001b[0;34m(\u001b[0m\u001b[0;34m[\u001b[0m\u001b[0mkey\u001b[0m\u001b[0;34m]\u001b[0m\u001b[0;34m,\u001b[0m \u001b[0mmethod\u001b[0m\u001b[0;34m=\u001b[0m\u001b[0mmethod\u001b[0m\u001b[0;34m,\u001b[0m \u001b[0mtolerance\u001b[0m\u001b[0;34m=\u001b[0m\u001b[0mtolerance\u001b[0m\u001b[0;34m)\u001b[0m\u001b[0;34m\u001b[0m\u001b[0;34m\u001b[0m\u001b[0m\n\u001b[1;32m   2661\u001b[0m         \u001b[0;32mif\u001b[0m \u001b[0mindexer\u001b[0m\u001b[0;34m.\u001b[0m\u001b[0mndim\u001b[0m \u001b[0;34m>\u001b[0m \u001b[0;36m1\u001b[0m \u001b[0;32mor\u001b[0m \u001b[0mindexer\u001b[0m\u001b[0;34m.\u001b[0m\u001b[0msize\u001b[0m \u001b[0;34m>\u001b[0m \u001b[0;36m1\u001b[0m\u001b[0;34m:\u001b[0m\u001b[0;34m\u001b[0m\u001b[0;34m\u001b[0m\u001b[0m\n",
      "\u001b[0;32mpandas/_libs/index.pyx\u001b[0m in \u001b[0;36mpandas._libs.index.IndexEngine.get_loc\u001b[0;34m()\u001b[0m\n",
      "\u001b[0;32mpandas/_libs/index.pyx\u001b[0m in \u001b[0;36mpandas._libs.index.IndexEngine.get_loc\u001b[0;34m()\u001b[0m\n",
      "\u001b[0;32mpandas/_libs/hashtable_class_helper.pxi\u001b[0m in \u001b[0;36mpandas._libs.hashtable.PyObjectHashTable.get_item\u001b[0;34m()\u001b[0m\n",
      "\u001b[0;32mpandas/_libs/hashtable_class_helper.pxi\u001b[0m in \u001b[0;36mpandas._libs.hashtable.PyObjectHashTable.get_item\u001b[0;34m()\u001b[0m\n",
      "\u001b[0;31mKeyError\u001b[0m: 'tweet_namp'"
     ]
    }
   ],
   "source": [
    "sentiments_namp = ' '.join(data['tweet_namp'].astype(str))\n",
    "re.findall(pat_amp,sentiments_namp,re.I)"
   ]
  },
  {
   "cell_type": "code",
   "execution_count": null,
   "metadata": {},
   "outputs": [],
   "source": [
    "len(re.findall(r\" & \",sentiments_namp,re.I))"
   ]
  },
  {
   "cell_type": "code",
   "execution_count": null,
   "metadata": {},
   "outputs": [],
   "source": []
  },
  {
   "cell_type": "code",
   "execution_count": null,
   "metadata": {},
   "outputs": [],
   "source": []
  },
  {
   "cell_type": "code",
   "execution_count": null,
   "metadata": {},
   "outputs": [],
   "source": [
    "data['tweet_namp'] = data['tweet'].astype(str).map(replace_amp)\n",
    "data['tweet_namp']"
   ]
  },
  {
   "cell_type": "code",
   "execution_count": null,
   "metadata": {},
   "outputs": [],
   "source": []
  },
  {
   "cell_type": "code",
   "execution_count": null,
   "metadata": {},
   "outputs": [],
   "source": [
    "# data.decode(\"utf8\").encode(\"ascii\",\"ignore\")\n",
    "data.loc[10,'tweet']"
   ]
  },
  {
   "cell_type": "code",
   "execution_count": null,
   "metadata": {},
   "outputs": [],
   "source": [
    "data.loc[10,'tweet'].encode(\"utf-8\").decode(\"utf-8\").encode(\"ascii\",\"ignore\")"
   ]
  },
  {
   "cell_type": "code",
   "execution_count": null,
   "metadata": {},
   "outputs": [],
   "source": [
    "data.loc[10,'tweet'].encode(\"ascii\",\"ignore\")"
   ]
  },
  {
   "cell_type": "code",
   "execution_count": null,
   "metadata": {},
   "outputs": [],
   "source": [
    "# data.loc[10,'tweet']#.encode(\"ascii\",\"ignore\")"
   ]
  },
  {
   "cell_type": "code",
   "execution_count": null,
   "metadata": {},
   "outputs": [],
   "source": [
    "# 1352\n",
    "tw=data[data.tweet_id==1352]['tweet']\n",
    "str(tw).encode(\"utf-8\").decode(\"utf-8\").encode(\"ascii\",\"ignore\")"
   ]
  },
  {
   "cell_type": "code",
   "execution_count": null,
   "metadata": {},
   "outputs": [],
   "source": [
    "data_asc = pd.read_csv('data/train.csv',encoding=\"utf-8\")"
   ]
  },
  {
   "cell_type": "code",
   "execution_count": null,
   "metadata": {},
   "outputs": [],
   "source": [
    "data_asc.drop(1274,axis=0,inplace=True)"
   ]
  },
  {
   "cell_type": "code",
   "execution_count": null,
   "metadata": {},
   "outputs": [],
   "source": [
    "data_asc['tweet_ascii'] = data_asc['tweet'].map(lambda x: x.encode(\"utf-8\").decode(\"utf-8\").encode(\"ascii\",\"ignore\"))\n"
   ]
  },
  {
   "cell_type": "code",
   "execution_count": null,
   "metadata": {},
   "outputs": [],
   "source": [
    "data_asc[data_asc.tweet_id==1352]['tweet_ascii']"
   ]
  },
  {
   "cell_type": "code",
   "execution_count": null,
   "metadata": {},
   "outputs": [],
   "source": [
    "lt_pat = r\".\"*8+r\"&lt;\"+r\".\"*8\n",
    "lt_pat = r\"{}\".format(lt_pat)\n",
    "re.findall(lt_pat,sentiments_all)"
   ]
  },
  {
   "cell_type": "code",
   "execution_count": null,
   "metadata": {},
   "outputs": [],
   "source": [
    "gt_pat = r\".\"*8+r\"&gt;\"+r\".\"*8\n",
    "gt_pat = r\"{}\".format(gt_pat)\n",
    "re.findall(gt_pat,sentiments_all)"
   ]
  },
  {
   "cell_type": "code",
   "execution_count": 109,
   "metadata": {},
   "outputs": [
    {
     "data": {
      "text/plain": [
       "['yed the &lt;title&gt; tag - w',\n",
       " 'ing to? &lt;Seriously!&gt; {link} ',\n",
       " 'RT #LOVE&lt;=&gt; Hey Aus',\n",
       " 'yed the &lt;title&gt; tag - w',\n",
       " 'on from &lt;video&gt; but inc']"
      ]
     },
     "execution_count": 109,
     "metadata": {},
     "output_type": "execute_result"
    }
   ],
   "source": [
    "html_syntax_pat = r\".\"*8+r\"&lt;[//a-z]+&gt;\"+r\".\"*8\n",
    "html_syntax_pat = r\"{}\".format(html_syntax_pat)\n",
    "re.findall(html_syntax_pat,sentiments_all)"
   ]
  },
  {
   "cell_type": "markdown",
   "metadata": {},
   "source": [
    "#### Remove html syntax"
   ]
  },
  {
   "cell_type": "code",
   "execution_count": null,
   "metadata": {},
   "outputs": [],
   "source": [
    "quot_pat = r\".\"*8+r\"&quot;\"+r\".\"*8\n",
    "quot_pat = r\"{}\".format(quot_pat)\n",
    "re.findall(quot_pat,sentiments_all)"
   ]
  },
  {
   "cell_type": "code",
   "execution_count": null,
   "metadata": {},
   "outputs": [],
   "source": [
    "quot_pat = r\".\"*8+r\":&quot;\"+r\".\"*8\n",
    "quot_pat = r\"{}\".format(quot_pat)\n",
    "re.findall(quot_pat,sentiments_all)"
   ]
  },
  {
   "cell_type": "markdown",
   "metadata": {},
   "source": [
    "#### Mappings"
   ]
  },
  {
   "cell_type": "code",
   "execution_count": null,
   "metadata": {},
   "outputs": [],
   "source": [
    "# ipad 2 mapping"
   ]
  },
  {
   "cell_type": "code",
   "execution_count": null,
   "metadata": {},
   "outputs": [],
   "source": [
    "ipad_pat = r\".\"*8+r\"ipad[ ]2\"+r\".\"*8\n",
    "ipad_pat = r\"{}\".format(ipad_pat)\n",
    "len(re.findall(ipad_pat,sentiments_all))"
   ]
  },
  {
   "cell_type": "code",
   "execution_count": null,
   "metadata": {},
   "outputs": [],
   "source": [
    "ipad_pat = r\".\"*8+r\"ipads\"+r\".\"*8\n",
    "ipad_pat = r\"{}\".format(ipad_pat)\n",
    "re.findall(ipad_pat,sentiments_all)"
   ]
  },
  {
   "cell_type": "code",
   "execution_count": null,
   "metadata": {},
   "outputs": [],
   "source": [
    "def map_ipad2(text):\n",
    "    ipad2_pat = r\"ipad[ ]+2[s]?\"\n",
    "    return re.sub(ipad2_pat, 'ipad2', text, flags=re.I)"
   ]
  },
  {
   "cell_type": "code",
   "execution_count": null,
   "metadata": {},
   "outputs": [],
   "source": [
    "def map_ipads(text):\n",
    "    ipads_pat = r\"ipads\"\n",
    "    return re.sub(ipads_pat, 'ipad', text, flags=re.I)"
   ]
  },
  {
   "cell_type": "code",
   "execution_count": null,
   "metadata": {},
   "outputs": [],
   "source": [
    "map_ipads(\"love the new iPad 2 ipads   2 ipad2s #ipad2 #iPad2\")"
   ]
  },
  {
   "cell_type": "code",
   "execution_count": null,
   "metadata": {},
   "outputs": [],
   "source": [
    "map_ipad2(\"love the new iPad 2 ipad   2s #ipad2 #iPad2\")"
   ]
  },
  {
   "cell_type": "code",
   "execution_count": null,
   "metadata": {},
   "outputs": [],
   "source": [
    "# iphone "
   ]
  },
  {
   "cell_type": "code",
   "execution_count": null,
   "metadata": {},
   "outputs": [],
   "source": [
    "iphone_pat = r\".\"*8+r\"iphone\"+r\".\"*8 #[ ]?[4]?\n",
    "iphone_pat = r\"{}\".format(iphone_pat)\n",
    "re.findall(iphone_pat,sentiments_all,re.I)"
   ]
  },
  {
   "cell_type": "code",
   "execution_count": null,
   "metadata": {},
   "outputs": [],
   "source": [
    "def map_iphone4(text):\n",
    "    iphone4_pat = r\"iphone[ ]+4[s]?\"\n",
    "    return re.sub(iphone4_pat, 'iphone4', text, flags=re.I)"
   ]
  },
  {
   "cell_type": "code",
   "execution_count": null,
   "metadata": {},
   "outputs": [],
   "source": [
    "map_iphone4(\"new iPhone 4 iPhone 4s #iphone iPhone 4\")"
   ]
  },
  {
   "cell_type": "code",
   "execution_count": null,
   "metadata": {},
   "outputs": [],
   "source": []
  }
 ],
 "metadata": {
  "kernelspec": {
   "display_name": "Python 3",
   "language": "python",
   "name": "python3"
  },
  "language_info": {
   "codemirror_mode": {
    "name": "ipython",
    "version": 3
   },
   "file_extension": ".py",
   "mimetype": "text/x-python",
   "name": "python",
   "nbconvert_exporter": "python",
   "pygments_lexer": "ipython3",
   "version": "3.7.3"
  }
 },
 "nbformat": 4,
 "nbformat_minor": 2
}
